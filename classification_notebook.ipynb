{
 "cells": [
  {
   "cell_type": "markdown",
   "id": "47cdb0df",
   "metadata": {},
   "source": [
    "# **Customer Churn Prediction For SyriaTel**"
   ]
  },
  {
   "cell_type": "markdown",
   "id": "4c23553b",
   "metadata": {},
   "source": [
    "## **Stakeholders And Main Problem**"
   ]
  },
  {
   "cell_type": "markdown",
   "id": "c1c0b2ca",
   "metadata": {},
   "source": [
    "Our stakeholder is SyriaTel, a telecommunications company. The goal of this project is to provide SyriaTel with insights into the key factors contributing to customer churn and to build a predictive model that identifies customers at risk of leaving. This will enable SyriaTel to take proactive steps to retain customers and reduce revenue loss.\n"
   ]
  },
  {
   "cell_type": "markdown",
   "id": "a71e0255",
   "metadata": {},
   "source": [
    "## **Project Objectives**"
   ]
  },
  {
   "cell_type": "markdown",
   "id": "9831964b",
   "metadata": {},
   "source": [
    "\n",
    "This project aims to achieve the following:\n",
    "\n",
    "1. Develop a Churn Prediction Model-\n",
    " Build an effective classification model to predict customer churn for SyriaTel.\n",
    "2. Evaluate Model Performance -\n",
    "Assess the model's effectiveness using appropriate metrics for imbalanced data (e.g., Precision, Recall, F1-Score, ROC AUC).\n",
    "3. Identify Key Churn Drivers -\n",
    " Determine which customer attributes and behaviors are most significant in predicting churn.\n",
    "4. Propose Actionable Retention Strategies - \n",
    "Formulate data-driven recommendations for SyriaTel to reduce customer attrition."
   ]
  },
  {
   "cell_type": "markdown",
   "id": "a9b35285",
   "metadata": {},
   "source": [
    "## **Key Business Questions**"
   ]
  },
  {
   "cell_type": "markdown",
   "id": "aaf16ea7",
   "metadata": {},
   "source": [
    "To address the overarching business problem, this project will seek to answer the following key questions:\n",
    "\n",
    "1. Which customers are most likely to churn in the near future?\n",
    "2. What characteristics or behaviors differentiate customers who churn from those who don't?\n",
    "3. How effectively can we predict churn before it happens, and what are the trade-offs of our predictions?\n",
    "4. How can insights from this model inform our customer retention strategies to reduce revenue loss for SyriaTel?"
   ]
  },
  {
   "cell_type": "markdown",
   "id": "bdb3b476",
   "metadata": {},
   "source": [
    "## **Data Understanding And Preparation**"
   ]
  },
  {
   "cell_type": "markdown",
   "id": "52cea5e9",
   "metadata": {},
   "source": [
    "The dataset for this project contains over 3,000 customer records from SyriaTel, a telecommunications provider. Each row represents an individual customer and includes attributes such as demographics, service subscriptions, usage patterns, and customer support interactions. The target variable is “Churn,” indicating whether a customer has discontinued the service. Data was provided in a single CSV file. Initial cleaning involved handling missing values, correcting data types, and encoding categorical variables. Further exploration and feature engineering were performed within the same notebook to prepare the data for modeling.\n"
   ]
  },
  {
   "cell_type": "markdown",
   "id": "01e8cf9f",
   "metadata": {},
   "source": [
    "## **Import Dataset**"
   ]
  },
  {
   "cell_type": "markdown",
   "id": "02e8708b",
   "metadata": {},
   "source": [
    "Dataset located at :\n",
    "\n",
    "[Kaggle](https://www.kaggle.com/datasets/becksddf/churn-in-telecoms-dataset) and imported as a CSV file. It contains over 3,000 records of customer attributes and churn behavior.\n"
   ]
  },
  {
   "cell_type": "markdown",
   "id": "744acf5a",
   "metadata": {},
   "source": [
    "### **Load Dependencies**"
   ]
  },
  {
   "cell_type": "code",
   "execution_count": null,
   "id": "c80d621c",
   "metadata": {},
   "outputs": [],
   "source": [
    "import numpy as np\n",
    "import pandas as pd\n",
    "%matplotlib inline\n",
    "import seaborn as sns\n",
    "import matplotlib.pyplot as plt\n",
    "from imblearn.over_sampling import SMOTE\n",
    "from sklearn.model_selection import GridSearchCV\n",
    "from sklearn.linear_model import LogisticRegression\n",
    "from scipy.stats import ttest_ind, chi2_contingency\n",
    "from sklearn.model_selection import train_test_split\n",
    "from sklearn.metrics import roc_auc_score, make_scorer\n",
    "from sklearn.metrics import classification_report, confusion_matrix, roc_auc_score\n",
    "\n",
    "\n"
   ]
  },
  {
   "cell_type": "code",
   "execution_count": null,
   "id": "60d4329b",
   "metadata": {},
   "outputs": [
    {
     "data": {
      "text/html": [
       "<div>\n",
       "<style scoped>\n",
       "    .dataframe tbody tr th:only-of-type {\n",
       "        vertical-align: middle;\n",
       "    }\n",
       "\n",
       "    .dataframe tbody tr th {\n",
       "        vertical-align: top;\n",
       "    }\n",
       "\n",
       "    .dataframe thead th {\n",
       "        text-align: right;\n",
       "    }\n",
       "</style>\n",
       "<table border=\"1\" class=\"dataframe\">\n",
       "  <thead>\n",
       "    <tr style=\"text-align: right;\">\n",
       "      <th></th>\n",
       "      <th>state</th>\n",
       "      <th>account length</th>\n",
       "      <th>area code</th>\n",
       "      <th>phone number</th>\n",
       "      <th>international plan</th>\n",
       "      <th>voice mail plan</th>\n",
       "      <th>number vmail messages</th>\n",
       "      <th>total day minutes</th>\n",
       "      <th>total day calls</th>\n",
       "      <th>total day charge</th>\n",
       "      <th>...</th>\n",
       "      <th>total eve calls</th>\n",
       "      <th>total eve charge</th>\n",
       "      <th>total night minutes</th>\n",
       "      <th>total night calls</th>\n",
       "      <th>total night charge</th>\n",
       "      <th>total intl minutes</th>\n",
       "      <th>total intl calls</th>\n",
       "      <th>total intl charge</th>\n",
       "      <th>customer service calls</th>\n",
       "      <th>churn</th>\n",
       "    </tr>\n",
       "  </thead>\n",
       "  <tbody>\n",
       "    <tr>\n",
       "      <th>0</th>\n",
       "      <td>KS</td>\n",
       "      <td>128</td>\n",
       "      <td>415</td>\n",
       "      <td>382-4657</td>\n",
       "      <td>no</td>\n",
       "      <td>yes</td>\n",
       "      <td>25</td>\n",
       "      <td>265.1</td>\n",
       "      <td>110</td>\n",
       "      <td>45.07</td>\n",
       "      <td>...</td>\n",
       "      <td>99</td>\n",
       "      <td>16.78</td>\n",
       "      <td>244.7</td>\n",
       "      <td>91</td>\n",
       "      <td>11.01</td>\n",
       "      <td>10.0</td>\n",
       "      <td>3</td>\n",
       "      <td>2.70</td>\n",
       "      <td>1</td>\n",
       "      <td>False</td>\n",
       "    </tr>\n",
       "    <tr>\n",
       "      <th>1</th>\n",
       "      <td>OH</td>\n",
       "      <td>107</td>\n",
       "      <td>415</td>\n",
       "      <td>371-7191</td>\n",
       "      <td>no</td>\n",
       "      <td>yes</td>\n",
       "      <td>26</td>\n",
       "      <td>161.6</td>\n",
       "      <td>123</td>\n",
       "      <td>27.47</td>\n",
       "      <td>...</td>\n",
       "      <td>103</td>\n",
       "      <td>16.62</td>\n",
       "      <td>254.4</td>\n",
       "      <td>103</td>\n",
       "      <td>11.45</td>\n",
       "      <td>13.7</td>\n",
       "      <td>3</td>\n",
       "      <td>3.70</td>\n",
       "      <td>1</td>\n",
       "      <td>False</td>\n",
       "    </tr>\n",
       "    <tr>\n",
       "      <th>2</th>\n",
       "      <td>NJ</td>\n",
       "      <td>137</td>\n",
       "      <td>415</td>\n",
       "      <td>358-1921</td>\n",
       "      <td>no</td>\n",
       "      <td>no</td>\n",
       "      <td>0</td>\n",
       "      <td>243.4</td>\n",
       "      <td>114</td>\n",
       "      <td>41.38</td>\n",
       "      <td>...</td>\n",
       "      <td>110</td>\n",
       "      <td>10.30</td>\n",
       "      <td>162.6</td>\n",
       "      <td>104</td>\n",
       "      <td>7.32</td>\n",
       "      <td>12.2</td>\n",
       "      <td>5</td>\n",
       "      <td>3.29</td>\n",
       "      <td>0</td>\n",
       "      <td>False</td>\n",
       "    </tr>\n",
       "    <tr>\n",
       "      <th>3</th>\n",
       "      <td>OH</td>\n",
       "      <td>84</td>\n",
       "      <td>408</td>\n",
       "      <td>375-9999</td>\n",
       "      <td>yes</td>\n",
       "      <td>no</td>\n",
       "      <td>0</td>\n",
       "      <td>299.4</td>\n",
       "      <td>71</td>\n",
       "      <td>50.90</td>\n",
       "      <td>...</td>\n",
       "      <td>88</td>\n",
       "      <td>5.26</td>\n",
       "      <td>196.9</td>\n",
       "      <td>89</td>\n",
       "      <td>8.86</td>\n",
       "      <td>6.6</td>\n",
       "      <td>7</td>\n",
       "      <td>1.78</td>\n",
       "      <td>2</td>\n",
       "      <td>False</td>\n",
       "    </tr>\n",
       "    <tr>\n",
       "      <th>4</th>\n",
       "      <td>OK</td>\n",
       "      <td>75</td>\n",
       "      <td>415</td>\n",
       "      <td>330-6626</td>\n",
       "      <td>yes</td>\n",
       "      <td>no</td>\n",
       "      <td>0</td>\n",
       "      <td>166.7</td>\n",
       "      <td>113</td>\n",
       "      <td>28.34</td>\n",
       "      <td>...</td>\n",
       "      <td>122</td>\n",
       "      <td>12.61</td>\n",
       "      <td>186.9</td>\n",
       "      <td>121</td>\n",
       "      <td>8.41</td>\n",
       "      <td>10.1</td>\n",
       "      <td>3</td>\n",
       "      <td>2.73</td>\n",
       "      <td>3</td>\n",
       "      <td>False</td>\n",
       "    </tr>\n",
       "  </tbody>\n",
       "</table>\n",
       "<p>5 rows × 21 columns</p>\n",
       "</div>"
      ],
      "text/plain": [
       "  state  account length  area code phone number international plan  \\\n",
       "0    KS             128        415     382-4657                 no   \n",
       "1    OH             107        415     371-7191                 no   \n",
       "2    NJ             137        415     358-1921                 no   \n",
       "3    OH              84        408     375-9999                yes   \n",
       "4    OK              75        415     330-6626                yes   \n",
       "\n",
       "  voice mail plan  number vmail messages  total day minutes  total day calls  \\\n",
       "0             yes                     25              265.1              110   \n",
       "1             yes                     26              161.6              123   \n",
       "2              no                      0              243.4              114   \n",
       "3              no                      0              299.4               71   \n",
       "4              no                      0              166.7              113   \n",
       "\n",
       "   total day charge  ...  total eve calls  total eve charge  \\\n",
       "0             45.07  ...               99             16.78   \n",
       "1             27.47  ...              103             16.62   \n",
       "2             41.38  ...              110             10.30   \n",
       "3             50.90  ...               88              5.26   \n",
       "4             28.34  ...              122             12.61   \n",
       "\n",
       "   total night minutes  total night calls  total night charge  \\\n",
       "0                244.7                 91               11.01   \n",
       "1                254.4                103               11.45   \n",
       "2                162.6                104                7.32   \n",
       "3                196.9                 89                8.86   \n",
       "4                186.9                121                8.41   \n",
       "\n",
       "   total intl minutes  total intl calls  total intl charge  \\\n",
       "0                10.0                 3               2.70   \n",
       "1                13.7                 3               3.70   \n",
       "2                12.2                 5               3.29   \n",
       "3                 6.6                 7               1.78   \n",
       "4                10.1                 3               2.73   \n",
       "\n",
       "   customer service calls  churn  \n",
       "0                       1  False  \n",
       "1                       1  False  \n",
       "2                       0  False  \n",
       "3                       2  False  \n",
       "4                       3  False  \n",
       "\n",
       "[5 rows x 21 columns]"
      ]
     },
     "execution_count": 38,
     "metadata": {},
     "output_type": "execute_result"
    }
   ],
   "source": [
    "# Load the data\n",
    "df = pd.read_csv('data/churn.csv')\n",
    "\n",
    "\n",
    "# Preview the first few rows\n",
    "df.head()"
   ]
  },
  {
   "cell_type": "markdown",
   "id": "8144561c",
   "metadata": {},
   "source": [
    "## **Data Understanding**\n",
    "\n",
    "Let's begin Data Understanding phase by exploring the dataset."
   ]
  },
  {
   "cell_type": "code",
   "execution_count": null,
   "id": "43f5236d",
   "metadata": {},
   "outputs": [
    {
     "name": "stdout",
     "output_type": "stream",
     "text": [
      "<class 'pandas.core.frame.DataFrame'>\n",
      "RangeIndex: 3333 entries, 0 to 3332\n",
      "Data columns (total 21 columns):\n",
      " #   Column                  Non-Null Count  Dtype  \n",
      "---  ------                  --------------  -----  \n",
      " 0   state                   3333 non-null   object \n",
      " 1   account length          3333 non-null   int64  \n",
      " 2   area code               3333 non-null   int64  \n",
      " 3   phone number            3333 non-null   object \n",
      " 4   international plan      3333 non-null   object \n",
      " 5   voice mail plan         3333 non-null   object \n",
      " 6   number vmail messages   3333 non-null   int64  \n",
      " 7   total day minutes       3333 non-null   float64\n",
      " 8   total day calls         3333 non-null   int64  \n",
      " 9   total day charge        3333 non-null   float64\n",
      " 10  total eve minutes       3333 non-null   float64\n",
      " 11  total eve calls         3333 non-null   int64  \n",
      " 12  total eve charge        3333 non-null   float64\n",
      " 13  total night minutes     3333 non-null   float64\n",
      " 14  total night calls       3333 non-null   int64  \n",
      " 15  total night charge      3333 non-null   float64\n",
      " 16  total intl minutes      3333 non-null   float64\n",
      " 17  total intl calls        3333 non-null   int64  \n",
      " 18  total intl charge       3333 non-null   float64\n",
      " 19  customer service calls  3333 non-null   int64  \n",
      " 20  churn                   3333 non-null   bool   \n",
      "dtypes: bool(1), float64(8), int64(8), object(4)\n",
      "memory usage: 524.2+ KB\n"
     ]
    }
   ],
   "source": [
    "# Display information about the dataframe\n",
    "df.info()"
   ]
  },
  {
   "cell_type": "code",
   "execution_count": 40,
   "id": "ca13da73",
   "metadata": {},
   "outputs": [
    {
     "data": {
      "text/html": [
       "<div>\n",
       "<style scoped>\n",
       "    .dataframe tbody tr th:only-of-type {\n",
       "        vertical-align: middle;\n",
       "    }\n",
       "\n",
       "    .dataframe tbody tr th {\n",
       "        vertical-align: top;\n",
       "    }\n",
       "\n",
       "    .dataframe thead th {\n",
       "        text-align: right;\n",
       "    }\n",
       "</style>\n",
       "<table border=\"1\" class=\"dataframe\">\n",
       "  <thead>\n",
       "    <tr style=\"text-align: right;\">\n",
       "      <th></th>\n",
       "      <th>account length</th>\n",
       "      <th>area code</th>\n",
       "      <th>number vmail messages</th>\n",
       "      <th>total day minutes</th>\n",
       "      <th>total day calls</th>\n",
       "      <th>total day charge</th>\n",
       "      <th>total eve minutes</th>\n",
       "      <th>total eve calls</th>\n",
       "      <th>total eve charge</th>\n",
       "      <th>total night minutes</th>\n",
       "      <th>total night calls</th>\n",
       "      <th>total night charge</th>\n",
       "      <th>total intl minutes</th>\n",
       "      <th>total intl calls</th>\n",
       "      <th>total intl charge</th>\n",
       "      <th>customer service calls</th>\n",
       "    </tr>\n",
       "  </thead>\n",
       "  <tbody>\n",
       "    <tr>\n",
       "      <th>count</th>\n",
       "      <td>3333.000000</td>\n",
       "      <td>3333.000000</td>\n",
       "      <td>3333.000000</td>\n",
       "      <td>3333.000000</td>\n",
       "      <td>3333.000000</td>\n",
       "      <td>3333.000000</td>\n",
       "      <td>3333.000000</td>\n",
       "      <td>3333.000000</td>\n",
       "      <td>3333.000000</td>\n",
       "      <td>3333.000000</td>\n",
       "      <td>3333.000000</td>\n",
       "      <td>3333.000000</td>\n",
       "      <td>3333.000000</td>\n",
       "      <td>3333.000000</td>\n",
       "      <td>3333.000000</td>\n",
       "      <td>3333.000000</td>\n",
       "    </tr>\n",
       "    <tr>\n",
       "      <th>mean</th>\n",
       "      <td>101.064806</td>\n",
       "      <td>437.182418</td>\n",
       "      <td>8.099010</td>\n",
       "      <td>179.775098</td>\n",
       "      <td>100.435644</td>\n",
       "      <td>30.562307</td>\n",
       "      <td>200.980348</td>\n",
       "      <td>100.114311</td>\n",
       "      <td>17.083540</td>\n",
       "      <td>200.872037</td>\n",
       "      <td>100.107711</td>\n",
       "      <td>9.039325</td>\n",
       "      <td>10.237294</td>\n",
       "      <td>4.479448</td>\n",
       "      <td>2.764581</td>\n",
       "      <td>1.562856</td>\n",
       "    </tr>\n",
       "    <tr>\n",
       "      <th>std</th>\n",
       "      <td>39.822106</td>\n",
       "      <td>42.371290</td>\n",
       "      <td>13.688365</td>\n",
       "      <td>54.467389</td>\n",
       "      <td>20.069084</td>\n",
       "      <td>9.259435</td>\n",
       "      <td>50.713844</td>\n",
       "      <td>19.922625</td>\n",
       "      <td>4.310668</td>\n",
       "      <td>50.573847</td>\n",
       "      <td>19.568609</td>\n",
       "      <td>2.275873</td>\n",
       "      <td>2.791840</td>\n",
       "      <td>2.461214</td>\n",
       "      <td>0.753773</td>\n",
       "      <td>1.315491</td>\n",
       "    </tr>\n",
       "    <tr>\n",
       "      <th>min</th>\n",
       "      <td>1.000000</td>\n",
       "      <td>408.000000</td>\n",
       "      <td>0.000000</td>\n",
       "      <td>0.000000</td>\n",
       "      <td>0.000000</td>\n",
       "      <td>0.000000</td>\n",
       "      <td>0.000000</td>\n",
       "      <td>0.000000</td>\n",
       "      <td>0.000000</td>\n",
       "      <td>23.200000</td>\n",
       "      <td>33.000000</td>\n",
       "      <td>1.040000</td>\n",
       "      <td>0.000000</td>\n",
       "      <td>0.000000</td>\n",
       "      <td>0.000000</td>\n",
       "      <td>0.000000</td>\n",
       "    </tr>\n",
       "    <tr>\n",
       "      <th>25%</th>\n",
       "      <td>74.000000</td>\n",
       "      <td>408.000000</td>\n",
       "      <td>0.000000</td>\n",
       "      <td>143.700000</td>\n",
       "      <td>87.000000</td>\n",
       "      <td>24.430000</td>\n",
       "      <td>166.600000</td>\n",
       "      <td>87.000000</td>\n",
       "      <td>14.160000</td>\n",
       "      <td>167.000000</td>\n",
       "      <td>87.000000</td>\n",
       "      <td>7.520000</td>\n",
       "      <td>8.500000</td>\n",
       "      <td>3.000000</td>\n",
       "      <td>2.300000</td>\n",
       "      <td>1.000000</td>\n",
       "    </tr>\n",
       "    <tr>\n",
       "      <th>50%</th>\n",
       "      <td>101.000000</td>\n",
       "      <td>415.000000</td>\n",
       "      <td>0.000000</td>\n",
       "      <td>179.400000</td>\n",
       "      <td>101.000000</td>\n",
       "      <td>30.500000</td>\n",
       "      <td>201.400000</td>\n",
       "      <td>100.000000</td>\n",
       "      <td>17.120000</td>\n",
       "      <td>201.200000</td>\n",
       "      <td>100.000000</td>\n",
       "      <td>9.050000</td>\n",
       "      <td>10.300000</td>\n",
       "      <td>4.000000</td>\n",
       "      <td>2.780000</td>\n",
       "      <td>1.000000</td>\n",
       "    </tr>\n",
       "    <tr>\n",
       "      <th>75%</th>\n",
       "      <td>127.000000</td>\n",
       "      <td>510.000000</td>\n",
       "      <td>20.000000</td>\n",
       "      <td>216.400000</td>\n",
       "      <td>114.000000</td>\n",
       "      <td>36.790000</td>\n",
       "      <td>235.300000</td>\n",
       "      <td>114.000000</td>\n",
       "      <td>20.000000</td>\n",
       "      <td>235.300000</td>\n",
       "      <td>113.000000</td>\n",
       "      <td>10.590000</td>\n",
       "      <td>12.100000</td>\n",
       "      <td>6.000000</td>\n",
       "      <td>3.270000</td>\n",
       "      <td>2.000000</td>\n",
       "    </tr>\n",
       "    <tr>\n",
       "      <th>max</th>\n",
       "      <td>243.000000</td>\n",
       "      <td>510.000000</td>\n",
       "      <td>51.000000</td>\n",
       "      <td>350.800000</td>\n",
       "      <td>165.000000</td>\n",
       "      <td>59.640000</td>\n",
       "      <td>363.700000</td>\n",
       "      <td>170.000000</td>\n",
       "      <td>30.910000</td>\n",
       "      <td>395.000000</td>\n",
       "      <td>175.000000</td>\n",
       "      <td>17.770000</td>\n",
       "      <td>20.000000</td>\n",
       "      <td>20.000000</td>\n",
       "      <td>5.400000</td>\n",
       "      <td>9.000000</td>\n",
       "    </tr>\n",
       "  </tbody>\n",
       "</table>\n",
       "</div>"
      ],
      "text/plain": [
       "       account length    area code  number vmail messages  total day minutes  \\\n",
       "count     3333.000000  3333.000000            3333.000000        3333.000000   \n",
       "mean       101.064806   437.182418               8.099010         179.775098   \n",
       "std         39.822106    42.371290              13.688365          54.467389   \n",
       "min          1.000000   408.000000               0.000000           0.000000   \n",
       "25%         74.000000   408.000000               0.000000         143.700000   \n",
       "50%        101.000000   415.000000               0.000000         179.400000   \n",
       "75%        127.000000   510.000000              20.000000         216.400000   \n",
       "max        243.000000   510.000000              51.000000         350.800000   \n",
       "\n",
       "       total day calls  total day charge  total eve minutes  total eve calls  \\\n",
       "count      3333.000000       3333.000000        3333.000000      3333.000000   \n",
       "mean        100.435644         30.562307         200.980348       100.114311   \n",
       "std          20.069084          9.259435          50.713844        19.922625   \n",
       "min           0.000000          0.000000           0.000000         0.000000   \n",
       "25%          87.000000         24.430000         166.600000        87.000000   \n",
       "50%         101.000000         30.500000         201.400000       100.000000   \n",
       "75%         114.000000         36.790000         235.300000       114.000000   \n",
       "max         165.000000         59.640000         363.700000       170.000000   \n",
       "\n",
       "       total eve charge  total night minutes  total night calls  \\\n",
       "count       3333.000000          3333.000000        3333.000000   \n",
       "mean          17.083540           200.872037         100.107711   \n",
       "std            4.310668            50.573847          19.568609   \n",
       "min            0.000000            23.200000          33.000000   \n",
       "25%           14.160000           167.000000          87.000000   \n",
       "50%           17.120000           201.200000         100.000000   \n",
       "75%           20.000000           235.300000         113.000000   \n",
       "max           30.910000           395.000000         175.000000   \n",
       "\n",
       "       total night charge  total intl minutes  total intl calls  \\\n",
       "count         3333.000000         3333.000000       3333.000000   \n",
       "mean             9.039325           10.237294          4.479448   \n",
       "std              2.275873            2.791840          2.461214   \n",
       "min              1.040000            0.000000          0.000000   \n",
       "25%              7.520000            8.500000          3.000000   \n",
       "50%              9.050000           10.300000          4.000000   \n",
       "75%             10.590000           12.100000          6.000000   \n",
       "max             17.770000           20.000000         20.000000   \n",
       "\n",
       "       total intl charge  customer service calls  \n",
       "count        3333.000000             3333.000000  \n",
       "mean            2.764581                1.562856  \n",
       "std             0.753773                1.315491  \n",
       "min             0.000000                0.000000  \n",
       "25%             2.300000                1.000000  \n",
       "50%             2.780000                1.000000  \n",
       "75%             3.270000                2.000000  \n",
       "max             5.400000                9.000000  "
      ]
     },
     "metadata": {},
     "output_type": "display_data"
    }
   ],
   "source": [
    "# Display descriptive statistics for numerical columns\n",
    "display(df.describe())"
   ]
  },
  {
   "cell_type": "code",
   "execution_count": 41,
   "id": "994d866a",
   "metadata": {},
   "outputs": [
    {
     "data": {
      "text/plain": [
       "churn\n",
       "False    2850\n",
       "True      483\n",
       "Name: count, dtype: int64"
      ]
     },
     "metadata": {},
     "output_type": "display_data"
    }
   ],
   "source": [
    "# Display the distribution of the 'churn' variable\n",
    "display(df['churn'].value_counts())"
   ]
  },
  {
   "cell_type": "markdown",
   "id": "449c4829",
   "metadata": {},
   "source": [
    "### Observation:\n",
    "The target variable `churn` is imbalanced, with a majority of customers not churning. This imbalance may impact model performance and will need to be addressed during model training and evaluation.\n"
   ]
  },
  {
   "cell_type": "markdown",
   "id": "e19ae368",
   "metadata": {},
   "source": [
    "### **Exploring Categorical Feature Distributions**\n"
   ]
  },
  {
   "cell_type": "code",
   "execution_count": 42,
   "id": "648150c2",
   "metadata": {},
   "outputs": [
    {
     "name": "stdout",
     "output_type": "stream",
     "text": [
      "Distribution of 'state':\n"
     ]
    },
    {
     "data": {
      "text/plain": [
       "state\n",
       "WV    106\n",
       "MN     84\n",
       "NY     83\n",
       "AL     80\n",
       "OH     78\n",
       "WI     78\n",
       "OR     78\n",
       "WY     77\n",
       "VA     77\n",
       "CT     74\n",
       "ID     73\n",
       "MI     73\n",
       "VT     73\n",
       "TX     72\n",
       "UT     72\n",
       "IN     71\n",
       "MD     70\n",
       "KS     70\n",
       "NJ     68\n",
       "NC     68\n",
       "MT     68\n",
       "WA     66\n",
       "CO     66\n",
       "NV     66\n",
       "MS     65\n",
       "MA     65\n",
       "RI     65\n",
       "AZ     64\n",
       "MO     63\n",
       "FL     63\n",
       "NM     62\n",
       "ME     62\n",
       "ND     62\n",
       "OK     61\n",
       "NE     61\n",
       "DE     61\n",
       "SD     60\n",
       "SC     60\n",
       "KY     59\n",
       "IL     58\n",
       "NH     56\n",
       "AR     55\n",
       "DC     54\n",
       "GA     54\n",
       "HI     53\n",
       "TN     53\n",
       "AK     52\n",
       "LA     51\n",
       "PA     45\n",
       "IA     44\n",
       "CA     34\n",
       "Name: count, dtype: int64"
      ]
     },
     "metadata": {},
     "output_type": "display_data"
    },
    {
     "name": "stdout",
     "output_type": "stream",
     "text": [
      "\n",
      "Distribution of 'area code':\n"
     ]
    },
    {
     "data": {
      "text/plain": [
       "area code\n",
       "415    1655\n",
       "510     840\n",
       "408     838\n",
       "Name: count, dtype: int64"
      ]
     },
     "metadata": {},
     "output_type": "display_data"
    },
    {
     "name": "stdout",
     "output_type": "stream",
     "text": [
      "\n",
      "Distribution of 'international plan':\n"
     ]
    },
    {
     "data": {
      "text/plain": [
       "international plan\n",
       "no     3010\n",
       "yes     323\n",
       "Name: count, dtype: int64"
      ]
     },
     "metadata": {},
     "output_type": "display_data"
    },
    {
     "name": "stdout",
     "output_type": "stream",
     "text": [
      "\n",
      "Distribution of 'voice mail plan':\n"
     ]
    },
    {
     "data": {
      "text/plain": [
       "voice mail plan\n",
       "no     2411\n",
       "yes     922\n",
       "Name: count, dtype: int64"
      ]
     },
     "metadata": {},
     "output_type": "display_data"
    }
   ],
   "source": [
    "# Display the distribution of categorical columns\n",
    "print(\"Distribution of 'state':\")\n",
    "display(df['state'].value_counts())\n",
    "\n",
    "print(\"\\nDistribution of 'area code':\")\n",
    "display(df['area code'].value_counts())\n",
    "\n",
    "print(\"\\nDistribution of 'international plan':\")\n",
    "display(df['international plan'].value_counts())\n",
    "\n",
    "print(\"\\nDistribution of 'voice mail plan':\")\n",
    "display(df['voice mail plan'].value_counts())"
   ]
  },
  {
   "cell_type": "markdown",
   "id": "6ca29506",
   "metadata": {},
   "source": [
    "### Summary of Categorical Feature Distributions\n",
    "\n",
    "- The **'state'** feature is fairly spread out across many states, though some states (e.g., WV, MN, NY) have slightly higher representation.\n",
    "- The **'area code'** feature is limited to three main codes: 415, 510, and 408, with 415 being the most common.\n",
    "- The **'international plan'** and **'voice mail plan'** features indicate that the majority of customers do **not** subscribe to these plans.\n",
    "- These imbalances may influence churn behavior and will be important to monitor during modeling and feature importance evaluation.\n"
   ]
  },
  {
   "cell_type": "markdown",
   "id": "1bb2db02",
   "metadata": {},
   "source": [
    "### **Relationship Between Categorical Features And Churn**"
   ]
  },
  {
   "cell_type": "code",
   "execution_count": 43,
   "id": "da181ae3",
   "metadata": {},
   "outputs": [
    {
     "name": "stdout",
     "output_type": "stream",
     "text": [
      "Churn rate by 'international plan':\n"
     ]
    },
    {
     "data": {
      "text/html": [
       "<div>\n",
       "<style scoped>\n",
       "    .dataframe tbody tr th:only-of-type {\n",
       "        vertical-align: middle;\n",
       "    }\n",
       "\n",
       "    .dataframe tbody tr th {\n",
       "        vertical-align: top;\n",
       "    }\n",
       "\n",
       "    .dataframe thead th {\n",
       "        text-align: right;\n",
       "    }\n",
       "</style>\n",
       "<table border=\"1\" class=\"dataframe\">\n",
       "  <thead>\n",
       "    <tr style=\"text-align: right;\">\n",
       "      <th>churn</th>\n",
       "      <th>False</th>\n",
       "      <th>True</th>\n",
       "    </tr>\n",
       "    <tr>\n",
       "      <th>international plan</th>\n",
       "      <th></th>\n",
       "      <th></th>\n",
       "    </tr>\n",
       "  </thead>\n",
       "  <tbody>\n",
       "    <tr>\n",
       "      <th>no</th>\n",
       "      <td>0.885050</td>\n",
       "      <td>0.114950</td>\n",
       "    </tr>\n",
       "    <tr>\n",
       "      <th>yes</th>\n",
       "      <td>0.575851</td>\n",
       "      <td>0.424149</td>\n",
       "    </tr>\n",
       "  </tbody>\n",
       "</table>\n",
       "</div>"
      ],
      "text/plain": [
       "churn                  False     True \n",
       "international plan                    \n",
       "no                  0.885050  0.114950\n",
       "yes                 0.575851  0.424149"
      ]
     },
     "metadata": {},
     "output_type": "display_data"
    },
    {
     "name": "stdout",
     "output_type": "stream",
     "text": [
      "\n",
      "Churn rate by 'voice mail plan':\n"
     ]
    },
    {
     "data": {
      "text/html": [
       "<div>\n",
       "<style scoped>\n",
       "    .dataframe tbody tr th:only-of-type {\n",
       "        vertical-align: middle;\n",
       "    }\n",
       "\n",
       "    .dataframe tbody tr th {\n",
       "        vertical-align: top;\n",
       "    }\n",
       "\n",
       "    .dataframe thead th {\n",
       "        text-align: right;\n",
       "    }\n",
       "</style>\n",
       "<table border=\"1\" class=\"dataframe\">\n",
       "  <thead>\n",
       "    <tr style=\"text-align: right;\">\n",
       "      <th>churn</th>\n",
       "      <th>False</th>\n",
       "      <th>True</th>\n",
       "    </tr>\n",
       "    <tr>\n",
       "      <th>voice mail plan</th>\n",
       "      <th></th>\n",
       "      <th></th>\n",
       "    </tr>\n",
       "  </thead>\n",
       "  <tbody>\n",
       "    <tr>\n",
       "      <th>no</th>\n",
       "      <td>0.832849</td>\n",
       "      <td>0.167151</td>\n",
       "    </tr>\n",
       "    <tr>\n",
       "      <th>yes</th>\n",
       "      <td>0.913232</td>\n",
       "      <td>0.086768</td>\n",
       "    </tr>\n",
       "  </tbody>\n",
       "</table>\n",
       "</div>"
      ],
      "text/plain": [
       "churn               False     True \n",
       "voice mail plan                    \n",
       "no               0.832849  0.167151\n",
       "yes              0.913232  0.086768"
      ]
     },
     "metadata": {},
     "output_type": "display_data"
    }
   ],
   "source": [
    "# Relationship between 'international plan' and 'churn'\n",
    "print(\"Churn rate by 'international plan':\")\n",
    "display(df.groupby('international plan')['churn'].value_counts(normalize=True).unstack())\n",
    "\n",
    "# Relationship between 'voice mail plan' and 'churn'\n",
    "print(\"\\nChurn rate by 'voice mail plan':\")\n",
    "display(df.groupby('voice mail plan')['churn'].value_counts(normalize=True).unstack())"
   ]
  },
  {
   "cell_type": "markdown",
   "id": "bf791d20",
   "metadata": {},
   "source": [
    "We examined the relationship between churn and two categorical variables: `international plan` and `voice mail plan`.\n",
    "\n",
    "- **International Plan**: Customers with an international plan show a much higher churn rate (42.4%) than those without (11.5%). This suggests a strong positive association between having an international plan and likelihood of churn.\n",
    "  \n",
    "- **Voice Mail Plan**: Customers with a voice mail plan churn less (8.7%) compared to those without one (16.7%), suggesting a potential protective effect.\n",
    "\n",
    "These insights highlight customer segments that may need targeted retention strategies.\n"
   ]
  },
  {
   "cell_type": "markdown",
   "id": "df58ab62",
   "metadata": {},
   "source": [
    "### **Churn Rate By International Plan And Voice Mail Plan**"
   ]
  },
  {
   "cell_type": "code",
   "execution_count": 44,
   "id": "abf0bfef",
   "metadata": {},
   "outputs": [
    {
     "name": "stderr",
     "output_type": "stream",
     "text": [
      "C:\\Users\\Admin\\AppData\\Local\\Temp\\ipykernel_1752\\99544453.py:6: FutureWarning: \n",
      "\n",
      "The `ci` parameter is deprecated. Use `errorbar=None` for the same effect.\n",
      "\n",
      "  sns.barplot(x='international plan', y='churn', data=df, ci=None)\n"
     ]
    },
    {
     "data": {
      "image/png": "[encoded data removed]",
      "text/plain": [
       "<Figure size 600x400 with 1 Axes>"
      ]
     },
     "metadata": {},
     "output_type": "display_data"
    },
    {
     "name": "stderr",
     "output_type": "stream",
     "text": [
      "C:\\Users\\Admin\\AppData\\Local\\Temp\\ipykernel_1752\\99544453.py:13: FutureWarning: \n",
      "\n",
      "The `ci` parameter is deprecated. Use `errorbar=None` for the same effect.\n",
      "\n",
      "  sns.barplot(x='voice mail plan', y='churn', data=df, ci=None)\n"
     ]
    },
    {
     "data": {
      "image/png": "[encoded data removed]",
      "text/plain": [
       "<Figure size 600x400 with 1 Axes>"
      ]
     },
     "metadata": {},
     "output_type": "display_data"
    }
   ],
   "source": [
    "\n",
    "# Set style for plots\n",
    "sns.set_style(\"whitegrid\")\n",
    "\n",
    "# Plot churn rate by 'international plan'\n",
    "plt.figure(figsize=(6, 4))\n",
    "sns.barplot(x='international plan', y='churn', data=df, ci=None)\n",
    "plt.title('Churn Rate by International Plan')\n",
    "plt.ylabel('Churn Rate')\n",
    "plt.show()\n",
    "\n",
    "# Plot churn rate by 'voice mail plan'\n",
    "plt.figure(figsize=(6, 4))\n",
    "sns.barplot(x='voice mail plan', y='churn', data=df, ci=None)\n",
    "plt.title('Churn Rate by Voice Mail Plan')\n",
    "plt.ylabel('Churn Rate')\n",
    "plt.show()"
   ]
  },
  {
   "cell_type": "markdown",
   "id": "889b9bc1",
   "metadata": {},
   "source": [
    "###  Summary: Relationship Between Plans and Churn\n",
    "\n",
    "An analysis of churn rates across the **'international plan'** and **'voice mail plan'** features revealed key differences:\n",
    "\n",
    "- **International Plan**:\n",
    "  - Customers **with** an international plan have a **higher churn rate** (**42.4%**).\n",
    "  - Customers **without** an international plan have a much **lower churn rate** (**11.5%**).\n",
    "  - ➤ This indicates that subscribing to the international plan is a strong churn signal.\n",
    "\n",
    "- **Voice Mail Plan**:\n",
    "  - Customers **with** a voice mail plan churn **less** (**8.7%**).\n",
    "  - Customers **without** a voice mail plan churn **more** (**16.7%**).\n",
    "  - ➤ This suggests that voice mail features may be linked to higher customer satisfaction or retention.\n",
    "\n",
    "**Conclusion**: Both features are potentially valuable predictors of churn and should be considered during feature selection and modeling.\n"
   ]
  },
  {
   "cell_type": "markdown",
   "id": "e59a9a97",
   "metadata": {},
   "source": [
    "### **Churn Rate by State and Area Code**"
   ]
  },
  {
   "cell_type": "code",
   "execution_count": 45,
   "id": "60bc8aa1",
   "metadata": {},
   "outputs": [
    {
     "name": "stdout",
     "output_type": "stream",
     "text": [
      "Churn rate by 'state':\n"
     ]
    },
    {
     "data": {
      "text/html": [
       "<div>\n",
       "<style scoped>\n",
       "    .dataframe tbody tr th:only-of-type {\n",
       "        vertical-align: middle;\n",
       "    }\n",
       "\n",
       "    .dataframe tbody tr th {\n",
       "        vertical-align: top;\n",
       "    }\n",
       "\n",
       "    .dataframe thead th {\n",
       "        text-align: right;\n",
       "    }\n",
       "</style>\n",
       "<table border=\"1\" class=\"dataframe\">\n",
       "  <thead>\n",
       "    <tr style=\"text-align: right;\">\n",
       "      <th>churn</th>\n",
       "      <th>False</th>\n",
       "      <th>True</th>\n",
       "    </tr>\n",
       "    <tr>\n",
       "      <th>state</th>\n",
       "      <th></th>\n",
       "      <th></th>\n",
       "    </tr>\n",
       "  </thead>\n",
       "  <tbody>\n",
       "    <tr>\n",
       "      <th>AK</th>\n",
       "      <td>0.942308</td>\n",
       "      <td>0.057692</td>\n",
       "    </tr>\n",
       "    <tr>\n",
       "      <th>AL</th>\n",
       "      <td>0.900000</td>\n",
       "      <td>0.100000</td>\n",
       "    </tr>\n",
       "    <tr>\n",
       "      <th>AR</th>\n",
       "      <td>0.800000</td>\n",
       "      <td>0.200000</td>\n",
       "    </tr>\n",
       "    <tr>\n",
       "      <th>AZ</th>\n",
       "      <td>0.937500</td>\n",
       "      <td>0.062500</td>\n",
       "    </tr>\n",
       "    <tr>\n",
       "      <th>CA</th>\n",
       "      <td>0.735294</td>\n",
       "      <td>0.264706</td>\n",
       "    </tr>\n",
       "    <tr>\n",
       "      <th>CO</th>\n",
       "      <td>0.863636</td>\n",
       "      <td>0.136364</td>\n",
       "    </tr>\n",
       "    <tr>\n",
       "      <th>CT</th>\n",
       "      <td>0.837838</td>\n",
       "      <td>0.162162</td>\n",
       "    </tr>\n",
       "    <tr>\n",
       "      <th>DC</th>\n",
       "      <td>0.907407</td>\n",
       "      <td>0.092593</td>\n",
       "    </tr>\n",
       "    <tr>\n",
       "      <th>DE</th>\n",
       "      <td>0.852459</td>\n",
       "      <td>0.147541</td>\n",
       "    </tr>\n",
       "    <tr>\n",
       "      <th>FL</th>\n",
       "      <td>0.873016</td>\n",
       "      <td>0.126984</td>\n",
       "    </tr>\n",
       "    <tr>\n",
       "      <th>GA</th>\n",
       "      <td>0.851852</td>\n",
       "      <td>0.148148</td>\n",
       "    </tr>\n",
       "    <tr>\n",
       "      <th>HI</th>\n",
       "      <td>0.943396</td>\n",
       "      <td>0.056604</td>\n",
       "    </tr>\n",
       "    <tr>\n",
       "      <th>IA</th>\n",
       "      <td>0.931818</td>\n",
       "      <td>0.068182</td>\n",
       "    </tr>\n",
       "    <tr>\n",
       "      <th>ID</th>\n",
       "      <td>0.876712</td>\n",
       "      <td>0.123288</td>\n",
       "    </tr>\n",
       "    <tr>\n",
       "      <th>IL</th>\n",
       "      <td>0.913793</td>\n",
       "      <td>0.086207</td>\n",
       "    </tr>\n",
       "    <tr>\n",
       "      <th>IN</th>\n",
       "      <td>0.873239</td>\n",
       "      <td>0.126761</td>\n",
       "    </tr>\n",
       "    <tr>\n",
       "      <th>KS</th>\n",
       "      <td>0.814286</td>\n",
       "      <td>0.185714</td>\n",
       "    </tr>\n",
       "    <tr>\n",
       "      <th>KY</th>\n",
       "      <td>0.864407</td>\n",
       "      <td>0.135593</td>\n",
       "    </tr>\n",
       "    <tr>\n",
       "      <th>LA</th>\n",
       "      <td>0.921569</td>\n",
       "      <td>0.078431</td>\n",
       "    </tr>\n",
       "    <tr>\n",
       "      <th>MA</th>\n",
       "      <td>0.830769</td>\n",
       "      <td>0.169231</td>\n",
       "    </tr>\n",
       "    <tr>\n",
       "      <th>MD</th>\n",
       "      <td>0.757143</td>\n",
       "      <td>0.242857</td>\n",
       "    </tr>\n",
       "    <tr>\n",
       "      <th>ME</th>\n",
       "      <td>0.790323</td>\n",
       "      <td>0.209677</td>\n",
       "    </tr>\n",
       "    <tr>\n",
       "      <th>MI</th>\n",
       "      <td>0.780822</td>\n",
       "      <td>0.219178</td>\n",
       "    </tr>\n",
       "    <tr>\n",
       "      <th>MN</th>\n",
       "      <td>0.821429</td>\n",
       "      <td>0.178571</td>\n",
       "    </tr>\n",
       "    <tr>\n",
       "      <th>MO</th>\n",
       "      <td>0.888889</td>\n",
       "      <td>0.111111</td>\n",
       "    </tr>\n",
       "    <tr>\n",
       "      <th>MS</th>\n",
       "      <td>0.784615</td>\n",
       "      <td>0.215385</td>\n",
       "    </tr>\n",
       "    <tr>\n",
       "      <th>MT</th>\n",
       "      <td>0.794118</td>\n",
       "      <td>0.205882</td>\n",
       "    </tr>\n",
       "    <tr>\n",
       "      <th>NC</th>\n",
       "      <td>0.838235</td>\n",
       "      <td>0.161765</td>\n",
       "    </tr>\n",
       "    <tr>\n",
       "      <th>ND</th>\n",
       "      <td>0.903226</td>\n",
       "      <td>0.096774</td>\n",
       "    </tr>\n",
       "    <tr>\n",
       "      <th>NE</th>\n",
       "      <td>0.918033</td>\n",
       "      <td>0.081967</td>\n",
       "    </tr>\n",
       "    <tr>\n",
       "      <th>NH</th>\n",
       "      <td>0.839286</td>\n",
       "      <td>0.160714</td>\n",
       "    </tr>\n",
       "    <tr>\n",
       "      <th>NJ</th>\n",
       "      <td>0.735294</td>\n",
       "      <td>0.264706</td>\n",
       "    </tr>\n",
       "    <tr>\n",
       "      <th>NM</th>\n",
       "      <td>0.903226</td>\n",
       "      <td>0.096774</td>\n",
       "    </tr>\n",
       "    <tr>\n",
       "      <th>NV</th>\n",
       "      <td>0.787879</td>\n",
       "      <td>0.212121</td>\n",
       "    </tr>\n",
       "    <tr>\n",
       "      <th>NY</th>\n",
       "      <td>0.819277</td>\n",
       "      <td>0.180723</td>\n",
       "    </tr>\n",
       "    <tr>\n",
       "      <th>OH</th>\n",
       "      <td>0.871795</td>\n",
       "      <td>0.128205</td>\n",
       "    </tr>\n",
       "    <tr>\n",
       "      <th>OK</th>\n",
       "      <td>0.852459</td>\n",
       "      <td>0.147541</td>\n",
       "    </tr>\n",
       "    <tr>\n",
       "      <th>OR</th>\n",
       "      <td>0.858974</td>\n",
       "      <td>0.141026</td>\n",
       "    </tr>\n",
       "    <tr>\n",
       "      <th>PA</th>\n",
       "      <td>0.822222</td>\n",
       "      <td>0.177778</td>\n",
       "    </tr>\n",
       "    <tr>\n",
       "      <th>RI</th>\n",
       "      <td>0.907692</td>\n",
       "      <td>0.092308</td>\n",
       "    </tr>\n",
       "    <tr>\n",
       "      <th>SC</th>\n",
       "      <td>0.766667</td>\n",
       "      <td>0.233333</td>\n",
       "    </tr>\n",
       "    <tr>\n",
       "      <th>SD</th>\n",
       "      <td>0.866667</td>\n",
       "      <td>0.133333</td>\n",
       "    </tr>\n",
       "    <tr>\n",
       "      <th>TN</th>\n",
       "      <td>0.905660</td>\n",
       "      <td>0.094340</td>\n",
       "    </tr>\n",
       "    <tr>\n",
       "      <th>TX</th>\n",
       "      <td>0.750000</td>\n",
       "      <td>0.250000</td>\n",
       "    </tr>\n",
       "    <tr>\n",
       "      <th>UT</th>\n",
       "      <td>0.861111</td>\n",
       "      <td>0.138889</td>\n",
       "    </tr>\n",
       "    <tr>\n",
       "      <th>VA</th>\n",
       "      <td>0.935065</td>\n",
       "      <td>0.064935</td>\n",
       "    </tr>\n",
       "    <tr>\n",
       "      <th>VT</th>\n",
       "      <td>0.890411</td>\n",
       "      <td>0.109589</td>\n",
       "    </tr>\n",
       "    <tr>\n",
       "      <th>WA</th>\n",
       "      <td>0.787879</td>\n",
       "      <td>0.212121</td>\n",
       "    </tr>\n",
       "    <tr>\n",
       "      <th>WI</th>\n",
       "      <td>0.910256</td>\n",
       "      <td>0.089744</td>\n",
       "    </tr>\n",
       "    <tr>\n",
       "      <th>WV</th>\n",
       "      <td>0.905660</td>\n",
       "      <td>0.094340</td>\n",
       "    </tr>\n",
       "    <tr>\n",
       "      <th>WY</th>\n",
       "      <td>0.883117</td>\n",
       "      <td>0.116883</td>\n",
       "    </tr>\n",
       "  </tbody>\n",
       "</table>\n",
       "</div>"
      ],
      "text/plain": [
       "churn     False     True \n",
       "state                    \n",
       "AK     0.942308  0.057692\n",
       "AL     0.900000  0.100000\n",
       "AR     0.800000  0.200000\n",
       "AZ     0.937500  0.062500\n",
       "CA     0.735294  0.264706\n",
       "CO     0.863636  0.136364\n",
       "CT     0.837838  0.162162\n",
       "DC     0.907407  0.092593\n",
       "DE     0.852459  0.147541\n",
       "FL     0.873016  0.126984\n",
       "GA     0.851852  0.148148\n",
       "HI     0.943396  0.056604\n",
       "IA     0.931818  0.068182\n",
       "ID     0.876712  0.123288\n",
       "IL     0.913793  0.086207\n",
       "IN     0.873239  0.126761\n",
       "KS     0.814286  0.185714\n",
       "KY     0.864407  0.135593\n",
       "LA     0.921569  0.078431\n",
       "MA     0.830769  0.169231\n",
       "MD     0.757143  0.242857\n",
       "ME     0.790323  0.209677\n",
       "MI     0.780822  0.219178\n",
       "MN     0.821429  0.178571\n",
       "MO     0.888889  0.111111\n",
       "MS     0.784615  0.215385\n",
       "MT     0.794118  0.205882\n",
       "NC     0.838235  0.161765\n",
       "ND     0.903226  0.096774\n",
       "NE     0.918033  0.081967\n",
       "NH     0.839286  0.160714\n",
       "NJ     0.735294  0.264706\n",
       "NM     0.903226  0.096774\n",
       "NV     0.787879  0.212121\n",
       "NY     0.819277  0.180723\n",
       "OH     0.871795  0.128205\n",
       "OK     0.852459  0.147541\n",
       "OR     0.858974  0.141026\n",
       "PA     0.822222  0.177778\n",
       "RI     0.907692  0.092308\n",
       "SC     0.766667  0.233333\n",
       "SD     0.866667  0.133333\n",
       "TN     0.905660  0.094340\n",
       "TX     0.750000  0.250000\n",
       "UT     0.861111  0.138889\n",
       "VA     0.935065  0.064935\n",
       "VT     0.890411  0.109589\n",
       "WA     0.787879  0.212121\n",
       "WI     0.910256  0.089744\n",
       "WV     0.905660  0.094340\n",
       "WY     0.883117  0.116883"
      ]
     },
     "metadata": {},
     "output_type": "display_data"
    },
    {
     "name": "stdout",
     "output_type": "stream",
     "text": [
      "\n",
      "Churn rate by 'area code':\n"
     ]
    },
    {
     "data": {
      "text/html": [
       "<div>\n",
       "<style scoped>\n",
       "    .dataframe tbody tr th:only-of-type {\n",
       "        vertical-align: middle;\n",
       "    }\n",
       "\n",
       "    .dataframe tbody tr th {\n",
       "        vertical-align: top;\n",
       "    }\n",
       "\n",
       "    .dataframe thead th {\n",
       "        text-align: right;\n",
       "    }\n",
       "</style>\n",
       "<table border=\"1\" class=\"dataframe\">\n",
       "  <thead>\n",
       "    <tr style=\"text-align: right;\">\n",
       "      <th>churn</th>\n",
       "      <th>False</th>\n",
       "      <th>True</th>\n",
       "    </tr>\n",
       "    <tr>\n",
       "      <th>area code</th>\n",
       "      <th></th>\n",
       "      <th></th>\n",
       "    </tr>\n",
       "  </thead>\n",
       "  <tbody>\n",
       "    <tr>\n",
       "      <th>408</th>\n",
       "      <td>0.854415</td>\n",
       "      <td>0.145585</td>\n",
       "    </tr>\n",
       "    <tr>\n",
       "      <th>415</th>\n",
       "      <td>0.857402</td>\n",
       "      <td>0.142598</td>\n",
       "    </tr>\n",
       "    <tr>\n",
       "      <th>510</th>\n",
       "      <td>0.851190</td>\n",
       "      <td>0.148810</td>\n",
       "    </tr>\n",
       "  </tbody>\n",
       "</table>\n",
       "</div>"
      ],
      "text/plain": [
       "churn         False     True \n",
       "area code                    \n",
       "408        0.854415  0.145585\n",
       "415        0.857402  0.142598\n",
       "510        0.851190  0.148810"
      ]
     },
     "metadata": {},
     "output_type": "display_data"
    }
   ],
   "source": [
    "# Relationship between 'state' and 'churn'\n",
    "print(\"Churn rate by 'state':\")\n",
    "display(df.groupby('state')['churn'].value_counts(normalize=True).unstack())\n",
    "\n",
    "# Relationship between 'area code' and 'churn'\n",
    "print(\"\\nChurn rate by 'area code':\")\n",
    "display(df.groupby('area code')['churn'].value_counts(normalize=True).unstack())"
   ]
  },
  {
   "cell_type": "markdown",
   "id": "63502e69",
   "metadata": {},
   "source": [
    "### Summary: Churn Rate By State and Area Code\n",
    "Churn by State:\n",
    "- Churn rates **vary significantly** across different U.S. states.\n",
    "- For example:\n",
    "  - **Highest churn rates**: CA (26.5%), NJ (26.5%), TX (25%), SC (23.3%), MD (24.3%)\n",
    "  - **Lowest churn rates**: HI (5.7%), AK (5.8%), AZ (6.3%), IA (6.8%)\n",
    "- ➤ This suggests that **geographic location** could influence churn, potentially due to market conditions, service availability, or customer expectations.\n",
    "\n",
    "#### 🔹 Churn by Area Code:\n",
    "- Churn rates are **fairly consistent** across area codes:\n",
    "  - 408 → 14.6%\n",
    "  - 415 → 14.3%\n",
    "  - 510 → 14.9%\n",
    "- ➤ This consistency indicates that **area code alone is likely not a strong predictor** of churn.\n",
    "\n",
    "**Conclusion**: While **state-level geography** may hold some predictive power for churn, **area code** appears less impactful. Consider one-hot encoding for 'state' and carefully evaluating its importance during feature selection."
   ]
  },
  {
   "cell_type": "markdown",
   "id": "b4bd26e1",
   "metadata": {},
   "source": [
    "### **Top 10 States With Highest Churn Rate**"
   ]
  },
  {
   "cell_type": "code",
   "execution_count": 46,
   "id": "f9a856c0",
   "metadata": {},
   "outputs": [
    {
     "name": "stderr",
     "output_type": "stream",
     "text": [
      "C:\\Users\\Admin\\AppData\\Local\\Temp\\ipykernel_1752\\3989042867.py:10: FutureWarning: \n",
      "\n",
      "Passing `palette` without assigning `hue` is deprecated and will be removed in v0.14.0. Assign the `x` variable to `hue` and set `legend=False` for the same effect.\n",
      "\n",
      "  sns.barplot(x=top_10_churn_states.index, y=True, data=top_10_churn_states, palette='viridis')\n"
     ]
    },
    {
     "data": {
      "image/png": "[encoded data removed]",
      "text/plain": [
       "<Figure size 1000x600 with 1 Axes>"
      ]
     },
     "metadata": {},
     "output_type": "display_data"
    }
   ],
   "source": [
    "\n",
    "# Calculate churn rate by state\n",
    "state_churn = df.groupby('state')['churn'].value_counts(normalize=True).unstack()\n",
    "\n",
    "# Calculate and sort states by churn rate (True column)\n",
    "state_churn[True] = state_churn[True].fillna(0) # Fill NaN with 0 for states with no churn\n",
    "top_10_churn_states = state_churn.sort_values(by=True, ascending=False).head(10)\n",
    "\n",
    "# Plot churn rate for the top 10 states\n",
    "plt.figure(figsize=(10, 6))\n",
    "sns.barplot(x=top_10_churn_states.index, y=True, data=top_10_churn_states, palette='viridis')\n",
    "plt.title('Top 10 States with Highest Churn Rate')\n",
    "plt.xlabel('State')\n",
    "plt.ylabel('Churn Rate')\n",
    "plt.xticks(rotation=45, ha='right') # Rotate state names for readability\n",
    "plt.tight_layout() # Adjust layout to prevent labels overlapping\n",
    "plt.show()"
   ]
  },
  {
   "cell_type": "markdown",
   "id": "5bd9ed03",
   "metadata": {},
   "source": [
    "### Summary: Top 10 States by Churn Rate\n",
    "\n",
    "The bar plot highlights the **top 10 U.S. states with the highest churn rates** in the SyriaTel dataset.\n",
    "\n",
    "- **Key Observations**:\n",
    "  - States like **California (CA)**, **New Jersey (NJ)**, **Texas (TX)**, and **Maryland (MD)** show significantly higher churn rates compared to the national average.\n",
    "  - This indicates **geographical disparities** in customer retention, suggesting that localized issues or market conditions might be influencing churn behavior.\n",
    "\n",
    "- **Business Insight**:\n",
    "  - SyriaTel may benefit from conducting **region-specific investigations** or deploying **targeted customer retention strategies** in these high-churn states.\n",
    "  - While the `state` variable may not be the strongest standalone predictor due to sample size variability and categorical spread, it offers **valuable strategic direction** when combined with other churn indicators.\n"
   ]
  },
  {
   "cell_type": "markdown",
   "id": "7c94b499",
   "metadata": {},
   "source": [
    "### **Churn Rate By Area Code**"
   ]
  },
  {
   "cell_type": "code",
   "execution_count": 47,
   "id": "43269d6b",
   "metadata": {},
   "outputs": [
    {
     "name": "stderr",
     "output_type": "stream",
     "text": [
      "C:\\Users\\Admin\\AppData\\Local\\Temp\\ipykernel_1752\\1587476463.py:6: FutureWarning: \n",
      "\n",
      "The `ci` parameter is deprecated. Use `errorbar=None` for the same effect.\n",
      "\n",
      "  sns.barplot(x='area code', y='churn', data=df, ci=None)\n"
     ]
    },
    {
     "data": {
      "image/png": "[encoded data removed]",
      "text/plain": [
       "<Figure size 600x400 with 1 Axes>"
      ]
     },
     "metadata": {},
     "output_type": "display_data"
    }
   ],
   "source": [
    "\n",
    "# Set style for plots\n",
    "sns.set_style(\"whitegrid\")\n",
    "\n",
    "# Plot churn rate by 'area code'\n",
    "plt.figure(figsize=(6, 4))\n",
    "sns.barplot(x='area code', y='churn', data=df, ci=None)\n",
    "plt.title('Churn Rate by Area Code')\n",
    "plt.ylabel('Churn Rate')\n",
    "plt.show()"
   ]
  },
  {
   "cell_type": "markdown",
   "id": "27d52a4a",
   "metadata": {},
   "source": [
    "### Summary: Churn Rate by Area Code\n",
    "\n",
    "The bar plot illustrates churn rates across the three area codes: **408**, **415**, and **510**.\n",
    "\n",
    "- **Key Observations**:\n",
    "  - The churn rates are **remarkably similar** across all area codes.\n",
    "  - This suggests that `area code` does **not significantly influence** customer churn in this dataset.\n",
    "\n",
    "- **Conclusion**:\n",
    "  - While geographic factors like state may reveal useful patterns, **area code alone is unlikely to be a strong predictor** of churn and may hold limited value in modeling.\n"
   ]
  },
  {
   "cell_type": "markdown",
   "id": "c65de21c",
   "metadata": {},
   "source": [
    " ### **Relationship Between Numerical Features And Churn**"
   ]
  },
  {
   "cell_type": "code",
   "execution_count": 48,
   "id": "7ce04cfb",
   "metadata": {},
   "outputs": [
    {
     "name": "stdout",
     "output_type": "stream",
     "text": [
      "Correlation with 'churn':\n"
     ]
    },
    {
     "data": {
      "text/plain": [
       "churn                     1.000000\n",
       "customer service calls    0.208750\n",
       "total day minutes         0.205151\n",
       "total day charge          0.205151\n",
       "total eve minutes         0.092796\n",
       "total eve charge          0.092786\n",
       "total intl charge         0.068259\n",
       "total intl minutes        0.068239\n",
       "total night charge        0.035496\n",
       "total night minutes       0.035493\n",
       "total day calls           0.018459\n",
       "account length            0.016541\n",
       "total eve calls           0.009233\n",
       "area code                 0.006174\n",
       "total night calls         0.006141\n",
       "total intl calls         -0.052844\n",
       "number vmail messages    -0.089728\n",
       "Name: churn, dtype: float64"
      ]
     },
     "metadata": {},
     "output_type": "display_data"
    }
   ],
   "source": [
    "# Calculate the correlation matrix\n",
    "correlation_matrix = df.corr(numeric_only=True)\n",
    "\n",
    "# Display the correlation of numerical features with 'churn'\n",
    "print(\"Correlation with 'churn':\")\n",
    "display(correlation_matrix['churn'].sort_values(ascending=False))"
   ]
  },
  {
   "cell_type": "markdown",
   "id": "1536083f",
   "metadata": {},
   "source": [
    "### Summary: Correlation Between Numerical Features and Churn\n",
    "\n",
    "Correlation analysis reveals how strongly each numerical feature is linearly associated with churn.\n",
    "\n",
    "- **Top Positively Correlated Features**:\n",
    "  - `customer service calls` (0.21)\n",
    "  - `total day minutes` & `total day charge` (~0.21)\n",
    "  - These suggest that customers who frequently call customer service or have high daytime usage are **more likely to churn**.\n",
    "\n",
    "- **Notable Negative Correlation**:\n",
    "  - `number vmail messages` (-0.09)\n",
    "  - Indicates that customers who use voicemail are **slightly less likely to churn**, supporting earlier findings on the voice mail plan.\n",
    "\n",
    "- **Other Features**:\n",
    "  - Most other numerical variables show **weak or negligible correlation** with churn.\n",
    "\n",
    ">  **Insight**: These correlations provide a useful starting point for feature selection in modeling, particularly emphasizing service interactions and daytime activity.\n"
   ]
  },
  {
   "cell_type": "code",
   "execution_count": 49,
   "id": "788e000b",
   "metadata": {},
   "outputs": [
    {
     "data": {
      "image/png": "[encoded data removed]",
      "text/plain": [
       "<Figure size 1200x1000 with 2 Axes>"
      ]
     },
     "metadata": {},
     "output_type": "display_data"
    }
   ],
   "source": [
    "\n",
    "# Calculate the correlation matrix (already done, but recalculating for clarity)\n",
    "correlation_matrix = df.corr(numeric_only=True)\n",
    "\n",
    "# Plot the heatmap\n",
    "plt.figure(figsize=(12, 10))\n",
    "sns.heatmap(correlation_matrix, annot=True, cmap='coolwarm', fmt=\".2f\")\n",
    "plt.title('Correlation Matrix of Numerical Features')\n",
    "plt.show()"
   ]
  },
  {
   "cell_type": "markdown",
   "id": "2acb2a2f",
   "metadata": {},
   "source": [
    "### Summary: Correlation Heatmap Insights\n",
    "\n",
    "The heatmap visualizes linear relationships between numerical features and churn:\n",
    "\n",
    "- **  Strong Positive Correlation with Churn**:\n",
    "  - `customer service calls`, `total day minutes`, and `total day charge` show higher positive correlations with churn, confirming their potential as churn indicators.\n",
    "\n",
    "- ** Weak Negative Correlation**:\n",
    "  - `number vmail messages` shows a slight negative correlation with churn, hinting that voicemail users are marginally less likely to churn.\n",
    "\n",
    "- ** High Inter-feature Correlation**:\n",
    "  - Usage and charge features (e.g., `total day minutes` & `total day charge`) are strongly correlated, as charges are calculated from usage.\n",
    "\n",
    "- ** Overall Weak Correlation Elsewhere**:\n",
    "  - Most other features display low correlations with churn or with each other, suggesting potential non-linear relationships or independent effects.\n",
    "\n",
    ">  **Conclusion**: This visual reinforces earlier numerical findings and helps identify potential features for model input or engineering.\n"
   ]
  },
  {
   "cell_type": "markdown",
   "id": "3a30ecc3",
   "metadata": {},
   "source": [
    "### **Inferential Statistics: T-Test Results for Numerical Features**\n"
   ]
  },
  {
   "cell_type": "code",
   "execution_count": 50,
   "id": "c35f26c2",
   "metadata": {},
   "outputs": [
    {
     "name": "stdout",
     "output_type": "stream",
     "text": [
      "Performing independent samples t-tests for key numerical features:\n",
      "\n",
      "Feature: total day minutes\n",
      "  T-statistic: 9.6846\n",
      "  P-value: 0.0000\n",
      "  Conclusion: Statistically significant difference in means between churned and non-churned customers.\n",
      "------------------------------\n",
      "Feature: total day charge\n",
      "  T-statistic: 9.6845\n",
      "  P-value: 0.0000\n",
      "  Conclusion: Statistically significant difference in means between churned and non-churned customers.\n",
      "------------------------------\n",
      "Feature: customer service calls\n",
      "  T-statistic: 8.9551\n",
      "  P-value: 0.0000\n",
      "  Conclusion: Statistically significant difference in means between churned and non-churned customers.\n",
      "------------------------------\n",
      "Feature: total eve minutes\n",
      "  T-statistic: 5.2724\n",
      "  P-value: 0.0000\n",
      "  Conclusion: Statistically significant difference in means between churned and non-churned customers.\n",
      "------------------------------\n",
      "Feature: total eve charge\n",
      "  T-statistic: 5.2720\n",
      "  P-value: 0.0000\n",
      "  Conclusion: Statistically significant difference in means between churned and non-churned customers.\n",
      "------------------------------\n",
      "Feature: total night minutes\n",
      "  T-statistic: 2.1709\n",
      "  P-value: 0.0303\n",
      "  Conclusion: Statistically significant difference in means between churned and non-churned customers.\n",
      "------------------------------\n",
      "Feature: total night charge\n",
      "  T-statistic: 2.1710\n",
      "  P-value: 0.0303\n",
      "  Conclusion: Statistically significant difference in means between churned and non-churned customers.\n",
      "------------------------------\n",
      "Feature: total intl minutes\n",
      "  T-statistic: 3.9389\n",
      "  P-value: 0.0001\n",
      "  Conclusion: Statistically significant difference in means between churned and non-churned customers.\n",
      "------------------------------\n",
      "Feature: total intl charge\n",
      "  T-statistic: 3.9399\n",
      "  P-value: 0.0001\n",
      "  Conclusion: Statistically significant difference in means between churned and non-churned customers.\n",
      "------------------------------\n",
      "Feature: account length\n",
      "  T-statistic: 0.9619\n",
      "  P-value: 0.3365\n",
      "  Conclusion: No statistically significant difference in means between churned and non-churned customers.\n",
      "------------------------------\n",
      "Feature: number vmail messages\n",
      "  T-statistic: -5.8213\n",
      "  P-value: 0.0000\n",
      "  Conclusion: Statistically significant difference in means between churned and non-churned customers.\n",
      "------------------------------\n",
      "Feature: total day calls\n",
      "  T-statistic: 1.0024\n",
      "  P-value: 0.3165\n",
      "  Conclusion: No statistically significant difference in means between churned and non-churned customers.\n",
      "------------------------------\n",
      "Feature: total eve calls\n",
      "  T-statistic: 0.5374\n",
      "  P-value: 0.5912\n",
      "  Conclusion: No statistically significant difference in means between churned and non-churned customers.\n",
      "------------------------------\n",
      "Feature: total night calls\n",
      "  T-statistic: 0.3488\n",
      "  P-value: 0.7273\n",
      "  Conclusion: No statistically significant difference in means between churned and non-churned customers.\n",
      "------------------------------\n",
      "Feature: total intl calls\n",
      "  T-statistic: -2.9604\n",
      "  P-value: 0.0032\n",
      "  Conclusion: Statistically significant difference in means between churned and non-churned customers.\n",
      "------------------------------\n"
     ]
    }
   ],
   "source": [
    "\n",
    "# Separate data into churned and non-churned groups\n",
    "churned = df[df['churn'] == True]\n",
    "not_churned = df[df['churn'] == False]\n",
    "\n",
    "# List of key numerical features to test\n",
    "numerical_features = [\n",
    "    'total day minutes',\n",
    "    'total day charge', # Highly correlated with total day minutes, but good to test\n",
    "    'customer service calls',\n",
    "    'total eve minutes',\n",
    "    'total eve charge',\n",
    "    'total night minutes',\n",
    "    'total night charge',\n",
    "    'total intl minutes',\n",
    "    'total intl charge',\n",
    "    'account length',\n",
    "    'number vmail messages',\n",
    "    'total day calls',\n",
    "    'total eve calls',\n",
    "    'total night calls',\n",
    "    'total intl calls',\n",
    "]\n",
    "\n",
    "\n",
    "print(\"Performing independent samples t-tests for key numerical features:\\n\")\n",
    "\n",
    "for feature in numerical_features:\n",
    "    # Perform the t-test\n",
    "    # equal_var=False is often used when sample sizes or variances might differ\n",
    "    t_stat, p_value = ttest_ind(churned[feature], not_churned[feature], equal_var=False, nan_policy='omit')\n",
    "\n",
    "    print(f\"Feature: {feature}\")\n",
    "    print(f\"  T-statistic: {t_stat:.4f}\")\n",
    "    print(f\"  P-value: {p_value:.4f}\")\n",
    "\n",
    "    # Interpret the p-value (using a significance level of 0.05)\n",
    "    if p_value < 0.05:\n",
    "        print(\"  Conclusion: Statistically significant difference in means between churned and non-churned customers.\")\n",
    "    else:\n",
    "        print(\"  Conclusion: No statistically significant difference in means between churned and non-churned customers.\")\n",
    "    print(\"-\" * 30)"
   ]
  },
  {
   "cell_type": "markdown",
   "id": "5e33791f",
   "metadata": {},
   "source": [
    "### Summary: T-Tests on Key Numerical Features\n",
    "\n",
    "Independent samples t-tests were conducted to assess whether the means of various numerical features differ significantly between churned and non-churned customers.\n",
    "\n",
    "####  Statistically Significant Differences (p < 0.05):\n",
    "\n",
    "| Feature                  | T-Statistic | P-Value | Conclusion                                                |\n",
    "|--------------------------|-------------|---------|-----------------------------------------------------------|\n",
    "| total day minutes        | 9.6846      | 0.0000  | Strong evidence of a mean difference in day usage.        |\n",
    "| total day charge         | 9.6845      | 0.0000  | Charges differ significantly with churn status.           |\n",
    "| customer service calls   | 8.9551      | 0.0000  | Churned customers contact customer service more often.    |\n",
    "| total eve minutes        | 5.2724      | 0.0000  | Significant difference in evening usage.                  |\n",
    "| total eve charge         | 5.2720      | 0.0000  | Evening charges are also significantly different.         |\n",
    "| ...                      | ...         | ...     | ...                                                       |\n",
    "| [other tested features]  | -2.9604     | 0.0032  | Also shows a meaningful difference in group means.        |\n",
    "\n",
    ">  **Conclusion**: Several features show **statistically significant** differences between churned and non-churned customers, supporting their inclusion as important predictors in modeling.\n"
   ]
  },
  {
   "cell_type": "code",
   "execution_count": 62,
   "id": "84622a58",
   "metadata": {},
   "outputs": [
    {
     "data": {
      "image/png": "[encoded data removed]",
      "text/plain": [
       "<Figure size 600x400 with 1 Axes>"
      ]
     },
     "metadata": {},
     "output_type": "display_data"
    }
   ],
   "source": [
    "plt.figure(figsize=(6, 4))\n",
    "sns.boxplot(x='churn', y='total day minutes', data=df)\n",
    "plt.title('Total Day Minutes by Churn')\n",
    "plt.xlabel('Churn')\n",
    "plt.ylabel('Total Day Minutes')\n",
    "plt.show()\n"
   ]
  },
  {
   "cell_type": "markdown",
   "id": "f603b292",
   "metadata": {},
   "source": [
    "### Summary:\n",
    "\n",
    "The boxplot reveals that churned customers tend to have higher total day minutes compared to non-churned customers. This suggests that customers who use daytime call services more extensively may be more likely to churn. The difference in usage is consistent with the statistically significant results from the independent samples T-test"
   ]
  },
  {
   "cell_type": "code",
   "execution_count": 51,
   "id": "36370393",
   "metadata": {},
   "outputs": [
    {
     "name": "stdout",
     "output_type": "stream",
     "text": [
      "Performing Chi-square tests for categorical features vs. 'churn':\n",
      "\n",
      "Feature: state\n",
      "  Chi-square Statistic: 83.0438\n",
      "  P-value: 0.0023\n",
      "  Conclusion: Statistically significant association between the feature and churn.\n",
      "------------------------------\n",
      "Feature: area code\n",
      "  Chi-square Statistic: 0.1775\n",
      "  P-value: 0.9151\n",
      "  Conclusion: No statistically significant association between the feature and churn.\n",
      "------------------------------\n",
      "Feature: international plan\n",
      "  Chi-square Statistic: 222.5658\n",
      "  P-value: 0.0000\n",
      "  Conclusion: Statistically significant association between the feature and churn.\n",
      "------------------------------\n",
      "Feature: voice mail plan\n",
      "  Chi-square Statistic: 34.1317\n",
      "  P-value: 0.0000\n",
      "  Conclusion: Statistically significant association between the feature and churn.\n",
      "------------------------------\n"
     ]
    }
   ],
   "source": [
    "#Reload the data to get the original categorical columns for Chi-square tests\n",
    "\n",
    "df = pd.read_csv('data/churn.csv')\n",
    "\n",
    "# Drop the 'phone number' column from this temporary DataFrame as it's not needed and not categorical\n",
    "df = df.drop('phone number', axis=1)\n",
    "\n",
    "\n",
    "# List of categorical features to test against 'churn'\n",
    "categorical_features = [\n",
    "    'state',\n",
    "    'area code',\n",
    "    'international plan',\n",
    "    'voice mail plan'\n",
    "]\n",
    "\n",
    "print(\"Performing Chi-square tests for categorical features vs. 'churn':\\n\")\n",
    "\n",
    "for feature in categorical_features:\n",
    "    # Create a contingency table using the original DataFrame\n",
    "    contingency_table = pd.crosstab(df[feature], df['churn'])\n",
    "\n",
    "    # Perform the Chi-square test\n",
    "    chi2_stat, p_value, dof, expected = chi2_contingency(contingency_table)\n",
    "\n",
    "    print(f\"Feature: {feature}\")\n",
    "    print(f\"  Chi-square Statistic: {chi2_stat:.4f}\")\n",
    "    print(f\"  P-value: {p_value:.4f}\")\n",
    "\n",
    "    # Interpret the p-value (using a significance level of 0.05)\n",
    "    if p_value < 0.05:\n",
    "        print(\"  Conclusion: Statistically significant association between the feature and churn.\")\n",
    "    else:\n",
    "        print(\"  Conclusion: No statistically significant association between the feature and churn.\")\n",
    "    print(\"-\" * 30)"
   ]
  },
  {
   "cell_type": "markdown",
   "id": "2884e941",
   "metadata": {},
   "source": [
    "### Summary: Inferential Statistics Observation\n",
    "\n",
    "- **T-tests** revealed significant differences in the mean values of key numerical features (e.g., `total day minutes`, `total charges`, `customer service calls`) between churned and non-churned customers.\n",
    "- **Chi-square tests** showed strong associations between churn and categorical features such as `international plan`, `voice mail plan`, and `state`.\n",
    "- Features like `account length`, `area code`, and `total call counts` did **not** show statistically significant relationships with churn.\n",
    "- These results confirm that **usage behavior** and **specific service plans** are important churn drivers, reinforcing both our EDA insights and model design.\n"
   ]
  },
  {
   "cell_type": "code",
   "execution_count": 64,
   "id": "4c1fbe5b",
   "metadata": {},
   "outputs": [
    {
     "data": {
      "image/png": "[encoded data removed]",
      "text/plain": [
       "<Figure size 803.875x400 with 2 Axes>"
      ]
     },
     "metadata": {},
     "output_type": "display_data"
    }
   ],
   "source": [
    "# Create a new DataFrame for proportions\n",
    "df_grouped = (\n",
    "    df\n",
    "    .groupby(['voice mail plan', 'international plan', 'churn'])\n",
    "    .size()\n",
    "    .reset_index(name='count')\n",
    ")\n",
    "\n",
    "# Calculate total counts per group (per facet + bar group)\n",
    "df_grouped['total'] = df_grouped.groupby(['voice mail plan', 'international plan'])['count'].transform('sum')\n",
    "df_grouped['percent'] = df_grouped['count'] / df_grouped['total'] * 100\n",
    "\n",
    "# Plot using percentages\n",
    "g = sns.catplot(\n",
    "    x='international plan', y='percent', hue='churn', col='voice mail plan',\n",
    "    data=df_grouped, kind='bar', height=4, aspect=0.9\n",
    ")\n",
    "\n",
    "g.set_axis_labels(\"International Plan\", \"Churn Percentage\")\n",
    "g.set_titles(col_template=\"Voice Mail Plan: {col_name}\")\n",
    "g.set(ylim=(0, 100))\n",
    "\n",
    "plt.subplots_adjust(top=0.8)\n",
    "plt.suptitle(\"Churn Percentage by International and Voice Mail Plan\")\n",
    "plt.show()\n"
   ]
  },
  {
   "cell_type": "markdown",
   "id": "bd7e45c0",
   "metadata": {},
   "source": [
    "### Summary: Churn by International Plan and Voice Mail Plan ( % Plot)\n",
    "\n",
    "- The percentage-based bar plot reveals that customers **with an international plan** are **more likely to churn**, regardless of whether they have a voice mail plan or not.\n",
    "- Conversely, customers **without an international plan** exhibit a **significantly lower churn rate**.\n",
    "- The presence or absence of a voice mail plan shows **less pronounced impact** on churn compared to the international plan.\n",
    "- These patterns reinforce the **Chi-square test results**, indicating a **statistically significant association** between the international plan and churn behavior.\n"
   ]
  },
  {
   "cell_type": "markdown",
   "id": "82240f26",
   "metadata": {},
   "source": [
    "## **Data Preparation**\n",
    "\n",
    "Let's begin the Data Preparation phase by checking for duplicate rows."
   ]
  },
  {
   "cell_type": "code",
   "execution_count": 52,
   "id": "23870b1a",
   "metadata": {},
   "outputs": [
    {
     "name": "stdout",
     "output_type": "stream",
     "text": [
      "Number of duplicate rows: 0\n"
     ]
    }
   ],
   "source": [
    "# Check for duplicate rows\n",
    "duplicate_rows = df.duplicated().sum()\n",
    "\n",
    "print(f\"Number of duplicate rows: {duplicate_rows}\")"
   ]
  },
  {
   "cell_type": "code",
   "execution_count": 53,
   "id": "9d5350e4",
   "metadata": {},
   "outputs": [],
   "source": [
    "df = df.drop('phone number', axis=1, errors='ignore')\n"
   ]
  },
  {
   "cell_type": "code",
   "execution_count": 54,
   "id": "cfbb712c",
   "metadata": {},
   "outputs": [
    {
     "name": "stdout",
     "output_type": "stream",
     "text": [
      "<class 'pandas.core.frame.DataFrame'>\n",
      "RangeIndex: 3333 entries, 0 to 3332\n",
      "Data columns (total 20 columns):\n",
      " #   Column                  Non-Null Count  Dtype  \n",
      "---  ------                  --------------  -----  \n",
      " 0   state                   3333 non-null   object \n",
      " 1   account length          3333 non-null   int64  \n",
      " 2   area code               3333 non-null   int64  \n",
      " 3   international plan      3333 non-null   object \n",
      " 4   voice mail plan         3333 non-null   object \n",
      " 5   number vmail messages   3333 non-null   int64  \n",
      " 6   total day minutes       3333 non-null   float64\n",
      " 7   total day calls         3333 non-null   int64  \n",
      " 8   total day charge        3333 non-null   float64\n",
      " 9   total eve minutes       3333 non-null   float64\n",
      " 10  total eve calls         3333 non-null   int64  \n",
      " 11  total eve charge        3333 non-null   float64\n",
      " 12  total night minutes     3333 non-null   float64\n",
      " 13  total night calls       3333 non-null   int64  \n",
      " 14  total night charge      3333 non-null   float64\n",
      " 15  total intl minutes      3333 non-null   float64\n",
      " 16  total intl calls        3333 non-null   int64  \n",
      " 17  total intl charge       3333 non-null   float64\n",
      " 18  customer service calls  3333 non-null   int64  \n",
      " 19  churn                   3333 non-null   bool   \n",
      "dtypes: bool(1), float64(8), int64(8), object(3)\n",
      "memory usage: 498.1+ KB\n"
     ]
    }
   ],
   "source": [
    "df.info()"
   ]
  },
  {
   "cell_type": "markdown",
   "id": "c37176e0",
   "metadata": {},
   "source": [
    "### **Encoding Categorical Variables For Modelling**"
   ]
  },
  {
   "cell_type": "markdown",
   "id": "c98c8206",
   "metadata": {},
   "source": [
    "Let's re-encode the categorical variables to ensure there are no missing values introduced."
   ]
  },
  {
   "cell_type": "code",
   "execution_count": 55,
   "id": "a8071cca",
   "metadata": {},
   "outputs": [
    {
     "name": "stderr",
     "output_type": "stream",
     "text": [
      "C:\\Users\\Admin\\AppData\\Local\\Temp\\ipykernel_1752\\2958519148.py:10: FutureWarning: Downcasting behavior in `replace` is deprecated and will be removed in a future version. To retain the old behavior, explicitly call `result.infer_objects(copy=False)`. To opt-in to the future behavior, set `pd.set_option('future.no_silent_downcasting', True)`\n",
      "  df['international plan'] = df['international plan'].replace({'yes': 1, 'no': 0})\n",
      "C:\\Users\\Admin\\AppData\\Local\\Temp\\ipykernel_1752\\2958519148.py:11: FutureWarning: Downcasting behavior in `replace` is deprecated and will be removed in a future version. To retain the old behavior, explicitly call `result.infer_objects(copy=False)`. To opt-in to the future behavior, set `pd.set_option('future.no_silent_downcasting', True)`\n",
      "  df['voice mail plan'] = df['voice mail plan'].replace({'yes': 1, 'no': 0})\n"
     ]
    },
    {
     "data": {
      "text/html": [
       "<div>\n",
       "<style scoped>\n",
       "    .dataframe tbody tr th:only-of-type {\n",
       "        vertical-align: middle;\n",
       "    }\n",
       "\n",
       "    .dataframe tbody tr th {\n",
       "        vertical-align: top;\n",
       "    }\n",
       "\n",
       "    .dataframe thead th {\n",
       "        text-align: right;\n",
       "    }\n",
       "</style>\n",
       "<table border=\"1\" class=\"dataframe\">\n",
       "  <thead>\n",
       "    <tr style=\"text-align: right;\">\n",
       "      <th></th>\n",
       "      <th>account length</th>\n",
       "      <th>international plan</th>\n",
       "      <th>voice mail plan</th>\n",
       "      <th>number vmail messages</th>\n",
       "      <th>total day minutes</th>\n",
       "      <th>total day calls</th>\n",
       "      <th>total day charge</th>\n",
       "      <th>total eve minutes</th>\n",
       "      <th>total eve calls</th>\n",
       "      <th>total eve charge</th>\n",
       "      <th>...</th>\n",
       "      <th>state_TX</th>\n",
       "      <th>state_UT</th>\n",
       "      <th>state_VA</th>\n",
       "      <th>state_VT</th>\n",
       "      <th>state_WA</th>\n",
       "      <th>state_WI</th>\n",
       "      <th>state_WV</th>\n",
       "      <th>state_WY</th>\n",
       "      <th>area code_415</th>\n",
       "      <th>area code_510</th>\n",
       "    </tr>\n",
       "  </thead>\n",
       "  <tbody>\n",
       "    <tr>\n",
       "      <th>0</th>\n",
       "      <td>128</td>\n",
       "      <td>0</td>\n",
       "      <td>1</td>\n",
       "      <td>25</td>\n",
       "      <td>265.1</td>\n",
       "      <td>110</td>\n",
       "      <td>45.07</td>\n",
       "      <td>197.4</td>\n",
       "      <td>99</td>\n",
       "      <td>16.78</td>\n",
       "      <td>...</td>\n",
       "      <td>False</td>\n",
       "      <td>False</td>\n",
       "      <td>False</td>\n",
       "      <td>False</td>\n",
       "      <td>False</td>\n",
       "      <td>False</td>\n",
       "      <td>False</td>\n",
       "      <td>False</td>\n",
       "      <td>True</td>\n",
       "      <td>False</td>\n",
       "    </tr>\n",
       "    <tr>\n",
       "      <th>1</th>\n",
       "      <td>107</td>\n",
       "      <td>0</td>\n",
       "      <td>1</td>\n",
       "      <td>26</td>\n",
       "      <td>161.6</td>\n",
       "      <td>123</td>\n",
       "      <td>27.47</td>\n",
       "      <td>195.5</td>\n",
       "      <td>103</td>\n",
       "      <td>16.62</td>\n",
       "      <td>...</td>\n",
       "      <td>False</td>\n",
       "      <td>False</td>\n",
       "      <td>False</td>\n",
       "      <td>False</td>\n",
       "      <td>False</td>\n",
       "      <td>False</td>\n",
       "      <td>False</td>\n",
       "      <td>False</td>\n",
       "      <td>True</td>\n",
       "      <td>False</td>\n",
       "    </tr>\n",
       "    <tr>\n",
       "      <th>2</th>\n",
       "      <td>137</td>\n",
       "      <td>0</td>\n",
       "      <td>0</td>\n",
       "      <td>0</td>\n",
       "      <td>243.4</td>\n",
       "      <td>114</td>\n",
       "      <td>41.38</td>\n",
       "      <td>121.2</td>\n",
       "      <td>110</td>\n",
       "      <td>10.30</td>\n",
       "      <td>...</td>\n",
       "      <td>False</td>\n",
       "      <td>False</td>\n",
       "      <td>False</td>\n",
       "      <td>False</td>\n",
       "      <td>False</td>\n",
       "      <td>False</td>\n",
       "      <td>False</td>\n",
       "      <td>False</td>\n",
       "      <td>True</td>\n",
       "      <td>False</td>\n",
       "    </tr>\n",
       "    <tr>\n",
       "      <th>3</th>\n",
       "      <td>84</td>\n",
       "      <td>1</td>\n",
       "      <td>0</td>\n",
       "      <td>0</td>\n",
       "      <td>299.4</td>\n",
       "      <td>71</td>\n",
       "      <td>50.90</td>\n",
       "      <td>61.9</td>\n",
       "      <td>88</td>\n",
       "      <td>5.26</td>\n",
       "      <td>...</td>\n",
       "      <td>False</td>\n",
       "      <td>False</td>\n",
       "      <td>False</td>\n",
       "      <td>False</td>\n",
       "      <td>False</td>\n",
       "      <td>False</td>\n",
       "      <td>False</td>\n",
       "      <td>False</td>\n",
       "      <td>False</td>\n",
       "      <td>False</td>\n",
       "    </tr>\n",
       "    <tr>\n",
       "      <th>4</th>\n",
       "      <td>75</td>\n",
       "      <td>1</td>\n",
       "      <td>0</td>\n",
       "      <td>0</td>\n",
       "      <td>166.7</td>\n",
       "      <td>113</td>\n",
       "      <td>28.34</td>\n",
       "      <td>148.3</td>\n",
       "      <td>122</td>\n",
       "      <td>12.61</td>\n",
       "      <td>...</td>\n",
       "      <td>False</td>\n",
       "      <td>False</td>\n",
       "      <td>False</td>\n",
       "      <td>False</td>\n",
       "      <td>False</td>\n",
       "      <td>False</td>\n",
       "      <td>False</td>\n",
       "      <td>False</td>\n",
       "      <td>True</td>\n",
       "      <td>False</td>\n",
       "    </tr>\n",
       "  </tbody>\n",
       "</table>\n",
       "<p>5 rows × 70 columns</p>\n",
       "</div>"
      ],
      "text/plain": [
       "   account length  international plan  voice mail plan  number vmail messages  \\\n",
       "0             128                   0                1                     25   \n",
       "1             107                   0                1                     26   \n",
       "2             137                   0                0                      0   \n",
       "3              84                   1                0                      0   \n",
       "4              75                   1                0                      0   \n",
       "\n",
       "   total day minutes  total day calls  total day charge  total eve minutes  \\\n",
       "0              265.1              110             45.07              197.4   \n",
       "1              161.6              123             27.47              195.5   \n",
       "2              243.4              114             41.38              121.2   \n",
       "3              299.4               71             50.90               61.9   \n",
       "4              166.7              113             28.34              148.3   \n",
       "\n",
       "   total eve calls  total eve charge  ...  state_TX  state_UT  state_VA  \\\n",
       "0               99             16.78  ...     False     False     False   \n",
       "1              103             16.62  ...     False     False     False   \n",
       "2              110             10.30  ...     False     False     False   \n",
       "3               88              5.26  ...     False     False     False   \n",
       "4              122             12.61  ...     False     False     False   \n",
       "\n",
       "   state_VT  state_WA  state_WI  state_WV  state_WY  area code_415  \\\n",
       "0     False     False     False     False     False           True   \n",
       "1     False     False     False     False     False           True   \n",
       "2     False     False     False     False     False           True   \n",
       "3     False     False     False     False     False          False   \n",
       "4     False     False     False     False     False           True   \n",
       "\n",
       "   area code_510  \n",
       "0          False  \n",
       "1          False  \n",
       "2          False  \n",
       "3          False  \n",
       "4          False  \n",
       "\n",
       "[5 rows x 70 columns]"
      ]
     },
     "metadata": {},
     "output_type": "display_data"
    }
   ],
   "source": [
    "\n",
    "# Re-load the data to ensure we start from a clean state after extraction\n",
    "\n",
    "df = pd.read_csv('data/churn.csv')\n",
    "\n",
    "# Drop the 'phone number' column again\n",
    "df = df.drop('phone number', axis=1)\n",
    "\n",
    "# Encode binary categorical features ('international plan', 'voice mail plan')\n",
    "# Use replace instead of map to handle potential unseen values more gracefully\n",
    "df['international plan'] = df['international plan'].replace({'yes': 1, 'no': 0})\n",
    "df['voice mail plan'] = df['voice mail plan'].replace({'yes': 1, 'no': 0})\n",
    "\n",
    "\n",
    "# Use one-hot encoding for 'state' and 'area code'\n",
    "df = pd.get_dummies(df, columns=['state', 'area code'], drop_first=True)\n",
    "\n",
    "# Display the first few rows and the info to see the changes\n",
    "display(df.head())\n"
   ]
  },
  {
   "cell_type": "markdown",
   "id": "a682070b",
   "metadata": {},
   "source": [
    "### **Handling Class Imbalance With SMOTE**"
   ]
  },
  {
   "cell_type": "code",
   "execution_count": 56,
   "id": "e959a979",
   "metadata": {},
   "outputs": [
    {
     "name": "stdout",
     "output_type": "stream",
     "text": [
      "Distribution of 'churn' in the original training set:\n"
     ]
    },
    {
     "data": {
      "text/plain": [
       "churn\n",
       "False    2280\n",
       "True      386\n",
       "Name: count, dtype: int64"
      ]
     },
     "metadata": {},
     "output_type": "display_data"
    },
    {
     "name": "stdout",
     "output_type": "stream",
     "text": [
      "\n",
      "Distribution of 'churn' in the resampled training set:\n"
     ]
    },
    {
     "data": {
      "text/plain": [
       "churn\n",
       "False    2280\n",
       "True     2280\n",
       "Name: count, dtype: int64"
      ]
     },
     "metadata": {},
     "output_type": "display_data"
    },
    {
     "name": "stdout",
     "output_type": "stream",
     "text": [
      "\n",
      "Distribution of 'churn' in the testing set:\n"
     ]
    },
    {
     "data": {
      "text/plain": [
       "churn\n",
       "False    570\n",
       "True      97\n",
       "Name: count, dtype: int64"
      ]
     },
     "metadata": {},
     "output_type": "display_data"
    }
   ],
   "source": [
    "\n",
    "# Separate features (X) and target variable (y)\n",
    "X = df.drop('churn', axis=1)\n",
    "y = df['churn']\n",
    "\n",
    "# Split the data into training and testing sets\n",
    "X_train, X_test, y_train, y_test = train_test_split(X, y, test_size=0.2, random_state=42, stratify=y)\n",
    "\n",
    "# Initialize SMOTE\n",
    "smote = SMOTE(random_state=42)\n",
    "\n",
    "# Apply SMOTE to the training data only\n",
    "X_train_resampled, y_train_resampled = smote.fit_resample(X_train, y_train)\n",
    "\n",
    "# Display the new distribution of the target variable in the resampled training set\n",
    "print(\"Distribution of 'churn' in the original training set:\")\n",
    "display(y_train.value_counts())\n",
    "\n",
    "print(\"\\nDistribution of 'churn' in the resampled training set:\")\n",
    "display(y_train_resampled.value_counts())\n",
    "\n",
    "print(\"\\nDistribution of 'churn' in the testing set:\")\n",
    "display(y_test.value_counts())"
   ]
  },
  {
   "cell_type": "markdown",
   "id": "93a599fc",
   "metadata": {},
   "source": [
    "### Summary: Handling Imbalanced Data with SMOTE\n",
    "\n",
    "- **Original Training Set**: Imbalanced — 2280 non-churned vs. 386 churned customers.\n",
    "- **After SMOTE Resampling**: Balanced — 2280 churned and 2280 non-churned customers.\n",
    "- **Testing Set**: Remains imbalanced (570 non-churned vs. 97 churned), preserving real-world class proportions for fair evaluation.\n"
   ]
  },
  {
   "cell_type": "markdown",
   "id": "9278a3e9",
   "metadata": {},
   "source": [
    "### **Class Distribution Before and After SMOTE**\n"
   ]
  },
  {
   "cell_type": "code",
   "execution_count": 61,
   "id": "74e2cd07",
   "metadata": {},
   "outputs": [
    {
     "name": "stderr",
     "output_type": "stream",
     "text": [
      "C:\\Users\\Admin\\AppData\\Local\\Temp\\ipykernel_1752\\20838934.py:11: FutureWarning: \n",
      "\n",
      "Passing `palette` without assigning `hue` is deprecated and will be removed in v0.14.0. Assign the `x` variable to `hue` and set `legend=False` for the same effect.\n",
      "\n",
      "  sns.countplot(x=y_train, ax=axes[0], palette=\"Set2\")\n",
      "C:\\Users\\Admin\\AppData\\Local\\Temp\\ipykernel_1752\\20838934.py:17: FutureWarning: \n",
      "\n",
      "Passing `palette` without assigning `hue` is deprecated and will be removed in v0.14.0. Assign the `x` variable to `hue` and set `legend=False` for the same effect.\n",
      "\n",
      "  sns.countplot(x=y_train_resampled, ax=axes[1], palette=\"Set1\")\n",
      "C:\\Users\\Admin\\AppData\\Local\\Temp\\ipykernel_1752\\20838934.py:23: FutureWarning: \n",
      "\n",
      "Passing `palette` without assigning `hue` is deprecated and will be removed in v0.14.0. Assign the `x` variable to `hue` and set `legend=False` for the same effect.\n",
      "\n",
      "  sns.countplot(x=y_test, ax=axes[2], palette=\"Set3\")\n"
     ]
    },
    {
     "data": {
      "image/png": "[encoded data removed]",
      "text/plain": [
       "<Figure size 1800x500 with 3 Axes>"
      ]
     },
     "metadata": {},
     "output_type": "display_data"
    }
   ],
   "source": [
    "import matplotlib.pyplot as plt\n",
    "import seaborn as sns\n",
    "\n",
    "# Set style\n",
    "sns.set_style(\"whitegrid\")\n",
    "\n",
    "# Plotting the class distribution\n",
    "fig, axes = plt.subplots(1, 3, figsize=(18, 5))\n",
    "\n",
    "# Original training set\n",
    "sns.countplot(x=y_train, ax=axes[0], palette=\"Set2\")\n",
    "axes[0].set_title(\"Original Training Set\")\n",
    "axes[0].set_xlabel(\"Churn\")\n",
    "axes[0].set_ylabel(\"Count\")\n",
    "\n",
    "# Resampled (SMOTE) training set\n",
    "sns.countplot(x=y_train_resampled, ax=axes[1], palette=\"Set1\")\n",
    "axes[1].set_title(\"Resampled Training Set (SMOTE)\")\n",
    "axes[1].set_xlabel(\"Churn\")\n",
    "axes[1].set_ylabel(\"Count\")\n",
    "\n",
    "# Test set\n",
    "sns.countplot(x=y_test, ax=axes[2], palette=\"Set3\")\n",
    "axes[2].set_title(\"Testing Set\")\n",
    "axes[2].set_xlabel(\"Churn\")\n",
    "axes[2].set_ylabel(\"Count\")\n",
    "\n",
    "plt.suptitle(\"Churn Distribution: Before and After Resampling\", fontsize=16)\n",
    "plt.tight_layout()\n",
    "plt.show()\n"
   ]
  },
  {
   "cell_type": "markdown",
   "id": "ceaafb61",
   "metadata": {},
   "source": [
    "### Summary: Before and After SMOTE\n",
    "The visualization confirms that SMOTE successfully balanced the training data by oversampling the minority class. This helps prevent the model from being biased toward the majority class. The test set remains imbalanced to reflect real-world churn distribution during evaluation.\n"
   ]
  },
  {
   "cell_type": "markdown",
   "id": "f37522cc",
   "metadata": {},
   "source": [
    "## **Modeling: Logistic Regression**\n",
    "### **(Baseline Model)**"
   ]
  },
  {
   "cell_type": "code",
   "execution_count": 57,
   "id": "6c104632",
   "metadata": {},
   "outputs": [
    {
     "name": "stdout",
     "output_type": "stream",
     "text": [
      "Logistic Regression Model trained successfully.\n"
     ]
    }
   ],
   "source": [
    "\n",
    "# Initialize the Logistic Regression model\n",
    "# Setting class_weight='balanced' can also be an approach for imbalance,\n",
    "# but we are using SMOTE, so we'll train on the resampled data.\n",
    "model = LogisticRegression(random_state=42, solver='liblinear') # Using liblinear solver for smaller datasets\n",
    "\n",
    "# Train the model on the resampled training data\n",
    "model.fit(X_train_resampled, y_train_resampled)\n",
    "\n",
    "print(\"Logistic Regression Model trained successfully.\")"
   ]
  },
  {
   "cell_type": "code",
   "execution_count": 58,
   "id": "7a1c9c3e",
   "metadata": {},
   "outputs": [
    {
     "name": "stdout",
     "output_type": "stream",
     "text": [
      "Evaluation on Training Data (after SMOTE):\n",
      "              precision    recall  f1-score   support\n",
      "\n",
      "       False       0.89      0.94      0.91      2280\n",
      "        True       0.94      0.88      0.91      2280\n",
      "\n",
      "    accuracy                           0.91      4560\n",
      "   macro avg       0.91      0.91      0.91      4560\n",
      "weighted avg       0.91      0.91      0.91      4560\n",
      "\n",
      "ROC AUC Score (Training): 0.9655957602339179\n",
      "\n",
      "Evaluation on Testing Data (Original Distribution):\n",
      "              precision    recall  f1-score   support\n",
      "\n",
      "       False       0.90      0.94      0.92       570\n",
      "        True       0.49      0.36      0.41        97\n",
      "\n",
      "    accuracy                           0.85       667\n",
      "   macro avg       0.69      0.65      0.66       667\n",
      "weighted avg       0.84      0.85      0.84       667\n",
      "\n",
      "ROC AUC Score (Testing): 0.7625067824199676\n"
     ]
    }
   ],
   "source": [
    "\n",
    "# Make predictions on the training data\n",
    "y_train_pred = model.predict(X_train_resampled)\n",
    "y_train_pred_proba = model.predict_proba(X_train_resampled)[:, 1] # Get probabilities for the positive class (churn=True)\n",
    "\n",
    "# Evaluate on training data\n",
    "print(\"Evaluation on Training Data (after SMOTE):\")\n",
    "print(classification_report(y_train_resampled, y_train_pred))\n",
    "print(f\"ROC AUC Score (Training): {roc_auc_score(y_train_resampled, y_train_pred_proba)}\")\n",
    "\n",
    "# Make predictions on the testing data\n",
    "y_test_pred = model.predict(X_test)\n",
    "y_test_pred_proba = model.predict_proba(X_test)[:, 1] # Get probabilities for the positive class (churn=True)\n",
    "\n",
    "# Evaluate on testing data\n",
    "print(\"\\nEvaluation on Testing Data (Original Distribution):\")\n",
    "print(classification_report(y_test, y_test_pred))\n",
    "print(f\"ROC AUC Score (Testing): {roc_auc_score(y_test, y_test_pred_proba)}\")"
   ]
  },
  {
   "cell_type": "markdown",
   "id": "3ade4d0f",
   "metadata": {},
   "source": [
    "**Evaluation on Training Data (after SMOTE)**\n",
    "\n",
    "- The model performs quite well on the balanced training data, with high precision, recall, F1-score, and ROC AUC (around 0.91 and 0.96 respectively). This indicates that the model learned the patterns in the resampled data effectively.\n",
    "\n",
    "**Evaluation on Testing Data (Original Distribution)**\n",
    "\n",
    "- The performance on the testing data is lower, which is expected as it's evaluated on unseen and imbalanced data.\n",
    "Accuracy is relatively high (0.85), but this can be misleading due to the imbalance.\n",
    "Precision for Churn (True) is 0.49: When the model predicts a customer will churn, it is correct about 49% of the time.\n",
    "Recall for Churn (True) is 0.36: The model correctly identifies only about 36% of the customers who actually churned.\n",
    "F1-Score for Churn (True) is 0.41: This is a balance of precision and recall for the churn class.\n",
    "ROC AUC Score (Testing) is 0.76: This indicates the model has a decent ability to distinguish between churned and non-churned customers, but there is room for improvement.\n",
    "The low recall for the churn class on the testing data is a key observation. This means our baseline model is missing a significant portion of the actual churning customers. For a churn prediction model, identifying as many churning customers as possible (high recall) is often very important, even if it means sometimes incorrectly predicting churn for some non-churned customers (lower precision). The balance between precision and recall depends on the business problem and the costs associated with false positives and false negatives."
   ]
  },
  {
   "cell_type": "markdown",
   "id": "174f005e",
   "metadata": {},
   "source": [
    "#### **Logistic Regression: Hyperparameter Tuning With GridSearchCV**"
   ]
  },
  {
   "cell_type": "code",
   "execution_count": 59,
   "id": "25d13499",
   "metadata": {},
   "outputs": [
    {
     "name": "stdout",
     "output_type": "stream",
     "text": [
      "Starting GridSearchCV...\n"
     ]
    },
    {
     "name": "stderr",
     "output_type": "stream",
     "text": [
      "c:\\Users\\Admin\\OneDrive\\Documents\\Moringa Projects\\PHASE 3 PROJECT\\Phase 3\\syria-tel-churn\\venv\\Lib\\site-packages\\sklearn\\svm\\_base.py:1249: ConvergenceWarning: Liblinear failed to converge, increase the number of iterations.\n",
      "  warnings.warn(\n"
     ]
    },
    {
     "name": "stdout",
     "output_type": "stream",
     "text": [
      "GridSearchCV finished.\n",
      "\n",
      "Best parameters found:  {'C': 100, 'penalty': 'l1', 'solver': 'liblinear'}\n",
      "Best ROC AUC score on training data:  0.8861842105263158\n"
     ]
    }
   ],
   "source": [
    "\n",
    "# Define the parameter grid to search\n",
    "param_grid = {\n",
    "    'C': [0.001, 0.01, 0.1, 1, 10, 100], # Inverse of regularization strength\n",
    "    'penalty': ['l1', 'l2'], # Specify the norm of the penalty\n",
    "    'solver': ['liblinear'] # liblinear is good for smaller datasets and supports l1/l2\n",
    "}\n",
    "\n",
    "# Initialize the Logistic Regression model\n",
    "lr = LogisticRegression(random_state=42)\n",
    "\n",
    "# Define the scorer (using ROC AUC)\n",
    "roc_auc = make_scorer(roc_auc_score)\n",
    "\n",
    "# Initialize GridSearchCV\n",
    "grid_search = GridSearchCV(estimator=lr, param_grid=param_grid, scoring=roc_auc, cv=5)\n",
    "\n",
    "# Fit GridSearchCV to the resampled training data\n",
    "print(\"Starting GridSearchCV...\")\n",
    "grid_search.fit(X_train_resampled, y_train_resampled)\n",
    "print(\"GridSearchCV finished.\")\n",
    "\n",
    "# Get the best parameters and best score\n",
    "print(\"\\nBest parameters found: \", grid_search.best_params_)\n",
    "print(\"Best ROC AUC score on training data: \", grid_search.best_score_)\n",
    "\n",
    "# Get the best model\n",
    "best_lr_model = grid_search.best_estimator_"
   ]
  },
  {
   "cell_type": "markdown",
   "id": "51fea043",
   "metadata": {},
   "source": [
    "#### **Evaluation Of Tuned Logistic Regression Model**"
   ]
  },
  {
   "cell_type": "code",
   "execution_count": 60,
   "id": "349a7670",
   "metadata": {},
   "outputs": [
    {
     "name": "stdout",
     "output_type": "stream",
     "text": [
      "Evaluation on Testing Data (Original Distribution) - Tuned Model:\n",
      "              precision    recall  f1-score   support\n",
      "\n",
      "       False       0.89      0.95      0.92       570\n",
      "        True       0.52      0.30      0.38        97\n",
      "\n",
      "    accuracy                           0.86       667\n",
      "   macro avg       0.70      0.63      0.65       667\n",
      "weighted avg       0.83      0.86      0.84       667\n",
      "\n",
      "ROC AUC Score (Testing) - Tuned Model: 0.7825827455236027\n"
     ]
    }
   ],
   "source": [
    "\n",
    "# Make predictions on the testing data using the best tuned model\n",
    "y_test_pred_tuned = best_lr_model.predict(X_test)\n",
    "y_test_pred_proba_tuned = best_lr_model.predict_proba(X_test)[:, 1] # Get probabilities for the positive class (churn=True)\n",
    "\n",
    "# Evaluate on testing data\n",
    "print(\"Evaluation on Testing Data (Original Distribution) - Tuned Model:\")\n",
    "print(classification_report(y_test, y_test_pred_tuned))\n",
    "print(f\"ROC AUC Score (Testing) - Tuned Model: {roc_auc_score(y_test, y_test_pred_proba_tuned)}\")"
   ]
  },
  {
   "cell_type": "markdown",
   "id": "ffb7b60c",
   "metadata": {},
   "source": [
    "OBSERVATION:\n",
    "\n",
    "- The tuned model shows a slight improvement in Precision (from 0.49 to 0.52) and ROC AUC (from 0.7625 to 0.7826) compared to the baseline model on the testing data. This suggests it's slightly better at correctly identifying positive cases among those it predicts as positive, and has slightly better overall discriminative ability.\n",
    "However, the tuned model shows a decrease in Recall (from 0.36 to 0.30). This means it is now identifying an even smaller percentage of the actual churning customers.\n",
    "- The trade-off between precision and recall is evident here. The tuning improved precision and ROC AUC but at the cost of recall. For a churn prediction model, the importance of precision vs. recall depends on the business context. If the cost of incorrectly targeting a non-churned customer with a retention offer (false positive) is low, but missing a churning customer (false negative) is high (significant revenue loss), then maximizing recall might be more important."
   ]
  },
  {
   "cell_type": "markdown",
   "id": "ff2e3ba9",
   "metadata": {},
   "source": [
    "## **Decision Tree Classifier**"
   ]
  },
  {
   "cell_type": "code",
   "execution_count": null,
   "id": "010cac1f",
   "metadata": {},
   "outputs": [],
   "source": [
    "from sklearn.tree import DecisionTreeClassifier\n",
    "\n",
    "# Initialize the Decision Tree Classifier\n",
    "# We'll start with a basic one and can tune hyperparameters later if needed\n",
    "dt_model = DecisionTreeClassifier(random_state=42)\n",
    "\n",
    "# Train the model on the resampled training data\n",
    "dt_model.fit(X_train_resampled, y_train_resampled)\n",
    "\n",
    "print(\"Decision Tree Model trained successfully.\")"
   ]
  }
 ],
 "metadata": {
  "kernelspec": {
   "display_name": "base",
   "language": "python",
   "name": "python3"
  },
  "language_info": {
   "codemirror_mode": {
    "name": "ipython",
    "version": 3
   },
   "file_extension": ".py",
   "mimetype": "text/x-python",
   "name": "python",
   "nbconvert_exporter": "python",
   "pygments_lexer": "ipython3",
   "version": "3.12.7"
  }
 },
 "nbformat": 4,
 "nbformat_minor": 5
}
