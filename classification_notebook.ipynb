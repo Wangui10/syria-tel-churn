{
 "cells": [
  {
   "cell_type": "markdown",
   "id": "47cdb0df",
   "metadata": {},
   "source": [
    "# *Customer Churn Prediction for SyriaTel*"
   ]
  },
  {
   "cell_type": "markdown",
   "id": "4c23553b",
   "metadata": {},
   "source": [
    "## Stakeholders and Main Problem"
   ]
  },
  {
   "cell_type": "markdown",
   "id": "c1c0b2ca",
   "metadata": {},
   "source": [
    "Our stakeholder is SyriaTel, a telecommunications company. The goal of this project is to provide SyriaTel with insights into the key factors contributing to customer churn and to build a predictive model that identifies customers at risk of leaving. This will enable SyriaTel to take proactive steps to retain customers and reduce revenue loss.\n"
   ]
  },
  {
   "cell_type": "markdown",
   "id": "bdb3b476",
   "metadata": {},
   "source": [
    "## Data Understanding and Preparation"
   ]
  },
  {
   "cell_type": "markdown",
   "id": "52cea5e9",
   "metadata": {},
   "source": [
    "The dataset for this project contains over 3,000 customer records from SyriaTel, a telecommunications provider. Each row represents an individual customer and includes attributes such as demographics, service subscriptions, usage patterns, and customer support interactions. The target variable is “Churn,” indicating whether a customer has discontinued the service. Data was provided in a single CSV file. Initial cleaning involved handling missing values, correcting data types, and encoding categorical variables. Further exploration and feature engineering were performed within the same notebook to prepare the data for modeling.\n"
   ]
  },
  {
   "cell_type": "markdown",
   "id": "01e8cf9f",
   "metadata": {},
   "source": [
    "## Import Datasets"
   ]
  },
  {
   "cell_type": "markdown",
   "id": "02e8708b",
   "metadata": {},
   "source": [
    "Datasets located at :\n",
    "\n",
    "[Kaggle](https://www.kaggle.com/datasets/becksddf/churn-in-telecoms-dataset) and imported as a CSV file. It contains over 3,000 records of customer attributes and churn behavior.\n"
   ]
  },
  {
   "cell_type": "markdown",
   "id": "744acf5a",
   "metadata": {},
   "source": [
    "### Load Dependencies"
   ]
  },
  {
   "cell_type": "code",
   "execution_count": null,
   "id": "c80d621c",
   "metadata": {},
   "outputs": [],
   "source": [
    "\n",
    "import pandas as pd\n",
    "import numpy as np\n",
    "import matplotlib.pyplot as plt\n",
    "import seaborn as sns\n",
    "%matplotlib inline\n",
    "\n",
    "\n",
    "import warnings\n",
    "warnings.filterwarnings('ignore')\n",
    "\n",
    "\n",
    "pd.set_option('display.max_columns', None)\n"
   ]
  },
  {
   "cell_type": "code",
   "execution_count": null,
   "id": "60d4329b",
   "metadata": {},
   "outputs": [],
   "source": [
    "df=pd.read_csv('churn.csv')\n",
    "df.head()"
   ]
  },
  {
   "cell_type": "code",
   "execution_count": null,
   "id": "0ac206fc",
   "metadata": {},
   "outputs": [],
   "source": [
    "print('shape of dataset:', df.shape)\n",
    "df.dtype\n",
    "df.info()\n",
    "df.describe()\n",
    "df.isnull().sum()\n",
    "display(df.describe(include='object'))"
   ]
  },
  {
   "cell_type": "code",
   "execution_count": null,
   "id": "9df68130",
   "metadata": {},
   "outputs": [],
   "source": [
    "df['churn'].value_counts()\n",
    "df['churn'].value_counts(normalize=True)"
   ]
  },
  {
   "cell_type": "markdown",
   "id": "46e57657",
   "metadata": {},
   "source": [
    "BASIC CLEANING"
   ]
  }
 ],
 "metadata": {
  "kernelspec": {
   "display_name": "base",
   "language": "python",
   "name": "python3"
  },
  "language_info": {
   "codemirror_mode": {
    "name": "ipython",
    "version": 3
   },
   "file_extension": ".py",
   "mimetype": "text/x-python",
   "name": "python",
   "nbconvert_exporter": "python",
   "pygments_lexer": "ipython3",
   "version": "3.11.7"
  }
 },
 "nbformat": 4,
 "nbformat_minor": 5
}
