{
 "cells": [
  {
   "cell_type": "markdown",
   "id": "47cdb0df",
   "metadata": {},
   "source": [
    "# **CUSTOMER CHURN PREDICTION FOR SYRIATEL**"
   ]
  },
  {
   "cell_type": "markdown",
   "id": "51cfb695",
   "metadata": {},
   "source": [
    "## **BUSINESS UNDERSTANDING**"
   ]
  },
  {
   "cell_type": "markdown",
   "id": "2604f46e",
   "metadata": {},
   "source": [
    "### Project Overview\n",
    "The goal of this project is to build a classifier that predicts whether a customer will \"churn\" stop doing business with SyriaTel, a telecommunications company.\n",
    "This is a binary classification problem, where the model will predict customer churn based on various features. By analyzing historical customer data, we aim to uncover patterns and factors that are indicative of customer churn. This will enable SyriaTel to take proactive steps to retain customers and reduce potential revenue loss.\n",
    "Churn prediction is crucial for the company to implement retention strategies and improve customer satisfaction.\n"
   ]
  },
  {
   "cell_type": "markdown",
   "id": "6a8c6e8d",
   "metadata": {},
   "source": [
    "### Business Problem\n",
    " To predict whether a customer will churn (stop doing business with SyriaTel). \n",
    "\n",
    "- Understanding customer churn is critical for SyriaTel to minimize revenue loss and enhance customer loyalty. By identifying the patterns and factors that lead to churn, SyriaTel can implement targeted retention strategies, improve overall customer satisfaction, and reduce the financial impact of losing customers. "
   ]
  },
  {
   "cell_type": "markdown",
   "id": "4a0831ce",
   "metadata": {},
   "source": [
    "### Stakeholders\n",
    "- **Primary Stakeholder**: SyriaTel, a telecommunications company interested in reducing customer churn and improving customer retention.\n",
    "- **Secondary Stakeholders**:\n",
    "  - **Customer Service Teams**: To develop strategies and interventions for retaining customers identified as high risk.\n",
    "  - **Marketing Teams**: To create targeted campaigns and offers aimed at at-risk customers.\n",
    "  - **Financial Analysts**: To evaluate the financial impact of customer churn and measure the effectiveness of retention strategies."
   ]
  },
  {
   "cell_type": "markdown",
   "id": "9831964b",
   "metadata": {},
   "source": [
    "### Project Objectives\n",
    "This project aims to achieve the following:\n",
    "\n",
    "1. Develop a Churn Prediction Model-\n",
    " Build an effective classification model to predict customer churn for SyriaTel.\n",
    "2. Evaluate Model Performance -\n",
    "Assess the model's effectiveness using appropriate metrics for imbalanced data (e.g., Precision, Recall, F1-Score, ROC AUC).\n",
    "3. Identify Key Churn Drivers -\n",
    " Determine which customer attributes and behaviors are most significant in predicting churn.\n",
    "4. Propose Actionable Retention Strategies - \n",
    "Formulate data-driven recommendations for SyriaTel to reduce customer attrition."
   ]
  },
  {
   "cell_type": "markdown",
   "id": "aaf16ea7",
   "metadata": {},
   "source": [
    "### Key Business Questions\n",
    "To address the overarching business problem, this project will seek to answer the following key questions:\n",
    "\n",
    "1. Which customers are most likely to churn in the near future?\n",
    "2. What characteristics or behaviors differentiate customers who churn from those who don't?\n",
    "3. How effectively can we predict churn before it happens, and what are the trade-offs of our predictions?\n",
    "4. How can insights from this model inform our customer retention strategies to reduce revenue loss for SyriaTel?"
   ]
  },
  {
   "cell_type": "markdown",
   "id": "bebd7d9a",
   "metadata": {},
   "source": [
    "## **DATA UNDERSTANDING**"
   ]
  },
  {
   "cell_type": "markdown",
   "id": "52cea5e9",
   "metadata": {},
   "source": [
    "### Data Overview\n",
    "The dataset for this project contains over 3,000 customer records from SyriaTel, a telecommunications provider. Each row represents an individual customer and includes attributes such as demographics, service subscriptions, usage patterns, and customer support interactions. The target variable is “Churn,” indicating whether a customer has discontinued the service. The target variable,churn is binary categorical variable where: 'True' : Indicates the customer churned 'False' : Indicates the customer did not churn. Data was provided in a single CSV file. Initial cleaning involved handling missing values, correcting data types, and encoding categorical variables. Further exploration and feature engineering were performed within the same notebook to prepare the data for modeling.\n"
   ]
  },
  {
   "cell_type": "markdown",
   "id": "3b1572c1",
   "metadata": {},
   "source": [
    "### Data Description\n",
    "The dataset contains the following features:\n",
    "- `state`: State where the customer resides.Geographic factors might influence churn, especially if different regions have varying levels of service quality or pricing.\n",
    "- `account length`: The length of the customer’s account.Longer account lengths might be associated with lower churn rates.\n",
    "- `area code`: The area code of the customer's phone number\n",
    "- `phone number`: Customer’s phone number\n",
    "- `international plan`: Whether the customer has an international plan.The presence of this plan could affect churn rates based on its perceived value.\n",
    "- `voice mail plan`: Whether the customer has a voice mail plan\n",
    "- `number vmail messages`: Number of voice mail messages\n",
    "- `total day minutes`: Total minutes of day calls\n",
    "- `total day calls`: Total number of day calls\n",
    "- `total day charge`: Total charge for day calls\n",
    "- `total eve minutes`: Total minutes of evening calls\n",
    "- `total eve calls`: Total number of evening calls\n",
    "- `total eve charge`: Total charge for evening calls\n",
    "- `total night minutes`: Total minutes of night calls\n",
    "- `total night calls`: Total number of night calls\n",
    "- `total night charge`: Total charge for night calls\n",
    "- `total intl minutes`: Total minutes of international calls\n",
    "- `total intl calls`: Total number of international calls\n",
    "- `total intl charge`: Total charge for international calls\n",
    "  \n",
    "  These features quantify the amount of time spent on calls during different times of the day. Higher usage might indicate higher satisfaction or, conversely, higher bills, which could impact churn.\n",
    "- `customer service calls`: Number of customer service calls.A high number of service calls might indicate issues that could lead to churn.\n",
    "- `churn`: Target variable indicating whether the customer has churned (TRUE/FALSE)"
   ]
  },
  {
   "cell_type": "markdown",
   "id": "c6283ac8",
   "metadata": {},
   "source": [
    "### Data Sources and Collection\n",
    "The dataset was collected through various customer interaction channels, including service usage logs, billing information, and customer service interactions. The collection methods include automated data capture from CRM systems and manual entries from customer service records.\n",
    "\n",
    "Dataset located at :\n",
    "\n",
    "[Kaggle](https://www.kaggle.com/datasets/becksddf/churn-in-telecoms-dataset) and imported as a CSV file. It contains over 3,000 records of customer attributes and churn behavior.\n"
   ]
  },
  {
   "cell_type": "markdown",
   "id": "d3ae211a",
   "metadata": {},
   "source": [
    "### Data Exploration"
   ]
  },
  {
   "cell_type": "code",
   "execution_count": 1,
   "id": "c80d621c",
   "metadata": {},
   "outputs": [],
   "source": [
    "# Import the relevant libraries\n",
    "import numpy as np\n",
    "import pandas as pd\n",
    "%matplotlib inline\n",
    "import seaborn as sns\n",
    "import matplotlib.pyplot as plt\n",
    "from imblearn.over_sampling import SMOTE\n",
    "from sklearn.model_selection import GridSearchCV\n",
    "from sklearn.linear_model import LogisticRegression\n",
    "from scipy.stats import ttest_ind, chi2_contingency\n",
    "from sklearn.model_selection import train_test_split\n",
    "from sklearn.metrics import roc_auc_score, make_scorer\n",
    "from sklearn.metrics import classification_report, confusion_matrix, roc_auc_score\n",
    "\n",
    "\n"
   ]
  },
  {
   "cell_type": "code",
   "execution_count": 2,
   "id": "60d4329b",
   "metadata": {},
   "outputs": [
    {
     "data": {
      "text/html": [
       "<div>\n",
       "<style scoped>\n",
       "    .dataframe tbody tr th:only-of-type {\n",
       "        vertical-align: middle;\n",
       "    }\n",
       "\n",
       "    .dataframe tbody tr th {\n",
       "        vertical-align: top;\n",
       "    }\n",
       "\n",
       "    .dataframe thead th {\n",
       "        text-align: right;\n",
       "    }\n",
       "</style>\n",
       "<table border=\"1\" class=\"dataframe\">\n",
       "  <thead>\n",
       "    <tr style=\"text-align: right;\">\n",
       "      <th></th>\n",
       "      <th>state</th>\n",
       "      <th>account length</th>\n",
       "      <th>area code</th>\n",
       "      <th>phone number</th>\n",
       "      <th>international plan</th>\n",
       "      <th>voice mail plan</th>\n",
       "      <th>number vmail messages</th>\n",
       "      <th>total day minutes</th>\n",
       "      <th>total day calls</th>\n",
       "      <th>total day charge</th>\n",
       "      <th>...</th>\n",
       "      <th>total eve calls</th>\n",
       "      <th>total eve charge</th>\n",
       "      <th>total night minutes</th>\n",
       "      <th>total night calls</th>\n",
       "      <th>total night charge</th>\n",
       "      <th>total intl minutes</th>\n",
       "      <th>total intl calls</th>\n",
       "      <th>total intl charge</th>\n",
       "      <th>customer service calls</th>\n",
       "      <th>churn</th>\n",
       "    </tr>\n",
       "  </thead>\n",
       "  <tbody>\n",
       "    <tr>\n",
       "      <th>0</th>\n",
       "      <td>KS</td>\n",
       "      <td>128</td>\n",
       "      <td>415</td>\n",
       "      <td>382-4657</td>\n",
       "      <td>no</td>\n",
       "      <td>yes</td>\n",
       "      <td>25</td>\n",
       "      <td>265.1</td>\n",
       "      <td>110</td>\n",
       "      <td>45.07</td>\n",
       "      <td>...</td>\n",
       "      <td>99</td>\n",
       "      <td>16.78</td>\n",
       "      <td>244.7</td>\n",
       "      <td>91</td>\n",
       "      <td>11.01</td>\n",
       "      <td>10.0</td>\n",
       "      <td>3</td>\n",
       "      <td>2.70</td>\n",
       "      <td>1</td>\n",
       "      <td>False</td>\n",
       "    </tr>\n",
       "    <tr>\n",
       "      <th>1</th>\n",
       "      <td>OH</td>\n",
       "      <td>107</td>\n",
       "      <td>415</td>\n",
       "      <td>371-7191</td>\n",
       "      <td>no</td>\n",
       "      <td>yes</td>\n",
       "      <td>26</td>\n",
       "      <td>161.6</td>\n",
       "      <td>123</td>\n",
       "      <td>27.47</td>\n",
       "      <td>...</td>\n",
       "      <td>103</td>\n",
       "      <td>16.62</td>\n",
       "      <td>254.4</td>\n",
       "      <td>103</td>\n",
       "      <td>11.45</td>\n",
       "      <td>13.7</td>\n",
       "      <td>3</td>\n",
       "      <td>3.70</td>\n",
       "      <td>1</td>\n",
       "      <td>False</td>\n",
       "    </tr>\n",
       "    <tr>\n",
       "      <th>2</th>\n",
       "      <td>NJ</td>\n",
       "      <td>137</td>\n",
       "      <td>415</td>\n",
       "      <td>358-1921</td>\n",
       "      <td>no</td>\n",
       "      <td>no</td>\n",
       "      <td>0</td>\n",
       "      <td>243.4</td>\n",
       "      <td>114</td>\n",
       "      <td>41.38</td>\n",
       "      <td>...</td>\n",
       "      <td>110</td>\n",
       "      <td>10.30</td>\n",
       "      <td>162.6</td>\n",
       "      <td>104</td>\n",
       "      <td>7.32</td>\n",
       "      <td>12.2</td>\n",
       "      <td>5</td>\n",
       "      <td>3.29</td>\n",
       "      <td>0</td>\n",
       "      <td>False</td>\n",
       "    </tr>\n",
       "    <tr>\n",
       "      <th>3</th>\n",
       "      <td>OH</td>\n",
       "      <td>84</td>\n",
       "      <td>408</td>\n",
       "      <td>375-9999</td>\n",
       "      <td>yes</td>\n",
       "      <td>no</td>\n",
       "      <td>0</td>\n",
       "      <td>299.4</td>\n",
       "      <td>71</td>\n",
       "      <td>50.90</td>\n",
       "      <td>...</td>\n",
       "      <td>88</td>\n",
       "      <td>5.26</td>\n",
       "      <td>196.9</td>\n",
       "      <td>89</td>\n",
       "      <td>8.86</td>\n",
       "      <td>6.6</td>\n",
       "      <td>7</td>\n",
       "      <td>1.78</td>\n",
       "      <td>2</td>\n",
       "      <td>False</td>\n",
       "    </tr>\n",
       "    <tr>\n",
       "      <th>4</th>\n",
       "      <td>OK</td>\n",
       "      <td>75</td>\n",
       "      <td>415</td>\n",
       "      <td>330-6626</td>\n",
       "      <td>yes</td>\n",
       "      <td>no</td>\n",
       "      <td>0</td>\n",
       "      <td>166.7</td>\n",
       "      <td>113</td>\n",
       "      <td>28.34</td>\n",
       "      <td>...</td>\n",
       "      <td>122</td>\n",
       "      <td>12.61</td>\n",
       "      <td>186.9</td>\n",
       "      <td>121</td>\n",
       "      <td>8.41</td>\n",
       "      <td>10.1</td>\n",
       "      <td>3</td>\n",
       "      <td>2.73</td>\n",
       "      <td>3</td>\n",
       "      <td>False</td>\n",
       "    </tr>\n",
       "  </tbody>\n",
       "</table>\n",
       "<p>5 rows × 21 columns</p>\n",
       "</div>"
      ],
      "text/plain": [
       "  state  account length  area code phone number international plan  \\\n",
       "0    KS             128        415     382-4657                 no   \n",
       "1    OH             107        415     371-7191                 no   \n",
       "2    NJ             137        415     358-1921                 no   \n",
       "3    OH              84        408     375-9999                yes   \n",
       "4    OK              75        415     330-6626                yes   \n",
       "\n",
       "  voice mail plan  number vmail messages  total day minutes  total day calls  \\\n",
       "0             yes                     25              265.1              110   \n",
       "1             yes                     26              161.6              123   \n",
       "2              no                      0              243.4              114   \n",
       "3              no                      0              299.4               71   \n",
       "4              no                      0              166.7              113   \n",
       "\n",
       "   total day charge  ...  total eve calls  total eve charge  \\\n",
       "0             45.07  ...               99             16.78   \n",
       "1             27.47  ...              103             16.62   \n",
       "2             41.38  ...              110             10.30   \n",
       "3             50.90  ...               88              5.26   \n",
       "4             28.34  ...              122             12.61   \n",
       "\n",
       "   total night minutes  total night calls  total night charge  \\\n",
       "0                244.7                 91               11.01   \n",
       "1                254.4                103               11.45   \n",
       "2                162.6                104                7.32   \n",
       "3                196.9                 89                8.86   \n",
       "4                186.9                121                8.41   \n",
       "\n",
       "   total intl minutes  total intl calls  total intl charge  \\\n",
       "0                10.0                 3               2.70   \n",
       "1                13.7                 3               3.70   \n",
       "2                12.2                 5               3.29   \n",
       "3                 6.6                 7               1.78   \n",
       "4                10.1                 3               2.73   \n",
       "\n",
       "   customer service calls  churn  \n",
       "0                       1  False  \n",
       "1                       1  False  \n",
       "2                       0  False  \n",
       "3                       2  False  \n",
       "4                       3  False  \n",
       "\n",
       "[5 rows x 21 columns]"
      ]
     },
     "execution_count": 2,
     "metadata": {},
     "output_type": "execute_result"
    }
   ],
   "source": [
    "# Load the dataset\n",
    "df = pd.read_csv('data/churn.csv')\n",
    "\n",
    "\n",
    "# Preview the first few rows\n",
    "df.head()"
   ]
  },
  {
   "cell_type": "code",
   "execution_count": 3,
   "id": "43f5236d",
   "metadata": {},
   "outputs": [
    {
     "name": "stdout",
     "output_type": "stream",
     "text": [
      "<class 'pandas.core.frame.DataFrame'>\n",
      "RangeIndex: 3333 entries, 0 to 3332\n",
      "Data columns (total 21 columns):\n",
      " #   Column                  Non-Null Count  Dtype  \n",
      "---  ------                  --------------  -----  \n",
      " 0   state                   3333 non-null   object \n",
      " 1   account length          3333 non-null   int64  \n",
      " 2   area code               3333 non-null   int64  \n",
      " 3   phone number            3333 non-null   object \n",
      " 4   international plan      3333 non-null   object \n",
      " 5   voice mail plan         3333 non-null   object \n",
      " 6   number vmail messages   3333 non-null   int64  \n",
      " 7   total day minutes       3333 non-null   float64\n",
      " 8   total day calls         3333 non-null   int64  \n",
      " 9   total day charge        3333 non-null   float64\n",
      " 10  total eve minutes       3333 non-null   float64\n",
      " 11  total eve calls         3333 non-null   int64  \n",
      " 12  total eve charge        3333 non-null   float64\n",
      " 13  total night minutes     3333 non-null   float64\n",
      " 14  total night calls       3333 non-null   int64  \n",
      " 15  total night charge      3333 non-null   float64\n",
      " 16  total intl minutes      3333 non-null   float64\n",
      " 17  total intl calls        3333 non-null   int64  \n",
      " 18  total intl charge       3333 non-null   float64\n",
      " 19  customer service calls  3333 non-null   int64  \n",
      " 20  churn                   3333 non-null   bool   \n",
      "dtypes: bool(1), float64(8), int64(8), object(4)\n",
      "memory usage: 524.2+ KB\n"
     ]
    }
   ],
   "source": [
    "# Display information about the dataframe\n",
    "df.info()"
   ]
  },
  {
   "cell_type": "code",
   "execution_count": 4,
   "id": "ca13da73",
   "metadata": {},
   "outputs": [
    {
     "data": {
      "text/html": [
       "<div>\n",
       "<style scoped>\n",
       "    .dataframe tbody tr th:only-of-type {\n",
       "        vertical-align: middle;\n",
       "    }\n",
       "\n",
       "    .dataframe tbody tr th {\n",
       "        vertical-align: top;\n",
       "    }\n",
       "\n",
       "    .dataframe thead th {\n",
       "        text-align: right;\n",
       "    }\n",
       "</style>\n",
       "<table border=\"1\" class=\"dataframe\">\n",
       "  <thead>\n",
       "    <tr style=\"text-align: right;\">\n",
       "      <th></th>\n",
       "      <th>account length</th>\n",
       "      <th>area code</th>\n",
       "      <th>number vmail messages</th>\n",
       "      <th>total day minutes</th>\n",
       "      <th>total day calls</th>\n",
       "      <th>total day charge</th>\n",
       "      <th>total eve minutes</th>\n",
       "      <th>total eve calls</th>\n",
       "      <th>total eve charge</th>\n",
       "      <th>total night minutes</th>\n",
       "      <th>total night calls</th>\n",
       "      <th>total night charge</th>\n",
       "      <th>total intl minutes</th>\n",
       "      <th>total intl calls</th>\n",
       "      <th>total intl charge</th>\n",
       "      <th>customer service calls</th>\n",
       "    </tr>\n",
       "  </thead>\n",
       "  <tbody>\n",
       "    <tr>\n",
       "      <th>count</th>\n",
       "      <td>3333.000000</td>\n",
       "      <td>3333.000000</td>\n",
       "      <td>3333.000000</td>\n",
       "      <td>3333.000000</td>\n",
       "      <td>3333.000000</td>\n",
       "      <td>3333.000000</td>\n",
       "      <td>3333.000000</td>\n",
       "      <td>3333.000000</td>\n",
       "      <td>3333.000000</td>\n",
       "      <td>3333.000000</td>\n",
       "      <td>3333.000000</td>\n",
       "      <td>3333.000000</td>\n",
       "      <td>3333.000000</td>\n",
       "      <td>3333.000000</td>\n",
       "      <td>3333.000000</td>\n",
       "      <td>3333.000000</td>\n",
       "    </tr>\n",
       "    <tr>\n",
       "      <th>mean</th>\n",
       "      <td>101.064806</td>\n",
       "      <td>437.182418</td>\n",
       "      <td>8.099010</td>\n",
       "      <td>179.775098</td>\n",
       "      <td>100.435644</td>\n",
       "      <td>30.562307</td>\n",
       "      <td>200.980348</td>\n",
       "      <td>100.114311</td>\n",
       "      <td>17.083540</td>\n",
       "      <td>200.872037</td>\n",
       "      <td>100.107711</td>\n",
       "      <td>9.039325</td>\n",
       "      <td>10.237294</td>\n",
       "      <td>4.479448</td>\n",
       "      <td>2.764581</td>\n",
       "      <td>1.562856</td>\n",
       "    </tr>\n",
       "    <tr>\n",
       "      <th>std</th>\n",
       "      <td>39.822106</td>\n",
       "      <td>42.371290</td>\n",
       "      <td>13.688365</td>\n",
       "      <td>54.467389</td>\n",
       "      <td>20.069084</td>\n",
       "      <td>9.259435</td>\n",
       "      <td>50.713844</td>\n",
       "      <td>19.922625</td>\n",
       "      <td>4.310668</td>\n",
       "      <td>50.573847</td>\n",
       "      <td>19.568609</td>\n",
       "      <td>2.275873</td>\n",
       "      <td>2.791840</td>\n",
       "      <td>2.461214</td>\n",
       "      <td>0.753773</td>\n",
       "      <td>1.315491</td>\n",
       "    </tr>\n",
       "    <tr>\n",
       "      <th>min</th>\n",
       "      <td>1.000000</td>\n",
       "      <td>408.000000</td>\n",
       "      <td>0.000000</td>\n",
       "      <td>0.000000</td>\n",
       "      <td>0.000000</td>\n",
       "      <td>0.000000</td>\n",
       "      <td>0.000000</td>\n",
       "      <td>0.000000</td>\n",
       "      <td>0.000000</td>\n",
       "      <td>23.200000</td>\n",
       "      <td>33.000000</td>\n",
       "      <td>1.040000</td>\n",
       "      <td>0.000000</td>\n",
       "      <td>0.000000</td>\n",
       "      <td>0.000000</td>\n",
       "      <td>0.000000</td>\n",
       "    </tr>\n",
       "    <tr>\n",
       "      <th>25%</th>\n",
       "      <td>74.000000</td>\n",
       "      <td>408.000000</td>\n",
       "      <td>0.000000</td>\n",
       "      <td>143.700000</td>\n",
       "      <td>87.000000</td>\n",
       "      <td>24.430000</td>\n",
       "      <td>166.600000</td>\n",
       "      <td>87.000000</td>\n",
       "      <td>14.160000</td>\n",
       "      <td>167.000000</td>\n",
       "      <td>87.000000</td>\n",
       "      <td>7.520000</td>\n",
       "      <td>8.500000</td>\n",
       "      <td>3.000000</td>\n",
       "      <td>2.300000</td>\n",
       "      <td>1.000000</td>\n",
       "    </tr>\n",
       "    <tr>\n",
       "      <th>50%</th>\n",
       "      <td>101.000000</td>\n",
       "      <td>415.000000</td>\n",
       "      <td>0.000000</td>\n",
       "      <td>179.400000</td>\n",
       "      <td>101.000000</td>\n",
       "      <td>30.500000</td>\n",
       "      <td>201.400000</td>\n",
       "      <td>100.000000</td>\n",
       "      <td>17.120000</td>\n",
       "      <td>201.200000</td>\n",
       "      <td>100.000000</td>\n",
       "      <td>9.050000</td>\n",
       "      <td>10.300000</td>\n",
       "      <td>4.000000</td>\n",
       "      <td>2.780000</td>\n",
       "      <td>1.000000</td>\n",
       "    </tr>\n",
       "    <tr>\n",
       "      <th>75%</th>\n",
       "      <td>127.000000</td>\n",
       "      <td>510.000000</td>\n",
       "      <td>20.000000</td>\n",
       "      <td>216.400000</td>\n",
       "      <td>114.000000</td>\n",
       "      <td>36.790000</td>\n",
       "      <td>235.300000</td>\n",
       "      <td>114.000000</td>\n",
       "      <td>20.000000</td>\n",
       "      <td>235.300000</td>\n",
       "      <td>113.000000</td>\n",
       "      <td>10.590000</td>\n",
       "      <td>12.100000</td>\n",
       "      <td>6.000000</td>\n",
       "      <td>3.270000</td>\n",
       "      <td>2.000000</td>\n",
       "    </tr>\n",
       "    <tr>\n",
       "      <th>max</th>\n",
       "      <td>243.000000</td>\n",
       "      <td>510.000000</td>\n",
       "      <td>51.000000</td>\n",
       "      <td>350.800000</td>\n",
       "      <td>165.000000</td>\n",
       "      <td>59.640000</td>\n",
       "      <td>363.700000</td>\n",
       "      <td>170.000000</td>\n",
       "      <td>30.910000</td>\n",
       "      <td>395.000000</td>\n",
       "      <td>175.000000</td>\n",
       "      <td>17.770000</td>\n",
       "      <td>20.000000</td>\n",
       "      <td>20.000000</td>\n",
       "      <td>5.400000</td>\n",
       "      <td>9.000000</td>\n",
       "    </tr>\n",
       "  </tbody>\n",
       "</table>\n",
       "</div>"
      ],
      "text/plain": [
       "       account length    area code  number vmail messages  total day minutes  \\\n",
       "count     3333.000000  3333.000000            3333.000000        3333.000000   \n",
       "mean       101.064806   437.182418               8.099010         179.775098   \n",
       "std         39.822106    42.371290              13.688365          54.467389   \n",
       "min          1.000000   408.000000               0.000000           0.000000   \n",
       "25%         74.000000   408.000000               0.000000         143.700000   \n",
       "50%        101.000000   415.000000               0.000000         179.400000   \n",
       "75%        127.000000   510.000000              20.000000         216.400000   \n",
       "max        243.000000   510.000000              51.000000         350.800000   \n",
       "\n",
       "       total day calls  total day charge  total eve minutes  total eve calls  \\\n",
       "count      3333.000000       3333.000000        3333.000000      3333.000000   \n",
       "mean        100.435644         30.562307         200.980348       100.114311   \n",
       "std          20.069084          9.259435          50.713844        19.922625   \n",
       "min           0.000000          0.000000           0.000000         0.000000   \n",
       "25%          87.000000         24.430000         166.600000        87.000000   \n",
       "50%         101.000000         30.500000         201.400000       100.000000   \n",
       "75%         114.000000         36.790000         235.300000       114.000000   \n",
       "max         165.000000         59.640000         363.700000       170.000000   \n",
       "\n",
       "       total eve charge  total night minutes  total night calls  \\\n",
       "count       3333.000000          3333.000000        3333.000000   \n",
       "mean          17.083540           200.872037         100.107711   \n",
       "std            4.310668            50.573847          19.568609   \n",
       "min            0.000000            23.200000          33.000000   \n",
       "25%           14.160000           167.000000          87.000000   \n",
       "50%           17.120000           201.200000         100.000000   \n",
       "75%           20.000000           235.300000         113.000000   \n",
       "max           30.910000           395.000000         175.000000   \n",
       "\n",
       "       total night charge  total intl minutes  total intl calls  \\\n",
       "count         3333.000000         3333.000000       3333.000000   \n",
       "mean             9.039325           10.237294          4.479448   \n",
       "std              2.275873            2.791840          2.461214   \n",
       "min              1.040000            0.000000          0.000000   \n",
       "25%              7.520000            8.500000          3.000000   \n",
       "50%              9.050000           10.300000          4.000000   \n",
       "75%             10.590000           12.100000          6.000000   \n",
       "max             17.770000           20.000000         20.000000   \n",
       "\n",
       "       total intl charge  customer service calls  \n",
       "count        3333.000000             3333.000000  \n",
       "mean            2.764581                1.562856  \n",
       "std             0.753773                1.315491  \n",
       "min             0.000000                0.000000  \n",
       "25%             2.300000                1.000000  \n",
       "50%             2.780000                1.000000  \n",
       "75%             3.270000                2.000000  \n",
       "max             5.400000                9.000000  "
      ]
     },
     "metadata": {},
     "output_type": "display_data"
    }
   ],
   "source": [
    "# Display descriptive statistics for numerical columns\n",
    "display(df.describe())"
   ]
  },
  {
   "cell_type": "code",
   "execution_count": 5,
   "id": "994d866a",
   "metadata": {},
   "outputs": [
    {
     "data": {
      "text/plain": [
       "churn\n",
       "False    2850\n",
       "True      483\n",
       "Name: count, dtype: int64"
      ]
     },
     "metadata": {},
     "output_type": "display_data"
    }
   ],
   "source": [
    "# Display the distribution of the 'churn' variable\n",
    "display(df['churn'].value_counts())"
   ]
  },
  {
   "cell_type": "markdown",
   "id": "449c4829",
   "metadata": {},
   "source": [
    "**Observations:**\n",
    "\n",
    "The target variable `churn` is imbalanced, with a majority of customers not churning. This imbalance may impact model performance and will need to be addressed during model training and evaluation.\n"
   ]
  },
  {
   "cell_type": "code",
   "execution_count": 6,
   "id": "a80aef5d",
   "metadata": {},
   "outputs": [
    {
     "data": {
      "text/plain": [
       "state                      object\n",
       "account length              int64\n",
       "area code                   int64\n",
       "phone number               object\n",
       "international plan         object\n",
       "voice mail plan            object\n",
       "number vmail messages       int64\n",
       "total day minutes         float64\n",
       "total day calls             int64\n",
       "total day charge          float64\n",
       "total eve minutes         float64\n",
       "total eve calls             int64\n",
       "total eve charge          float64\n",
       "total night minutes       float64\n",
       "total night calls           int64\n",
       "total night charge        float64\n",
       "total intl minutes        float64\n",
       "total intl calls            int64\n",
       "total intl charge         float64\n",
       "customer service calls      int64\n",
       "churn                        bool\n",
       "dtype: object"
      ]
     },
     "execution_count": 6,
     "metadata": {},
     "output_type": "execute_result"
    }
   ],
   "source": [
    "df.dtypes"
   ]
  },
  {
   "cell_type": "markdown",
   "id": "6709b31b",
   "metadata": {},
   "source": [
    "#### Distribution of the Target Variable"
   ]
  },
  {
   "cell_type": "code",
   "execution_count": 7,
   "id": "75621311",
   "metadata": {},
   "outputs": [
    {
     "data": {
      "image/png": "[encoded data removed]",
      "text/plain": [
       "<Figure size 640x480 with 1 Axes>"
      ]
     },
     "metadata": {},
     "output_type": "display_data"
    }
   ],
   "source": [
    "# Plot for Distribution of Churn to understand the proportion of customers who have churned vs those who haven't\n",
    "\n",
    "sns.countplot(data=df,  x='churn')\n",
    "plt.title('Distribution of Churn')\n",
    "plt.xlabel('Churn')\n",
    "plt.ylabel('Count')\n",
    "plt.show()"
   ]
  },
  {
   "cell_type": "markdown",
   "id": "337df0de",
   "metadata": {},
   "source": [
    "**Observations:**\n",
    "\n",
    "- There is a significant imbalance between the two classes. The majority of customers have remained with the service (churn = False), while a\n",
    "  much smaller proportion have churned (churn = True). This imbalance can pose challenges in model training and evaluation, as it may lead to biased predictions.\n",
    "- False (Not Churned): Approximately 2,800 customers\n",
    "- True (Churned): Approximately 500 customers"
   ]
  },
  {
   "cell_type": "markdown",
   "id": "e19ae368",
   "metadata": {},
   "source": [
    "#### Exploring Categorical Feature Distributions\n"
   ]
  },
  {
   "cell_type": "code",
   "execution_count": 8,
   "id": "648150c2",
   "metadata": {},
   "outputs": [
    {
     "name": "stdout",
     "output_type": "stream",
     "text": [
      "Distribution of 'state':\n"
     ]
    },
    {
     "data": {
      "text/plain": [
       "state\n",
       "WV    106\n",
       "MN     84\n",
       "NY     83\n",
       "AL     80\n",
       "OH     78\n",
       "WI     78\n",
       "OR     78\n",
       "WY     77\n",
       "VA     77\n",
       "CT     74\n",
       "ID     73\n",
       "MI     73\n",
       "VT     73\n",
       "TX     72\n",
       "UT     72\n",
       "IN     71\n",
       "MD     70\n",
       "KS     70\n",
       "NJ     68\n",
       "NC     68\n",
       "MT     68\n",
       "WA     66\n",
       "CO     66\n",
       "NV     66\n",
       "MS     65\n",
       "MA     65\n",
       "RI     65\n",
       "AZ     64\n",
       "MO     63\n",
       "FL     63\n",
       "NM     62\n",
       "ME     62\n",
       "ND     62\n",
       "OK     61\n",
       "NE     61\n",
       "DE     61\n",
       "SD     60\n",
       "SC     60\n",
       "KY     59\n",
       "IL     58\n",
       "NH     56\n",
       "AR     55\n",
       "DC     54\n",
       "GA     54\n",
       "HI     53\n",
       "TN     53\n",
       "AK     52\n",
       "LA     51\n",
       "PA     45\n",
       "IA     44\n",
       "CA     34\n",
       "Name: count, dtype: int64"
      ]
     },
     "metadata": {},
     "output_type": "display_data"
    },
    {
     "name": "stdout",
     "output_type": "stream",
     "text": [
      "\n",
      "Distribution of 'area code':\n"
     ]
    },
    {
     "data": {
      "text/plain": [
       "area code\n",
       "415    1655\n",
       "510     840\n",
       "408     838\n",
       "Name: count, dtype: int64"
      ]
     },
     "metadata": {},
     "output_type": "display_data"
    },
    {
     "name": "stdout",
     "output_type": "stream",
     "text": [
      "\n",
      "Distribution of 'international plan':\n"
     ]
    },
    {
     "data": {
      "text/plain": [
       "international plan\n",
       "no     3010\n",
       "yes     323\n",
       "Name: count, dtype: int64"
      ]
     },
     "metadata": {},
     "output_type": "display_data"
    },
    {
     "name": "stdout",
     "output_type": "stream",
     "text": [
      "\n",
      "Distribution of 'voice mail plan':\n"
     ]
    },
    {
     "data": {
      "text/plain": [
       "voice mail plan\n",
       "no     2411\n",
       "yes     922\n",
       "Name: count, dtype: int64"
      ]
     },
     "metadata": {},
     "output_type": "display_data"
    }
   ],
   "source": [
    "# Display the distribution of categorical columns\n",
    "print(\"Distribution of 'state':\")\n",
    "display(df['state'].value_counts())\n",
    "\n",
    "print(\"\\nDistribution of 'area code':\")\n",
    "display(df['area code'].value_counts())\n",
    "\n",
    "print(\"\\nDistribution of 'international plan':\")\n",
    "display(df['international plan'].value_counts())\n",
    "\n",
    "print(\"\\nDistribution of 'voice mail plan':\")\n",
    "display(df['voice mail plan'].value_counts())"
   ]
  },
  {
   "cell_type": "markdown",
   "id": "6ca29506",
   "metadata": {},
   "source": [
    "### Summary of Categorical Feature Distributions\n",
    "\n",
    "- The **'state'** feature is fairly spread out across many states, though some states (e.g., WV, MN, NY) have slightly higher representation.\n",
    "- The **'area code'** feature is limited to three main codes: 415, 510, and 408, with 415 being the most common.\n",
    "- The **'international plan'** and **'voice mail plan'** features indicate that the majority of customers do **not** subscribe to these plans.\n",
    "- These imbalances may influence churn behavior and will be important to monitor during modeling and feature importance evaluation.\n"
   ]
  },
  {
   "cell_type": "markdown",
   "id": "1bb2db02",
   "metadata": {},
   "source": [
    "#### Relationship Between Categorical Features And Churn"
   ]
  },
  {
   "cell_type": "code",
   "execution_count": 18,
   "id": "da181ae3",
   "metadata": {},
   "outputs": [
    {
     "name": "stdout",
     "output_type": "stream",
     "text": [
      "Churn rate by 'international plan':\n"
     ]
    },
    {
     "data": {
      "text/html": [
       "<div>\n",
       "<style scoped>\n",
       "    .dataframe tbody tr th:only-of-type {\n",
       "        vertical-align: middle;\n",
       "    }\n",
       "\n",
       "    .dataframe tbody tr th {\n",
       "        vertical-align: top;\n",
       "    }\n",
       "\n",
       "    .dataframe thead th {\n",
       "        text-align: right;\n",
       "    }\n",
       "</style>\n",
       "<table border=\"1\" class=\"dataframe\">\n",
       "  <thead>\n",
       "    <tr style=\"text-align: right;\">\n",
       "      <th>churn</th>\n",
       "      <th>False</th>\n",
       "      <th>True</th>\n",
       "    </tr>\n",
       "    <tr>\n",
       "      <th>international plan</th>\n",
       "      <th></th>\n",
       "      <th></th>\n",
       "    </tr>\n",
       "  </thead>\n",
       "  <tbody>\n",
       "    <tr>\n",
       "      <th>no</th>\n",
       "      <td>0.885050</td>\n",
       "      <td>0.114950</td>\n",
       "    </tr>\n",
       "    <tr>\n",
       "      <th>yes</th>\n",
       "      <td>0.575851</td>\n",
       "      <td>0.424149</td>\n",
       "    </tr>\n",
       "  </tbody>\n",
       "</table>\n",
       "</div>"
      ],
      "text/plain": [
       "churn                  False     True \n",
       "international plan                    \n",
       "no                  0.885050  0.114950\n",
       "yes                 0.575851  0.424149"
      ]
     },
     "metadata": {},
     "output_type": "display_data"
    },
    {
     "name": "stdout",
     "output_type": "stream",
     "text": [
      "\n",
      "Churn rate by 'voice mail plan':\n"
     ]
    },
    {
     "data": {
      "text/html": [
       "<div>\n",
       "<style scoped>\n",
       "    .dataframe tbody tr th:only-of-type {\n",
       "        vertical-align: middle;\n",
       "    }\n",
       "\n",
       "    .dataframe tbody tr th {\n",
       "        vertical-align: top;\n",
       "    }\n",
       "\n",
       "    .dataframe thead th {\n",
       "        text-align: right;\n",
       "    }\n",
       "</style>\n",
       "<table border=\"1\" class=\"dataframe\">\n",
       "  <thead>\n",
       "    <tr style=\"text-align: right;\">\n",
       "      <th>churn</th>\n",
       "      <th>False</th>\n",
       "      <th>True</th>\n",
       "    </tr>\n",
       "    <tr>\n",
       "      <th>voice mail plan</th>\n",
       "      <th></th>\n",
       "      <th></th>\n",
       "    </tr>\n",
       "  </thead>\n",
       "  <tbody>\n",
       "    <tr>\n",
       "      <th>no</th>\n",
       "      <td>0.832849</td>\n",
       "      <td>0.167151</td>\n",
       "    </tr>\n",
       "    <tr>\n",
       "      <th>yes</th>\n",
       "      <td>0.913232</td>\n",
       "      <td>0.086768</td>\n",
       "    </tr>\n",
       "  </tbody>\n",
       "</table>\n",
       "</div>"
      ],
      "text/plain": [
       "churn               False     True \n",
       "voice mail plan                    \n",
       "no               0.832849  0.167151\n",
       "yes              0.913232  0.086768"
      ]
     },
     "metadata": {},
     "output_type": "display_data"
    }
   ],
   "source": [
    "# Relationship between 'international plan' and 'churn'\n",
    "print(\"Churn rate by 'international plan':\")\n",
    "display(df.groupby('international plan')['churn'].value_counts(normalize=True).unstack())\n",
    "\n",
    "# Relationship between 'voice mail plan' and 'churn'\n",
    "print(\"\\nChurn rate by 'voice mail plan':\")\n",
    "display(df.groupby('voice mail plan')['churn'].value_counts(normalize=True).unstack())"
   ]
  },
  {
   "cell_type": "markdown",
   "id": "bf791d20",
   "metadata": {},
   "source": [
    "We examined the relationship between churn and two categorical variables: `international plan` and `voice mail plan`.\n",
    "\n",
    "- **International Plan**: Customers with an international plan show a much higher churn rate (42.4%) than those without (11.5%). This suggests a strong positive association between having an international plan and likelihood of churn.\n",
    "  \n",
    "- **Voice Mail Plan**: Customers with a voice mail plan churn less (8.7%) compared to those without one (16.7%), suggesting a potential protective effect.\n",
    "\n",
    "These insights highlight customer segments that may need targeted retention strategies.\n"
   ]
  },
  {
   "cell_type": "markdown",
   "id": "df58ab62",
   "metadata": {},
   "source": [
    "#### Churn Rate By International Plan And Voice Mail Plan"
   ]
  },
  {
   "cell_type": "code",
   "execution_count": 19,
   "id": "abf0bfef",
   "metadata": {},
   "outputs": [
    {
     "name": "stderr",
     "output_type": "stream",
     "text": [
      "C:\\Users\\Admin\\AppData\\Local\\Temp\\ipykernel_22380\\99544453.py:6: FutureWarning: \n",
      "\n",
      "The `ci` parameter is deprecated. Use `errorbar=None` for the same effect.\n",
      "\n",
      "  sns.barplot(x='international plan', y='churn', data=df, ci=None)\n"
     ]
    },
    {
     "data": {
      "image/png": "[encoded data removed]",
      "text/plain": [
       "<Figure size 600x400 with 1 Axes>"
      ]
     },
     "metadata": {},
     "output_type": "display_data"
    },
    {
     "name": "stderr",
     "output_type": "stream",
     "text": [
      "C:\\Users\\Admin\\AppData\\Local\\Temp\\ipykernel_22380\\99544453.py:13: FutureWarning: \n",
      "\n",
      "The `ci` parameter is deprecated. Use `errorbar=None` for the same effect.\n",
      "\n",
      "  sns.barplot(x='voice mail plan', y='churn', data=df, ci=None)\n"
     ]
    },
    {
     "data": {
      "image/png": "[encoded data removed]",
      "text/plain": [
       "<Figure size 600x400 with 1 Axes>"
      ]
     },
     "metadata": {},
     "output_type": "display_data"
    }
   ],
   "source": [
    "\n",
    "# Set style for plots\n",
    "sns.set_style(\"whitegrid\")\n",
    "\n",
    "# Plot churn rate by 'international plan'\n",
    "plt.figure(figsize=(6, 4))\n",
    "sns.barplot(x='international plan', y='churn', data=df, ci=None)\n",
    "plt.title('Churn Rate by International Plan')\n",
    "plt.ylabel('Churn Rate')\n",
    "plt.show()\n",
    "\n",
    "# Plot churn rate by 'voice mail plan'\n",
    "plt.figure(figsize=(6, 4))\n",
    "sns.barplot(x='voice mail plan', y='churn', data=df, ci=None)\n",
    "plt.title('Churn Rate by Voice Mail Plan')\n",
    "plt.ylabel('Churn Rate')\n",
    "plt.show()"
   ]
  },
  {
   "cell_type": "markdown",
   "id": "889b9bc1",
   "metadata": {},
   "source": [
    "**Summary: Relationship Between Plans and Churn**\n",
    "\n",
    "An analysis of churn rates across the **'international plan'** and **'voice mail plan'** features revealed key differences:\n",
    "\n",
    "- **International Plan**:\n",
    "  - Customers **with** an international plan have a **higher churn rate** (**42.4%**).\n",
    "  - Customers **without** an international plan have a much **lower churn rate** (**11.5%**).\n",
    "  - ➤ This indicates that subscribing to the international plan is a strong churn signal.\n",
    "\n",
    "- **Voice Mail Plan**:\n",
    "  - Customers **with** a voice mail plan churn **less** (**8.7%**).\n",
    "  - Customers **without** a voice mail plan churn **more** (**16.7%**).\n",
    "  - ➤ This suggests that voice mail features may be linked to higher customer satisfaction or retention.\n",
    "\n",
    "**Conclusion**: Both features are potentially valuable predictors of churn and should be considered during feature selection and modeling.\n"
   ]
  },
  {
   "cell_type": "markdown",
   "id": "e59a9a97",
   "metadata": {},
   "source": [
    "#### Churn Rate by State and Area Code"
   ]
  },
  {
   "cell_type": "code",
   "execution_count": 20,
   "id": "60bc8aa1",
   "metadata": {},
   "outputs": [
    {
     "name": "stdout",
     "output_type": "stream",
     "text": [
      "Churn rate by 'state':\n"
     ]
    },
    {
     "data": {
      "text/html": [
       "<div>\n",
       "<style scoped>\n",
       "    .dataframe tbody tr th:only-of-type {\n",
       "        vertical-align: middle;\n",
       "    }\n",
       "\n",
       "    .dataframe tbody tr th {\n",
       "        vertical-align: top;\n",
       "    }\n",
       "\n",
       "    .dataframe thead th {\n",
       "        text-align: right;\n",
       "    }\n",
       "</style>\n",
       "<table border=\"1\" class=\"dataframe\">\n",
       "  <thead>\n",
       "    <tr style=\"text-align: right;\">\n",
       "      <th>churn</th>\n",
       "      <th>False</th>\n",
       "      <th>True</th>\n",
       "    </tr>\n",
       "    <tr>\n",
       "      <th>state</th>\n",
       "      <th></th>\n",
       "      <th></th>\n",
       "    </tr>\n",
       "  </thead>\n",
       "  <tbody>\n",
       "    <tr>\n",
       "      <th>AK</th>\n",
       "      <td>0.942308</td>\n",
       "      <td>0.057692</td>\n",
       "    </tr>\n",
       "    <tr>\n",
       "      <th>AL</th>\n",
       "      <td>0.900000</td>\n",
       "      <td>0.100000</td>\n",
       "    </tr>\n",
       "    <tr>\n",
       "      <th>AR</th>\n",
       "      <td>0.800000</td>\n",
       "      <td>0.200000</td>\n",
       "    </tr>\n",
       "    <tr>\n",
       "      <th>AZ</th>\n",
       "      <td>0.937500</td>\n",
       "      <td>0.062500</td>\n",
       "    </tr>\n",
       "    <tr>\n",
       "      <th>CA</th>\n",
       "      <td>0.735294</td>\n",
       "      <td>0.264706</td>\n",
       "    </tr>\n",
       "    <tr>\n",
       "      <th>CO</th>\n",
       "      <td>0.863636</td>\n",
       "      <td>0.136364</td>\n",
       "    </tr>\n",
       "    <tr>\n",
       "      <th>CT</th>\n",
       "      <td>0.837838</td>\n",
       "      <td>0.162162</td>\n",
       "    </tr>\n",
       "    <tr>\n",
       "      <th>DC</th>\n",
       "      <td>0.907407</td>\n",
       "      <td>0.092593</td>\n",
       "    </tr>\n",
       "    <tr>\n",
       "      <th>DE</th>\n",
       "      <td>0.852459</td>\n",
       "      <td>0.147541</td>\n",
       "    </tr>\n",
       "    <tr>\n",
       "      <th>FL</th>\n",
       "      <td>0.873016</td>\n",
       "      <td>0.126984</td>\n",
       "    </tr>\n",
       "    <tr>\n",
       "      <th>GA</th>\n",
       "      <td>0.851852</td>\n",
       "      <td>0.148148</td>\n",
       "    </tr>\n",
       "    <tr>\n",
       "      <th>HI</th>\n",
       "      <td>0.943396</td>\n",
       "      <td>0.056604</td>\n",
       "    </tr>\n",
       "    <tr>\n",
       "      <th>IA</th>\n",
       "      <td>0.931818</td>\n",
       "      <td>0.068182</td>\n",
       "    </tr>\n",
       "    <tr>\n",
       "      <th>ID</th>\n",
       "      <td>0.876712</td>\n",
       "      <td>0.123288</td>\n",
       "    </tr>\n",
       "    <tr>\n",
       "      <th>IL</th>\n",
       "      <td>0.913793</td>\n",
       "      <td>0.086207</td>\n",
       "    </tr>\n",
       "    <tr>\n",
       "      <th>IN</th>\n",
       "      <td>0.873239</td>\n",
       "      <td>0.126761</td>\n",
       "    </tr>\n",
       "    <tr>\n",
       "      <th>KS</th>\n",
       "      <td>0.814286</td>\n",
       "      <td>0.185714</td>\n",
       "    </tr>\n",
       "    <tr>\n",
       "      <th>KY</th>\n",
       "      <td>0.864407</td>\n",
       "      <td>0.135593</td>\n",
       "    </tr>\n",
       "    <tr>\n",
       "      <th>LA</th>\n",
       "      <td>0.921569</td>\n",
       "      <td>0.078431</td>\n",
       "    </tr>\n",
       "    <tr>\n",
       "      <th>MA</th>\n",
       "      <td>0.830769</td>\n",
       "      <td>0.169231</td>\n",
       "    </tr>\n",
       "    <tr>\n",
       "      <th>MD</th>\n",
       "      <td>0.757143</td>\n",
       "      <td>0.242857</td>\n",
       "    </tr>\n",
       "    <tr>\n",
       "      <th>ME</th>\n",
       "      <td>0.790323</td>\n",
       "      <td>0.209677</td>\n",
       "    </tr>\n",
       "    <tr>\n",
       "      <th>MI</th>\n",
       "      <td>0.780822</td>\n",
       "      <td>0.219178</td>\n",
       "    </tr>\n",
       "    <tr>\n",
       "      <th>MN</th>\n",
       "      <td>0.821429</td>\n",
       "      <td>0.178571</td>\n",
       "    </tr>\n",
       "    <tr>\n",
       "      <th>MO</th>\n",
       "      <td>0.888889</td>\n",
       "      <td>0.111111</td>\n",
       "    </tr>\n",
       "    <tr>\n",
       "      <th>MS</th>\n",
       "      <td>0.784615</td>\n",
       "      <td>0.215385</td>\n",
       "    </tr>\n",
       "    <tr>\n",
       "      <th>MT</th>\n",
       "      <td>0.794118</td>\n",
       "      <td>0.205882</td>\n",
       "    </tr>\n",
       "    <tr>\n",
       "      <th>NC</th>\n",
       "      <td>0.838235</td>\n",
       "      <td>0.161765</td>\n",
       "    </tr>\n",
       "    <tr>\n",
       "      <th>ND</th>\n",
       "      <td>0.903226</td>\n",
       "      <td>0.096774</td>\n",
       "    </tr>\n",
       "    <tr>\n",
       "      <th>NE</th>\n",
       "      <td>0.918033</td>\n",
       "      <td>0.081967</td>\n",
       "    </tr>\n",
       "    <tr>\n",
       "      <th>NH</th>\n",
       "      <td>0.839286</td>\n",
       "      <td>0.160714</td>\n",
       "    </tr>\n",
       "    <tr>\n",
       "      <th>NJ</th>\n",
       "      <td>0.735294</td>\n",
       "      <td>0.264706</td>\n",
       "    </tr>\n",
       "    <tr>\n",
       "      <th>NM</th>\n",
       "      <td>0.903226</td>\n",
       "      <td>0.096774</td>\n",
       "    </tr>\n",
       "    <tr>\n",
       "      <th>NV</th>\n",
       "      <td>0.787879</td>\n",
       "      <td>0.212121</td>\n",
       "    </tr>\n",
       "    <tr>\n",
       "      <th>NY</th>\n",
       "      <td>0.819277</td>\n",
       "      <td>0.180723</td>\n",
       "    </tr>\n",
       "    <tr>\n",
       "      <th>OH</th>\n",
       "      <td>0.871795</td>\n",
       "      <td>0.128205</td>\n",
       "    </tr>\n",
       "    <tr>\n",
       "      <th>OK</th>\n",
       "      <td>0.852459</td>\n",
       "      <td>0.147541</td>\n",
       "    </tr>\n",
       "    <tr>\n",
       "      <th>OR</th>\n",
       "      <td>0.858974</td>\n",
       "      <td>0.141026</td>\n",
       "    </tr>\n",
       "    <tr>\n",
       "      <th>PA</th>\n",
       "      <td>0.822222</td>\n",
       "      <td>0.177778</td>\n",
       "    </tr>\n",
       "    <tr>\n",
       "      <th>RI</th>\n",
       "      <td>0.907692</td>\n",
       "      <td>0.092308</td>\n",
       "    </tr>\n",
       "    <tr>\n",
       "      <th>SC</th>\n",
       "      <td>0.766667</td>\n",
       "      <td>0.233333</td>\n",
       "    </tr>\n",
       "    <tr>\n",
       "      <th>SD</th>\n",
       "      <td>0.866667</td>\n",
       "      <td>0.133333</td>\n",
       "    </tr>\n",
       "    <tr>\n",
       "      <th>TN</th>\n",
       "      <td>0.905660</td>\n",
       "      <td>0.094340</td>\n",
       "    </tr>\n",
       "    <tr>\n",
       "      <th>TX</th>\n",
       "      <td>0.750000</td>\n",
       "      <td>0.250000</td>\n",
       "    </tr>\n",
       "    <tr>\n",
       "      <th>UT</th>\n",
       "      <td>0.861111</td>\n",
       "      <td>0.138889</td>\n",
       "    </tr>\n",
       "    <tr>\n",
       "      <th>VA</th>\n",
       "      <td>0.935065</td>\n",
       "      <td>0.064935</td>\n",
       "    </tr>\n",
       "    <tr>\n",
       "      <th>VT</th>\n",
       "      <td>0.890411</td>\n",
       "      <td>0.109589</td>\n",
       "    </tr>\n",
       "    <tr>\n",
       "      <th>WA</th>\n",
       "      <td>0.787879</td>\n",
       "      <td>0.212121</td>\n",
       "    </tr>\n",
       "    <tr>\n",
       "      <th>WI</th>\n",
       "      <td>0.910256</td>\n",
       "      <td>0.089744</td>\n",
       "    </tr>\n",
       "    <tr>\n",
       "      <th>WV</th>\n",
       "      <td>0.905660</td>\n",
       "      <td>0.094340</td>\n",
       "    </tr>\n",
       "    <tr>\n",
       "      <th>WY</th>\n",
       "      <td>0.883117</td>\n",
       "      <td>0.116883</td>\n",
       "    </tr>\n",
       "  </tbody>\n",
       "</table>\n",
       "</div>"
      ],
      "text/plain": [
       "churn     False     True \n",
       "state                    \n",
       "AK     0.942308  0.057692\n",
       "AL     0.900000  0.100000\n",
       "AR     0.800000  0.200000\n",
       "AZ     0.937500  0.062500\n",
       "CA     0.735294  0.264706\n",
       "CO     0.863636  0.136364\n",
       "CT     0.837838  0.162162\n",
       "DC     0.907407  0.092593\n",
       "DE     0.852459  0.147541\n",
       "FL     0.873016  0.126984\n",
       "GA     0.851852  0.148148\n",
       "HI     0.943396  0.056604\n",
       "IA     0.931818  0.068182\n",
       "ID     0.876712  0.123288\n",
       "IL     0.913793  0.086207\n",
       "IN     0.873239  0.126761\n",
       "KS     0.814286  0.185714\n",
       "KY     0.864407  0.135593\n",
       "LA     0.921569  0.078431\n",
       "MA     0.830769  0.169231\n",
       "MD     0.757143  0.242857\n",
       "ME     0.790323  0.209677\n",
       "MI     0.780822  0.219178\n",
       "MN     0.821429  0.178571\n",
       "MO     0.888889  0.111111\n",
       "MS     0.784615  0.215385\n",
       "MT     0.794118  0.205882\n",
       "NC     0.838235  0.161765\n",
       "ND     0.903226  0.096774\n",
       "NE     0.918033  0.081967\n",
       "NH     0.839286  0.160714\n",
       "NJ     0.735294  0.264706\n",
       "NM     0.903226  0.096774\n",
       "NV     0.787879  0.212121\n",
       "NY     0.819277  0.180723\n",
       "OH     0.871795  0.128205\n",
       "OK     0.852459  0.147541\n",
       "OR     0.858974  0.141026\n",
       "PA     0.822222  0.177778\n",
       "RI     0.907692  0.092308\n",
       "SC     0.766667  0.233333\n",
       "SD     0.866667  0.133333\n",
       "TN     0.905660  0.094340\n",
       "TX     0.750000  0.250000\n",
       "UT     0.861111  0.138889\n",
       "VA     0.935065  0.064935\n",
       "VT     0.890411  0.109589\n",
       "WA     0.787879  0.212121\n",
       "WI     0.910256  0.089744\n",
       "WV     0.905660  0.094340\n",
       "WY     0.883117  0.116883"
      ]
     },
     "metadata": {},
     "output_type": "display_data"
    },
    {
     "name": "stdout",
     "output_type": "stream",
     "text": [
      "\n",
      "Churn rate by 'area code':\n"
     ]
    },
    {
     "data": {
      "text/html": [
       "<div>\n",
       "<style scoped>\n",
       "    .dataframe tbody tr th:only-of-type {\n",
       "        vertical-align: middle;\n",
       "    }\n",
       "\n",
       "    .dataframe tbody tr th {\n",
       "        vertical-align: top;\n",
       "    }\n",
       "\n",
       "    .dataframe thead th {\n",
       "        text-align: right;\n",
       "    }\n",
       "</style>\n",
       "<table border=\"1\" class=\"dataframe\">\n",
       "  <thead>\n",
       "    <tr style=\"text-align: right;\">\n",
       "      <th>churn</th>\n",
       "      <th>False</th>\n",
       "      <th>True</th>\n",
       "    </tr>\n",
       "    <tr>\n",
       "      <th>area code</th>\n",
       "      <th></th>\n",
       "      <th></th>\n",
       "    </tr>\n",
       "  </thead>\n",
       "  <tbody>\n",
       "    <tr>\n",
       "      <th>408</th>\n",
       "      <td>0.854415</td>\n",
       "      <td>0.145585</td>\n",
       "    </tr>\n",
       "    <tr>\n",
       "      <th>415</th>\n",
       "      <td>0.857402</td>\n",
       "      <td>0.142598</td>\n",
       "    </tr>\n",
       "    <tr>\n",
       "      <th>510</th>\n",
       "      <td>0.851190</td>\n",
       "      <td>0.148810</td>\n",
       "    </tr>\n",
       "  </tbody>\n",
       "</table>\n",
       "</div>"
      ],
      "text/plain": [
       "churn         False     True \n",
       "area code                    \n",
       "408        0.854415  0.145585\n",
       "415        0.857402  0.142598\n",
       "510        0.851190  0.148810"
      ]
     },
     "metadata": {},
     "output_type": "display_data"
    }
   ],
   "source": [
    "# Relationship between 'state' and 'churn'\n",
    "print(\"Churn rate by 'state':\")\n",
    "display(df.groupby('state')['churn'].value_counts(normalize=True).unstack())\n",
    "\n",
    "# Relationship between 'area code' and 'churn'\n",
    "print(\"\\nChurn rate by 'area code':\")\n",
    "display(df.groupby('area code')['churn'].value_counts(normalize=True).unstack())"
   ]
  },
  {
   "cell_type": "markdown",
   "id": "63502e69",
   "metadata": {},
   "source": [
    "**Summary: Churn Rate By State and Area Code**\n",
    "Churn by State:\n",
    "- Churn rates **vary significantly** across different U.S. states.\n",
    "- For example:\n",
    "  - **Highest churn rates**: CA (26.5%), NJ (26.5%), TX (25%), SC (23.3%), MD (24.3%)\n",
    "  - **Lowest churn rates**: HI (5.7%), AK (5.8%), AZ (6.3%), IA (6.8%)\n",
    "- ➤ This suggests that **geographic location** could influence churn, potentially due to market conditions, service availability, or customer expectations.\n",
    "\n",
    "#### 🔹 Churn by Area Code:\n",
    "- Churn rates are **fairly consistent** across area codes:\n",
    "  - 408 → 14.6%\n",
    "  - 415 → 14.3%\n",
    "  - 510 → 14.9%\n",
    "- ➤ This consistency indicates that **area code alone is likely not a strong predictor** of churn.\n",
    "\n",
    "**Conclusion**: While **state-level geography** may hold some predictive power for churn, **area code** appears less impactful. Consider one-hot encoding for 'state' and carefully evaluating its importance during feature selection."
   ]
  },
  {
   "cell_type": "markdown",
   "id": "b4bd26e1",
   "metadata": {},
   "source": [
    "#### Top 10 States With Highest Churn Rate"
   ]
  },
  {
   "cell_type": "code",
   "execution_count": 21,
   "id": "f9a856c0",
   "metadata": {},
   "outputs": [
    {
     "name": "stderr",
     "output_type": "stream",
     "text": [
      "C:\\Users\\Admin\\AppData\\Local\\Temp\\ipykernel_22380\\2582359762.py:10: FutureWarning: \n",
      "\n",
      "Passing `palette` without assigning `hue` is deprecated and will be removed in v0.14.0. Assign the `x` variable to `hue` and set `legend=False` for the same effect.\n",
      "\n",
      "  sns.barplot(x=top_10_churn_states.index, y=True, data=top_10_churn_states, palette='viridis')\n"
     ]
    },
    {
     "data": {
      "image/png": "[encoded data removed]",
      "text/plain": [
       "<Figure size 1000x600 with 1 Axes>"
      ]
     },
     "metadata": {},
     "output_type": "display_data"
    }
   ],
   "source": [
    "\n",
    "# Calculate churn rate by state\n",
    "state_churn = df.groupby('state')['churn'].value_counts(normalize=True).unstack()\n",
    "\n",
    "# Calculate and sort states by churn rate (True column)\n",
    "state_churn[True] = state_churn[True].fillna(0) # Fill NaN with 0 for states with no churn\n",
    "top_10_churn_states = state_churn.sort_values(by=True, ascending=False).head(10)\n",
    "\n",
    "# Plot churn rate for the top 10 states\n",
    "plt.figure(figsize=(10, 6))\n",
    "sns.barplot(x=top_10_churn_states.index, y=True, data=top_10_churn_states, palette='viridis')\n",
    "plt.title('Top 10 States with Highest Churn Rate')\n",
    "plt.xlabel('State')\n",
    "plt.ylabel('Churn Rate')\n",
    "plt.xticks(rotation=45, ha='right') \n",
    "plt.tight_layout() \n",
    "plt.show()"
   ]
  },
  {
   "cell_type": "markdown",
   "id": "5bd9ed03",
   "metadata": {},
   "source": [
    "**Summary: Top 10 States by Churn Rate**\n",
    "\n",
    "The bar plot highlights the **top 10 U.S. states with the highest churn rates** in the SyriaTel dataset.\n",
    "\n",
    "- **Key Observations**:\n",
    "  - States like **New Jersey (NJ)**, **California (CA)**, **Texas (TX)**, and **Maryland (MD)** show significantly higher churn rates compared to the national average.\n",
    "  - This indicates **geographical disparities** in customer retention, suggesting that localized issues or market conditions might be influencing churn behavior.\n",
    "\n",
    "- **Business Insight**:\n",
    "  - SyriaTel may benefit from conducting **region-specific investigations** or deploying **targeted customer retention strategies** in these high-churn states.\n",
    "  - While the `state` variable may not be the strongest standalone predictor due to sample size variability and categorical spread, it offers **valuable strategic direction** when combined with other churn indicators.\n"
   ]
  },
  {
   "cell_type": "markdown",
   "id": "7c94b499",
   "metadata": {},
   "source": [
    "#### Churn Rate By Area Code"
   ]
  },
  {
   "cell_type": "code",
   "execution_count": 22,
   "id": "43269d6b",
   "metadata": {},
   "outputs": [
    {
     "name": "stderr",
     "output_type": "stream",
     "text": [
      "C:\\Users\\Admin\\AppData\\Local\\Temp\\ipykernel_22380\\1587476463.py:6: FutureWarning: \n",
      "\n",
      "The `ci` parameter is deprecated. Use `errorbar=None` for the same effect.\n",
      "\n",
      "  sns.barplot(x='area code', y='churn', data=df, ci=None)\n"
     ]
    },
    {
     "data": {
      "image/png": "[encoded data removed]",
      "text/plain": [
       "<Figure size 600x400 with 1 Axes>"
      ]
     },
     "metadata": {},
     "output_type": "display_data"
    }
   ],
   "source": [
    "\n",
    "# Set style for plots\n",
    "sns.set_style(\"whitegrid\")\n",
    "\n",
    "# Plot churn rate by 'area code'\n",
    "plt.figure(figsize=(6, 4))\n",
    "sns.barplot(x='area code', y='churn', data=df, ci=None)\n",
    "plt.title('Churn Rate by Area Code')\n",
    "plt.ylabel('Churn Rate')\n",
    "plt.show()"
   ]
  },
  {
   "cell_type": "markdown",
   "id": "27d52a4a",
   "metadata": {},
   "source": [
    "**Summary: Churn Rate by Area Code**\n",
    "\n",
    "The bar plot illustrates churn rates across the three area codes: **408**, **415**, and **510**.\n",
    "\n",
    "- **Key Observations**:\n",
    "  - The churn rates are **remarkably similar** across all area codes.\n",
    "  - This suggests that `area code` does **not significantly influence** customer churn in this dataset.\n",
    "\n",
    "- **Conclusion**:\n",
    "  - While geographic factors like state may reveal useful patterns, **area code alone is unlikely to be a strong predictor** of churn and may hold limited value in modeling.\n"
   ]
  },
  {
   "cell_type": "markdown",
   "id": "c65de21c",
   "metadata": {},
   "source": [
    " #### Relationship Between Numerical Features And Churn"
   ]
  },
  {
   "cell_type": "code",
   "execution_count": 23,
   "id": "7ce04cfb",
   "metadata": {},
   "outputs": [
    {
     "name": "stdout",
     "output_type": "stream",
     "text": [
      "Correlation with 'churn':\n"
     ]
    },
    {
     "data": {
      "text/plain": [
       "churn                     1.000000\n",
       "customer service calls    0.208750\n",
       "total day minutes         0.205151\n",
       "total day charge          0.205151\n",
       "total eve minutes         0.092796\n",
       "total eve charge          0.092786\n",
       "total intl charge         0.068259\n",
       "total intl minutes        0.068239\n",
       "total night charge        0.035496\n",
       "total night minutes       0.035493\n",
       "total day calls           0.018459\n",
       "account length            0.016541\n",
       "total eve calls           0.009233\n",
       "area code                 0.006174\n",
       "total night calls         0.006141\n",
       "total intl calls         -0.052844\n",
       "number vmail messages    -0.089728\n",
       "Name: churn, dtype: float64"
      ]
     },
     "metadata": {},
     "output_type": "display_data"
    }
   ],
   "source": [
    "# Calculate the correlation matrix\n",
    "correlation_matrix = df.corr(numeric_only=True)\n",
    "\n",
    "# Display the correlation of numerical features with 'churn'\n",
    "print(\"Correlation with 'churn':\")\n",
    "display(correlation_matrix['churn'].sort_values(ascending=False))"
   ]
  },
  {
   "cell_type": "markdown",
   "id": "1536083f",
   "metadata": {},
   "source": [
    "**Summary: Correlation Between Numerical Features and Churn**\n",
    "\n",
    "Correlation analysis reveals how strongly each numerical feature is linearly associated with churn.\n",
    "\n",
    "- **Top Positively Correlated Features**:\n",
    "  - `customer service calls` (0.21)\n",
    "  - `total day minutes` & `total day charge` (~0.21)\n",
    "  - These suggest that customers who frequently call customer service or have high daytime usage are **more likely to churn**.\n",
    "\n",
    "- **Notable Negative Correlation**:\n",
    "  - `number vmail messages` (-0.09)\n",
    "  - Indicates that customers who use voicemail are **slightly less likely to churn**, supporting earlier findings on the voice mail plan.\n",
    "\n",
    "- **Other Features**:\n",
    "  - Most other numerical variables show **weak or negligible correlation** with churn.\n",
    "\n",
    ">  **Insight**: These correlations provide a useful starting point for feature selection in modeling, particularly emphasizing service interactions and daytime activity.\n"
   ]
  },
  {
   "cell_type": "code",
   "execution_count": 24,
   "id": "788e000b",
   "metadata": {},
   "outputs": [
    {
     "data": {
      "image/png": "[encoded data removed]",
      "text/plain": [
       "<Figure size 1200x1000 with 2 Axes>"
      ]
     },
     "metadata": {},
     "output_type": "display_data"
    }
   ],
   "source": [
    "\n",
    "# Calculate the correlation matrix \n",
    "correlation_matrix = df.corr(numeric_only=True)\n",
    "\n",
    "# Plot the heatmap\n",
    "plt.figure(figsize=(12, 10))\n",
    "sns.heatmap(correlation_matrix, annot=True, cmap='coolwarm', fmt=\".2f\")\n",
    "plt.title('Correlation Matrix of Numerical Features')\n",
    "plt.show()"
   ]
  },
  {
   "cell_type": "markdown",
   "id": "2acb2a2f",
   "metadata": {},
   "source": [
    "**Summary: Correlation Heatmap Insights**\n",
    "\n",
    "The heatmap visualizes linear relationships between numerical features and churn:\n",
    "\n",
    "- **  Strong Positive Correlation with Churn**:\n",
    "  - `customer service calls`, `total day minutes`, and `total day charge` show higher positive correlations with churn, confirming their potential as churn indicators.\n",
    "\n",
    "- ** Weak Negative Correlation**:\n",
    "  - `number vmail messages` shows a slight negative correlation with churn, hinting that voicemail users are marginally less likely to churn.\n",
    "\n",
    "- ** High Inter-feature Correlation**:\n",
    "  - Usage and charge features (e.g., `total day minutes` & `total day charge`) are strongly correlated, as charges are calculated from usage.\n",
    "\n",
    "- ** Overall Weak Correlation Elsewhere**:\n",
    "  - Most other features display low correlations with churn or with each other, suggesting potential non-linear relationships or independent effects.\n",
    "\n",
    ">  **Conclusion**: This visual reinforces earlier numerical findings and helps identify potential features for model input or engineering.\n"
   ]
  },
  {
   "cell_type": "code",
   "execution_count": 25,
   "id": "4ba61d13",
   "metadata": {},
   "outputs": [
    {
     "name": "stdout",
     "output_type": "stream",
     "text": [
      "Top 3 features that have the highest correlation with churn:\n",
      " customer service calls    0.208750\n",
      "total day minutes         0.205151\n",
      "total day charge          0.205151\n",
      "Name: churn, dtype: float64\n"
     ]
    }
   ],
   "source": [
    "# Identify top 3 features that have the highest correlation with churn\n",
    "\n",
    "top_3_features = correlation_matrix['churn'].abs().sort_values(ascending=False)[1:4]\n",
    "print(\"Top 3 features that have the highest correlation with churn:\\n\",top_3_features)"
   ]
  },
  {
   "cell_type": "code",
   "execution_count": 26,
   "id": "61e785c0",
   "metadata": {},
   "outputs": [
    {
     "name": "stderr",
     "output_type": "stream",
     "text": [
      "C:\\Users\\Admin\\AppData\\Local\\Temp\\ipykernel_22380\\1974902046.py:13: FutureWarning: \n",
      "\n",
      "Passing `palette` without assigning `hue` is deprecated and will be removed in v0.14.0. Assign the `y` variable to `hue` and set `legend=False` for the same effect.\n",
      "\n",
      "  sns.barplot(x=top_correlated_features.values, y=top_correlated_features.index, palette='viridis')\n"
     ]
    },
    {
     "data": {
      "image/png": "[encoded data removed]",
      "text/plain": [
       "<Figure size 1000x700 with 1 Axes>"
      ]
     },
     "metadata": {},
     "output_type": "display_data"
    }
   ],
   "source": [
    "\n",
    "\n",
    "# Get the absolute correlation of all numerical features with 'churn'\n",
    "churn_correlations = correlation_matrix['churn'].abs().sort_values(ascending=False)\n",
    "\n",
    "# Exclude the correlation of 'churn' with itself\n",
    "churn_correlations = churn_correlations.drop('churn')\n",
    "\n",
    "# Select the top N features for visualization (e.g., top 10 or 15)\n",
    "top_n = 10\n",
    "top_correlated_features = churn_correlations.head(top_n)\n",
    "\n",
    "# Create a bar plot of the top correlated features\n",
    "plt.figure(figsize=(10, 7))\n",
    "sns.barplot(x=top_correlated_features.values, y=top_correlated_features.index, palette='viridis')\n",
    "\n",
    "# Set plot title and labels\n",
    "plt.title(f'Top {top_n} Numerical Features Correlated with Churn', fontsize=16)\n",
    "plt.xlabel('Absolute Correlation Coefficient', fontsize=12)\n",
    "plt.ylabel('Numerical Feature', fontsize=12)\n",
    "\n",
    "plt.tight_layout()\n",
    "plt.show()"
   ]
  },
  {
   "cell_type": "markdown",
   "id": "a58b0489",
   "metadata": {},
   "source": [
    "**Summary:**\n",
    "\n",
    "The data shows the top three features that have the highest correlation with 'churn'. These features and their correlation coefficients are:\n",
    "\n",
    "- Customer service calls: 0.208750\n",
    "\n",
    "- Total day minutes: 0.205151\n",
    "\n",
    "- Total day charge: 0.205151\n",
    "\n",
    "The diagram also backs up the output we have just seen.\n",
    "This indicates that among the features analyzed, customer service calls, total day minutes, and total day charge have the strongest positive linear relationship with customer churn, with customer service calls having a slightly higher correlation than the other two. In simpler terms, as the number of customer service calls, total day minutes, and total day charge increase, the likelihood of customer churn also tends to increase."
   ]
  },
  {
   "cell_type": "markdown",
   "id": "3a30ecc3",
   "metadata": {},
   "source": [
    "#### Inferential Statistics: T-Test Results for Numerical Features\n"
   ]
  },
  {
   "cell_type": "code",
   "execution_count": 27,
   "id": "c35f26c2",
   "metadata": {},
   "outputs": [
    {
     "name": "stdout",
     "output_type": "stream",
     "text": [
      "Performing independent samples t-tests for key numerical features:\n",
      "\n",
      "Feature: total day minutes\n",
      "  T-statistic: 9.6846\n",
      "  P-value: 0.0000\n",
      "  Conclusion: Statistically significant difference in means between churned and non-churned customers.\n",
      "------------------------------\n",
      "Feature: total day charge\n",
      "  T-statistic: 9.6845\n",
      "  P-value: 0.0000\n",
      "  Conclusion: Statistically significant difference in means between churned and non-churned customers.\n",
      "------------------------------\n",
      "Feature: customer service calls\n",
      "  T-statistic: 8.9551\n",
      "  P-value: 0.0000\n",
      "  Conclusion: Statistically significant difference in means between churned and non-churned customers.\n",
      "------------------------------\n",
      "Feature: total eve minutes\n",
      "  T-statistic: 5.2724\n",
      "  P-value: 0.0000\n",
      "  Conclusion: Statistically significant difference in means between churned and non-churned customers.\n",
      "------------------------------\n",
      "Feature: total eve charge\n",
      "  T-statistic: 5.2720\n",
      "  P-value: 0.0000\n",
      "  Conclusion: Statistically significant difference in means between churned and non-churned customers.\n",
      "------------------------------\n",
      "Feature: total night minutes\n",
      "  T-statistic: 2.1709\n",
      "  P-value: 0.0303\n",
      "  Conclusion: Statistically significant difference in means between churned and non-churned customers.\n",
      "------------------------------\n",
      "Feature: total night charge\n",
      "  T-statistic: 2.1710\n",
      "  P-value: 0.0303\n",
      "  Conclusion: Statistically significant difference in means between churned and non-churned customers.\n",
      "------------------------------\n",
      "Feature: total intl minutes\n",
      "  T-statistic: 3.9389\n",
      "  P-value: 0.0001\n",
      "  Conclusion: Statistically significant difference in means between churned and non-churned customers.\n",
      "------------------------------\n",
      "Feature: total intl charge\n",
      "  T-statistic: 3.9399\n",
      "  P-value: 0.0001\n",
      "  Conclusion: Statistically significant difference in means between churned and non-churned customers.\n",
      "------------------------------\n",
      "Feature: account length\n",
      "  T-statistic: 0.9619\n",
      "  P-value: 0.3365\n",
      "  Conclusion: No statistically significant difference in means between churned and non-churned customers.\n",
      "------------------------------\n",
      "Feature: number vmail messages\n",
      "  T-statistic: -5.8213\n",
      "  P-value: 0.0000\n",
      "  Conclusion: Statistically significant difference in means between churned and non-churned customers.\n",
      "------------------------------\n",
      "Feature: total day calls\n",
      "  T-statistic: 1.0024\n",
      "  P-value: 0.3165\n",
      "  Conclusion: No statistically significant difference in means between churned and non-churned customers.\n",
      "------------------------------\n",
      "Feature: total eve calls\n",
      "  T-statistic: 0.5374\n",
      "  P-value: 0.5912\n",
      "  Conclusion: No statistically significant difference in means between churned and non-churned customers.\n",
      "------------------------------\n",
      "Feature: total night calls\n",
      "  T-statistic: 0.3488\n",
      "  P-value: 0.7273\n",
      "  Conclusion: No statistically significant difference in means between churned and non-churned customers.\n",
      "------------------------------\n",
      "Feature: total intl calls\n",
      "  T-statistic: -2.9604\n",
      "  P-value: 0.0032\n",
      "  Conclusion: Statistically significant difference in means between churned and non-churned customers.\n",
      "------------------------------\n"
     ]
    }
   ],
   "source": [
    "\n",
    "# Separate data into churned and non-churned groups\n",
    "churned = df[df['churn'] == True]\n",
    "not_churned = df[df['churn'] == False]\n",
    "\n",
    "# List of key numerical features to test\n",
    "numerical_features = [\n",
    "    'total day minutes',\n",
    "    'total day charge', # Highly correlated with total day minutes, but good to test\n",
    "    'customer service calls',\n",
    "    'total eve minutes',\n",
    "    'total eve charge',\n",
    "    'total night minutes',\n",
    "    'total night charge',\n",
    "    'total intl minutes',\n",
    "    'total intl charge',\n",
    "    'account length',\n",
    "    'number vmail messages',\n",
    "    'total day calls',\n",
    "    'total eve calls',\n",
    "    'total night calls',\n",
    "    'total intl calls',\n",
    "]\n",
    "\n",
    "\n",
    "print(\"Performing independent samples t-tests for key numerical features:\\n\")\n",
    "\n",
    "for feature in numerical_features:\n",
    "    # Perform the t-test\n",
    "    t_stat, p_value = ttest_ind(churned[feature], not_churned[feature], equal_var=False, nan_policy='omit')\n",
    "\n",
    "    print(f\"Feature: {feature}\")\n",
    "    print(f\"  T-statistic: {t_stat:.4f}\")\n",
    "    print(f\"  P-value: {p_value:.4f}\")\n",
    "\n",
    "    # Interpret the p-value (using a significance level of 0.05)\n",
    "    if p_value < 0.05:\n",
    "        print(\"  Conclusion: Statistically significant difference in means between churned and non-churned customers.\")\n",
    "    else:\n",
    "        print(\"  Conclusion: No statistically significant difference in means between churned and non-churned customers.\")\n",
    "    print(\"-\" * 30)"
   ]
  },
  {
   "cell_type": "markdown",
   "id": "5e33791f",
   "metadata": {},
   "source": [
    "**Summary: T-Tests on Key Numerical Features**\n",
    "\n",
    "Independent samples t-tests were conducted to assess whether the means of various numerical features differ significantly between churned and non-churned customers.\n",
    "\n",
    "####  Statistically Significant Differences (p < 0.05):\n",
    "\n",
    "| Feature                  | T-Statistic | P-Value | Conclusion                                                |\n",
    "|--------------------------|-------------|---------|-----------------------------------------------------------|\n",
    "| total day minutes        | 9.6846      | 0.0000  | Strong evidence of a mean difference in day usage.        |\n",
    "| total day charge         | 9.6845      | 0.0000  | Charges differ significantly with churn status.           |\n",
    "| customer service calls   | 8.9551      | 0.0000  | Churned customers contact customer service more often.    |\n",
    "| total eve minutes        | 5.2724      | 0.0000  | Significant difference in evening usage.                  |\n",
    "| total eve charge         | 5.2720      | 0.0000  | Evening charges are also significantly different.         |\n",
    "| ...                      | ...         | ...     | ...                                                       |\n",
    "| [other tested features]  | -2.9604     | 0.0032  | Also shows a meaningful difference in group means.        |\n",
    "\n",
    ">  **Conclusion**: Several features show **statistically significant** differences between churned and non-churned customers, supporting their inclusion as important predictors in modeling.\n"
   ]
  },
  {
   "cell_type": "code",
   "execution_count": 28,
   "id": "84622a58",
   "metadata": {},
   "outputs": [
    {
     "data": {
      "image/png": "[encoded data removed]",
      "text/plain": [
       "<Figure size 600x400 with 1 Axes>"
      ]
     },
     "metadata": {},
     "output_type": "display_data"
    }
   ],
   "source": [
    "plt.figure(figsize=(6, 4))\n",
    "sns.boxplot(x='churn', y='total day minutes', data=df)\n",
    "plt.title('Total Day Minutes by Churn')\n",
    "plt.xlabel('Churn')\n",
    "plt.ylabel('Total Day Minutes')\n",
    "plt.show()\n"
   ]
  },
  {
   "cell_type": "markdown",
   "id": "f603b292",
   "metadata": {},
   "source": [
    "**Summary:**\n",
    "\n",
    "The boxplot reveals that churned customers tend to have higher total day minutes compared to non-churned customers. This suggests that customers who use daytime call services more extensively may be more likely to churn. The difference in usage is consistent with the statistically significant results from the independent samples T-test"
   ]
  },
  {
   "cell_type": "code",
   "execution_count": 29,
   "id": "f6dad400",
   "metadata": {},
   "outputs": [
    {
     "data": {
      "image/png": "[encoded data removed]",
      "text/plain": [
       "<Figure size 600x400 with 1 Axes>"
      ]
     },
     "metadata": {},
     "output_type": "display_data"
    }
   ],
   "source": [
    "\n",
    "# Create a box plot to visualize the distribution of 'customer service calls' by 'churn'\n",
    "plt.figure(figsize=(6, 4))\n",
    "sns.boxplot(x='churn', y='customer service calls', data=df)\n",
    "plt.title('Customer Service Calls by Churn')\n",
    "plt.xlabel('Churn')\n",
    "plt.ylabel('Number of Customer Service Calls')\n",
    "plt.show()"
   ]
  },
  {
   "cell_type": "markdown",
   "id": "8e65f270",
   "metadata": {},
   "source": [
    "**Summary:**\n",
    "\n",
    "Customers who contact customer service more frequently are much more likely to churn.\n",
    "\n",
    "The churn rate increases significantly with the number of service calls.\n",
    "\n",
    "The most churn-prone group is customers who contacted customer service 4 or more times.\n",
    "\n",
    "This suggests a strong link between dissatisfaction and churn, likely due to unresolved issues or poor service experiences.\n",
    "\n",
    "**Business Implication:**\n",
    "SyriaTel should prioritize quality and resolution in customer service interactions. Early intervention for high-frequency callers can reduce churn risk.\n",
    "\n"
   ]
  },
  {
   "cell_type": "code",
   "execution_count": 30,
   "id": "ecc8772d",
   "metadata": {},
   "outputs": [
    {
     "data": {
      "image/png": "[encoded data removed]",
      "text/plain": [
       "<Figure size 600x400 with 1 Axes>"
      ]
     },
     "metadata": {},
     "output_type": "display_data"
    }
   ],
   "source": [
    "\n",
    "# Create a box plot to visualize the distribution of 'total eve minutes' by 'churn'\n",
    "plt.figure(figsize=(6, 4))\n",
    "sns.boxplot(x='churn', y='total eve minutes', data=df)\n",
    "plt.title('Total Evening Minutes by Churn')\n",
    "plt.xlabel('Churn')\n",
    "plt.ylabel('Total Evening Minutes')\n",
    "plt.show()"
   ]
  },
  {
   "cell_type": "markdown",
   "id": "2791e487",
   "metadata": {},
   "source": [
    "**Summary:**\n",
    "\n",
    "Customers who churned tend to have higher total evening minutes compared to those who didn’t churn.\n",
    "\n",
    "This suggests that evening usage may correlate with churn risk, possibly due to:\n",
    "\n",
    "dissatisfaction with evening rates,\n",
    "\n",
    "dropped calls or poor service at night,\n",
    "\n",
    "or high-bill surprises linked to evening usage.\n",
    "\n",
    "**Business Insight:**\n",
    "SyriaTel should investigate whether high evening usage is linked to poor service quality, high charges, or unmet expectations. Offering better evening bundles or monitoring heavy users for satisfaction could reduce churn."
   ]
  },
  {
   "cell_type": "code",
   "execution_count": 31,
   "id": "36370393",
   "metadata": {},
   "outputs": [
    {
     "name": "stdout",
     "output_type": "stream",
     "text": [
      "Performing Chi-square tests for categorical features vs. 'churn':\n",
      "\n",
      "Feature: state\n",
      "  Chi-square Statistic: 83.0438\n",
      "  P-value: 0.0023\n",
      "  Conclusion: Statistically significant association between the feature and churn.\n",
      "------------------------------\n",
      "Feature: area code\n",
      "  Chi-square Statistic: 0.1775\n",
      "  P-value: 0.9151\n",
      "  Conclusion: No statistically significant association between the feature and churn.\n",
      "------------------------------\n",
      "Feature: international plan\n",
      "  Chi-square Statistic: 222.5658\n",
      "  P-value: 0.0000\n",
      "  Conclusion: Statistically significant association between the feature and churn.\n",
      "------------------------------\n",
      "Feature: voice mail plan\n",
      "  Chi-square Statistic: 34.1317\n",
      "  P-value: 0.0000\n",
      "  Conclusion: Statistically significant association between the feature and churn.\n",
      "------------------------------\n"
     ]
    }
   ],
   "source": [
    "\n",
    "# Drop the 'phone number' column \n",
    "df = df.drop('phone number', axis=1)\n",
    "\n",
    "\n",
    "# List of categorical features to test against 'churn'\n",
    "categorical_features = [\n",
    "    'state',\n",
    "    'area code',\n",
    "    'international plan',\n",
    "    'voice mail plan'\n",
    "]\n",
    "\n",
    "print(\"Performing Chi-square tests for categorical features vs. 'churn':\\n\")\n",
    "\n",
    "for feature in categorical_features:\n",
    "    # Create a contingency table using the original DataFrame\n",
    "    contingency_table = pd.crosstab(df[feature], df['churn'])\n",
    "\n",
    "    # Perform the Chi-square test\n",
    "    chi2_stat, p_value, dof, expected = chi2_contingency(contingency_table)\n",
    "\n",
    "    print(f\"Feature: {feature}\")\n",
    "    print(f\"  Chi-square Statistic: {chi2_stat:.4f}\")\n",
    "    print(f\"  P-value: {p_value:.4f}\")\n",
    "\n",
    "    # Interpret the p-value (using a significance level of 0.05)\n",
    "    if p_value < 0.05:\n",
    "        print(\"  Conclusion: Statistically significant association between the feature and churn.\")\n",
    "    else:\n",
    "        print(\"  Conclusion: No statistically significant association between the feature and churn.\")\n",
    "    print(\"-\" * 30)"
   ]
  },
  {
   "cell_type": "markdown",
   "id": "2884e941",
   "metadata": {},
   "source": [
    "**Summary: Inferential Statistics Observation**\n",
    "\n",
    "- **T-tests** revealed significant differences in the mean values of key numerical features (e.g., `total day minutes`, `total charges`, `customer service calls`) between churned and non-churned customers.\n",
    "- **Chi-square tests** showed strong associations between churn and categorical features such as `international plan`, `voice mail plan`, and `state`.\n",
    "- Features like `account length`, `area code`, and `total call counts` did **not** show statistically significant relationships with churn.\n",
    "- These results confirm that **usage behavior** and **specific service plans** are important churn drivers, reinforcing both our EDA insights and model design.\n"
   ]
  },
  {
   "cell_type": "code",
   "execution_count": 32,
   "id": "067d775f",
   "metadata": {},
   "outputs": [],
   "source": [
    "df['voice mail plan'] = df['voice mail plan'].astype(str)\n",
    "df['international plan'] = df['international plan'].astype(str)\n",
    "df['churn'] = df['churn'].astype(str)\n"
   ]
  },
  {
   "cell_type": "code",
   "execution_count": 33,
   "id": "4c1fbe5b",
   "metadata": {},
   "outputs": [
    {
     "data": {
      "image/png": "[encoded data removed]",
      "text/plain": [
       "<Figure size 803.875x400 with 2 Axes>"
      ]
     },
     "metadata": {},
     "output_type": "display_data"
    }
   ],
   "source": [
    "# Create a new DataFrame for proportions\n",
    "df_grouped = (\n",
    "    df\n",
    "    .groupby(['voice mail plan', 'international plan', 'churn'])\n",
    "    .size()\n",
    "    .reset_index(name='count')\n",
    ")\n",
    "\n",
    "# Calculate total counts per group (per facet + bar group)\n",
    "df_grouped['total'] = df_grouped.groupby(['voice mail plan', 'international plan'])['count'].transform('sum')\n",
    "df_grouped['percent'] = df_grouped['count'] / df_grouped['total'] * 100\n",
    "\n",
    "# Plot using percentages\n",
    "g = sns.catplot(\n",
    "    x='international plan', y='percent', hue='churn', col='voice mail plan',\n",
    "    data=df_grouped, kind='bar', height=4, aspect=0.9\n",
    ")\n",
    "\n",
    "g.set_axis_labels(\"International Plan\", \"Churn Percentage\")\n",
    "g.set_titles(col_template=\"Voice Mail Plan: {col_name}\")\n",
    "g.set(ylim=(0, 100))\n",
    "\n",
    "plt.subplots_adjust(top=0.8)\n",
    "plt.suptitle(\"Churn Percentage by International and Voice Mail Plan\")\n",
    "plt.show()\n"
   ]
  },
  {
   "cell_type": "markdown",
   "id": "bd7e45c0",
   "metadata": {},
   "source": [
    "**Summary: Churn by International Plan and Voice Mail Plan ( % Plot)**\n",
    "\n",
    "- The percentage-based bar plot reveals that customers **with an international plan** are **more likely to churn**, regardless of whether they have a voice mail plan or not.\n",
    "- Conversely, customers **without an international plan** exhibit a **significantly lower churn rate**.\n",
    "- The presence or absence of a voice mail plan shows **less pronounced impact** on churn compared to the international plan.\n",
    "- These patterns reinforce the **Chi-square test results**, indicating a **statistically significant association** between the international plan and churn behavior.\n"
   ]
  },
  {
   "cell_type": "markdown",
   "id": "da5c00ec",
   "metadata": {},
   "source": [
    "## **DATA PREPARATION**"
   ]
  },
  {
   "cell_type": "markdown",
   "id": "7a5bae64",
   "metadata": {},
   "source": [
    "### Data Cleaning"
   ]
  },
  {
   "cell_type": "code",
   "execution_count": 138,
   "id": "23870b1a",
   "metadata": {},
   "outputs": [
    {
     "name": "stdout",
     "output_type": "stream",
     "text": [
      "Number of duplicate rows: 0\n"
     ]
    }
   ],
   "source": [
    "# Check for duplicate rows\n",
    "duplicate_rows = df.duplicated().sum()\n",
    "\n",
    "print(f\"Number of duplicate rows: {duplicate_rows}\")"
   ]
  },
  {
   "cell_type": "code",
   "execution_count": 139,
   "id": "9d5350e4",
   "metadata": {},
   "outputs": [],
   "source": [
    "df = df.drop('phone number', axis=1, errors='ignore')\n"
   ]
  },
  {
   "cell_type": "code",
   "execution_count": 140,
   "id": "cfbb712c",
   "metadata": {},
   "outputs": [
    {
     "name": "stdout",
     "output_type": "stream",
     "text": [
      "<class 'pandas.core.frame.DataFrame'>\n",
      "RangeIndex: 3333 entries, 0 to 3332\n",
      "Data columns (total 20 columns):\n",
      " #   Column                  Non-Null Count  Dtype  \n",
      "---  ------                  --------------  -----  \n",
      " 0   state                   3333 non-null   object \n",
      " 1   account length          3333 non-null   int64  \n",
      " 2   area code               3333 non-null   int64  \n",
      " 3   international plan      3333 non-null   object \n",
      " 4   voice mail plan         3333 non-null   object \n",
      " 5   number vmail messages   3333 non-null   int64  \n",
      " 6   total day minutes       3333 non-null   float64\n",
      " 7   total day calls         3333 non-null   int64  \n",
      " 8   total day charge        3333 non-null   float64\n",
      " 9   total eve minutes       3333 non-null   float64\n",
      " 10  total eve calls         3333 non-null   int64  \n",
      " 11  total eve charge        3333 non-null   float64\n",
      " 12  total night minutes     3333 non-null   float64\n",
      " 13  total night calls       3333 non-null   int64  \n",
      " 14  total night charge      3333 non-null   float64\n",
      " 15  total intl minutes      3333 non-null   float64\n",
      " 16  total intl calls        3333 non-null   int64  \n",
      " 17  total intl charge       3333 non-null   float64\n",
      " 18  customer service calls  3333 non-null   int64  \n",
      " 19  churn                   3333 non-null   object \n",
      "dtypes: float64(8), int64(8), object(4)\n",
      "memory usage: 520.9+ KB\n"
     ]
    }
   ],
   "source": [
    "df.info()"
   ]
  },
  {
   "cell_type": "markdown",
   "id": "c37176e0",
   "metadata": {},
   "source": [
    "### Encoding Categorical Variables For Modelling"
   ]
  },
  {
   "cell_type": "code",
   "execution_count": null,
   "id": "a8071cca",
   "metadata": {},
   "outputs": [
    {
     "data": {
      "text/html": [
       "<div>\n",
       "<style scoped>\n",
       "    .dataframe tbody tr th:only-of-type {\n",
       "        vertical-align: middle;\n",
       "    }\n",
       "\n",
       "    .dataframe tbody tr th {\n",
       "        vertical-align: top;\n",
       "    }\n",
       "\n",
       "    .dataframe thead th {\n",
       "        text-align: right;\n",
       "    }\n",
       "</style>\n",
       "<table border=\"1\" class=\"dataframe\">\n",
       "  <thead>\n",
       "    <tr style=\"text-align: right;\">\n",
       "      <th></th>\n",
       "      <th>account length</th>\n",
       "      <th>international plan</th>\n",
       "      <th>voice mail plan</th>\n",
       "      <th>number vmail messages</th>\n",
       "      <th>total day minutes</th>\n",
       "      <th>total day calls</th>\n",
       "      <th>total day charge</th>\n",
       "      <th>total eve minutes</th>\n",
       "      <th>total eve calls</th>\n",
       "      <th>total eve charge</th>\n",
       "      <th>...</th>\n",
       "      <th>state_TX</th>\n",
       "      <th>state_UT</th>\n",
       "      <th>state_VA</th>\n",
       "      <th>state_VT</th>\n",
       "      <th>state_WA</th>\n",
       "      <th>state_WI</th>\n",
       "      <th>state_WV</th>\n",
       "      <th>state_WY</th>\n",
       "      <th>area code_415</th>\n",
       "      <th>area code_510</th>\n",
       "    </tr>\n",
       "  </thead>\n",
       "  <tbody>\n",
       "    <tr>\n",
       "      <th>0</th>\n",
       "      <td>128</td>\n",
       "      <td>0</td>\n",
       "      <td>1</td>\n",
       "      <td>25</td>\n",
       "      <td>265.1</td>\n",
       "      <td>110</td>\n",
       "      <td>45.07</td>\n",
       "      <td>197.4</td>\n",
       "      <td>99</td>\n",
       "      <td>16.78</td>\n",
       "      <td>...</td>\n",
       "      <td>False</td>\n",
       "      <td>False</td>\n",
       "      <td>False</td>\n",
       "      <td>False</td>\n",
       "      <td>False</td>\n",
       "      <td>False</td>\n",
       "      <td>False</td>\n",
       "      <td>False</td>\n",
       "      <td>True</td>\n",
       "      <td>False</td>\n",
       "    </tr>\n",
       "    <tr>\n",
       "      <th>1</th>\n",
       "      <td>107</td>\n",
       "      <td>0</td>\n",
       "      <td>1</td>\n",
       "      <td>26</td>\n",
       "      <td>161.6</td>\n",
       "      <td>123</td>\n",
       "      <td>27.47</td>\n",
       "      <td>195.5</td>\n",
       "      <td>103</td>\n",
       "      <td>16.62</td>\n",
       "      <td>...</td>\n",
       "      <td>False</td>\n",
       "      <td>False</td>\n",
       "      <td>False</td>\n",
       "      <td>False</td>\n",
       "      <td>False</td>\n",
       "      <td>False</td>\n",
       "      <td>False</td>\n",
       "      <td>False</td>\n",
       "      <td>True</td>\n",
       "      <td>False</td>\n",
       "    </tr>\n",
       "    <tr>\n",
       "      <th>2</th>\n",
       "      <td>137</td>\n",
       "      <td>0</td>\n",
       "      <td>0</td>\n",
       "      <td>0</td>\n",
       "      <td>243.4</td>\n",
       "      <td>114</td>\n",
       "      <td>41.38</td>\n",
       "      <td>121.2</td>\n",
       "      <td>110</td>\n",
       "      <td>10.30</td>\n",
       "      <td>...</td>\n",
       "      <td>False</td>\n",
       "      <td>False</td>\n",
       "      <td>False</td>\n",
       "      <td>False</td>\n",
       "      <td>False</td>\n",
       "      <td>False</td>\n",
       "      <td>False</td>\n",
       "      <td>False</td>\n",
       "      <td>True</td>\n",
       "      <td>False</td>\n",
       "    </tr>\n",
       "    <tr>\n",
       "      <th>3</th>\n",
       "      <td>84</td>\n",
       "      <td>1</td>\n",
       "      <td>0</td>\n",
       "      <td>0</td>\n",
       "      <td>299.4</td>\n",
       "      <td>71</td>\n",
       "      <td>50.90</td>\n",
       "      <td>61.9</td>\n",
       "      <td>88</td>\n",
       "      <td>5.26</td>\n",
       "      <td>...</td>\n",
       "      <td>False</td>\n",
       "      <td>False</td>\n",
       "      <td>False</td>\n",
       "      <td>False</td>\n",
       "      <td>False</td>\n",
       "      <td>False</td>\n",
       "      <td>False</td>\n",
       "      <td>False</td>\n",
       "      <td>False</td>\n",
       "      <td>False</td>\n",
       "    </tr>\n",
       "    <tr>\n",
       "      <th>4</th>\n",
       "      <td>75</td>\n",
       "      <td>1</td>\n",
       "      <td>0</td>\n",
       "      <td>0</td>\n",
       "      <td>166.7</td>\n",
       "      <td>113</td>\n",
       "      <td>28.34</td>\n",
       "      <td>148.3</td>\n",
       "      <td>122</td>\n",
       "      <td>12.61</td>\n",
       "      <td>...</td>\n",
       "      <td>False</td>\n",
       "      <td>False</td>\n",
       "      <td>False</td>\n",
       "      <td>False</td>\n",
       "      <td>False</td>\n",
       "      <td>False</td>\n",
       "      <td>False</td>\n",
       "      <td>False</td>\n",
       "      <td>True</td>\n",
       "      <td>False</td>\n",
       "    </tr>\n",
       "  </tbody>\n",
       "</table>\n",
       "<p>5 rows × 70 columns</p>\n",
       "</div>"
      ],
      "text/plain": [
       "   account length  international plan  voice mail plan  number vmail messages  \\\n",
       "0             128                   0                1                     25   \n",
       "1             107                   0                1                     26   \n",
       "2             137                   0                0                      0   \n",
       "3              84                   1                0                      0   \n",
       "4              75                   1                0                      0   \n",
       "\n",
       "   total day minutes  total day calls  total day charge  total eve minutes  \\\n",
       "0              265.1              110             45.07              197.4   \n",
       "1              161.6              123             27.47              195.5   \n",
       "2              243.4              114             41.38              121.2   \n",
       "3              299.4               71             50.90               61.9   \n",
       "4              166.7              113             28.34              148.3   \n",
       "\n",
       "   total eve calls  total eve charge  ...  state_TX  state_UT  state_VA  \\\n",
       "0               99             16.78  ...     False     False     False   \n",
       "1              103             16.62  ...     False     False     False   \n",
       "2              110             10.30  ...     False     False     False   \n",
       "3               88              5.26  ...     False     False     False   \n",
       "4              122             12.61  ...     False     False     False   \n",
       "\n",
       "   state_VT  state_WA  state_WI  state_WV  state_WY  area code_415  \\\n",
       "0     False     False     False     False     False           True   \n",
       "1     False     False     False     False     False           True   \n",
       "2     False     False     False     False     False           True   \n",
       "3     False     False     False     False     False          False   \n",
       "4     False     False     False     False     False           True   \n",
       "\n",
       "   area code_510  \n",
       "0          False  \n",
       "1          False  \n",
       "2          False  \n",
       "3          False  \n",
       "4          False  \n",
       "\n",
       "[5 rows x 70 columns]"
      ]
     },
     "metadata": {},
     "output_type": "display_data"
    }
   ],
   "source": [
    "\n",
    "# Drop the 'phone number' column again\n",
    "df = df.drop('phone number', axis=1)\n",
    "\n",
    "# Encode binary categorical features ('international plan', 'voice mail plan')\n",
    "df['international plan'] = df['international plan'].replace({'yes': 1, 'no': 0})\n",
    "df['voice mail plan'] = df['voice mail plan'].replace({'yes': 1, 'no': 0})\n",
    "\n",
    "\n",
    "df = pd.get_dummies(df, columns=['state', 'area code'], drop_first=True)\n",
    "\n",
    "display(df.head())\n",
    "df.info()\n"
   ]
  },
  {
   "cell_type": "markdown",
   "id": "a682070b",
   "metadata": {},
   "source": [
    "### Handling Class Imbalance With SMOTE"
   ]
  },
  {
   "cell_type": "code",
   "execution_count": 142,
   "id": "e959a979",
   "metadata": {},
   "outputs": [
    {
     "name": "stdout",
     "output_type": "stream",
     "text": [
      "Distribution of 'churn' in the original training set:\n"
     ]
    },
    {
     "data": {
      "text/plain": [
       "churn\n",
       "False    2280\n",
       "True      386\n",
       "Name: count, dtype: int64"
      ]
     },
     "metadata": {},
     "output_type": "display_data"
    },
    {
     "name": "stdout",
     "output_type": "stream",
     "text": [
      "\n",
      "Distribution of 'churn' in the resampled training set:\n"
     ]
    },
    {
     "data": {
      "text/plain": [
       "churn\n",
       "False    2280\n",
       "True     2280\n",
       "Name: count, dtype: int64"
      ]
     },
     "metadata": {},
     "output_type": "display_data"
    },
    {
     "name": "stdout",
     "output_type": "stream",
     "text": [
      "\n",
      "Distribution of 'churn' in the testing set:\n"
     ]
    },
    {
     "data": {
      "text/plain": [
       "churn\n",
       "False    570\n",
       "True      97\n",
       "Name: count, dtype: int64"
      ]
     },
     "metadata": {},
     "output_type": "display_data"
    }
   ],
   "source": [
    "\n",
    "# Separate features (X) and target variable (y)\n",
    "X = df.drop('churn', axis=1)\n",
    "y = df['churn']\n",
    "\n",
    "# Split the data into training and testing sets\n",
    "X_train, X_test, y_train, y_test = train_test_split(X, y, test_size=0.2, random_state=42, stratify=y)\n",
    "\n",
    "# Initialize SMOTE\n",
    "smote = SMOTE(random_state=42)\n",
    "\n",
    "# Apply SMOTE to the training data only\n",
    "X_train_resampled, y_train_resampled = smote.fit_resample(X_train, y_train)\n",
    "\n",
    "# Display the new distribution of the target variable in the resampled training set\n",
    "print(\"Distribution of 'churn' in the original training set:\")\n",
    "display(y_train.value_counts())\n",
    "\n",
    "print(\"\\nDistribution of 'churn' in the resampled training set:\")\n",
    "display(y_train_resampled.value_counts())\n",
    "\n",
    "print(\"\\nDistribution of 'churn' in the testing set:\")\n",
    "display(y_test.value_counts())"
   ]
  },
  {
   "cell_type": "markdown",
   "id": "93a599fc",
   "metadata": {},
   "source": [
    "**Summary: Handling Imbalanced Data with SMOTE**\n",
    "\n",
    "- **Original Training Set**: Imbalanced — 2280 non-churned vs. 386 churned customers.\n",
    "- **After SMOTE Resampling**: Balanced — 2280 churned and 2280 non-churned customers.\n",
    "- **Testing Set**: Remains imbalanced (570 non-churned vs. 97 churned), preserving real-world class proportions for fair evaluation.\n"
   ]
  },
  {
   "cell_type": "markdown",
   "id": "9278a3e9",
   "metadata": {},
   "source": [
    "#### Class Distribution Before and After SMOTE\n"
   ]
  },
  {
   "cell_type": "code",
   "execution_count": 143,
   "id": "74e2cd07",
   "metadata": {},
   "outputs": [
    {
     "data": {
      "image/png": "[encoded data removed]",
      "text/plain": [
       "<Figure size 1800x500 with 3 Axes>"
      ]
     },
     "metadata": {},
     "output_type": "display_data"
    }
   ],
   "source": [
    "import matplotlib.pyplot as plt\n",
    "import seaborn as sns\n",
    "\n",
    "# Set style\n",
    "sns.set_style(\"whitegrid\")\n",
    "\n",
    "# Plotting the class distribution\n",
    "fig, axes = plt.subplots(1, 3, figsize=(18, 5))\n",
    "\n",
    "# Original training set\n",
    "sns.countplot(x=y_train, ax=axes[0], palette=\"Set2\")\n",
    "axes[0].set_title(\"Original Training Set\")\n",
    "axes[0].set_xlabel(\"Churn\")\n",
    "axes[0].set_ylabel(\"Count\")\n",
    "\n",
    "# Resampled (SMOTE) training set\n",
    "sns.countplot(x=y_train_resampled, ax=axes[1], palette=\"Set1\")\n",
    "axes[1].set_title(\"Resampled Training Set (SMOTE)\")\n",
    "axes[1].set_xlabel(\"Churn\")\n",
    "axes[1].set_ylabel(\"Count\")\n",
    "\n",
    "# Test set\n",
    "sns.countplot(x=y_test, ax=axes[2], palette=\"Set3\")\n",
    "axes[2].set_title(\"Testing Set\")\n",
    "axes[2].set_xlabel(\"Churn\")\n",
    "axes[2].set_ylabel(\"Count\")\n",
    "\n",
    "plt.suptitle(\"Churn Distribution: Before and After Resampling\", fontsize=16)\n",
    "plt.tight_layout()\n",
    "plt.show()\n"
   ]
  },
  {
   "cell_type": "markdown",
   "id": "ceaafb61",
   "metadata": {},
   "source": [
    "**Summary: Before and After SMOTE**\n",
    "\n",
    "The visualization confirms that SMOTE successfully balanced the training data by oversampling the minority class. This helps prevent the model from being biased toward the majority class. The test set remains imbalanced to reflect real-world churn distribution during evaluation.\n"
   ]
  },
  {
   "cell_type": "markdown",
   "id": "f7bdb52b",
   "metadata": {},
   "source": [
    "## **MODELING**"
   ]
  },
  {
   "cell_type": "markdown",
   "id": "59e8194a",
   "metadata": {},
   "source": [
    "### Baseline Model-Logistic Regression"
   ]
  },
  {
   "cell_type": "code",
   "execution_count": null,
   "id": "6c104632",
   "metadata": {},
   "outputs": [
    {
     "name": "stdout",
     "output_type": "stream",
     "text": [
      "Logistic Regression Model trained successfully.\n"
     ]
    }
   ],
   "source": [
    "# Initialize Logistic Regression\n",
    "model = LogisticRegression(random_state=42, solver='liblinear') \n",
    "\n",
    "# Train the model on the resampled training data\n",
    "model.fit(X_train_resampled, y_train_resampled)\n",
    "\n",
    "print(\"Logistic Regression Model trained successfully.\")"
   ]
  },
  {
   "cell_type": "code",
   "execution_count": null,
   "id": "7a1c9c3e",
   "metadata": {},
   "outputs": [
    {
     "name": "stdout",
     "output_type": "stream",
     "text": [
      "Evaluation on Training Data (after SMOTE):\n",
      "              precision    recall  f1-score   support\n",
      "\n",
      "       False       0.88      0.94      0.91      2280\n",
      "        True       0.94      0.88      0.91      2280\n",
      "\n",
      "    accuracy                           0.91      4560\n",
      "   macro avg       0.91      0.91      0.91      4560\n",
      "weighted avg       0.91      0.91      0.91      4560\n",
      "\n",
      "ROC AUC Score (Training): 0.965585757156048\n",
      "\n",
      "Evaluation on Testing Data (Original Distribution):\n",
      "              precision    recall  f1-score   support\n",
      "\n",
      "       False       0.90      0.94      0.92       570\n",
      "        True       0.49      0.36      0.41        97\n",
      "\n",
      "    accuracy                           0.85       667\n",
      "   macro avg       0.69      0.65      0.66       667\n",
      "weighted avg       0.84      0.85      0.84       667\n",
      "\n",
      "ROC AUC Score (Testing): 0.7624706095134743\n"
     ]
    }
   ],
   "source": [
    "\n",
    "# Make predictions on the training data\n",
    "y_train_pred = model.predict(X_train_resampled)\n",
    "y_train_pred_proba = model.predict_proba(X_train_resampled)[:, 1] # Get probabilities for the positive class (churn=True)\n",
    "\n",
    "# Evaluate on training data\n",
    "print(\"Evaluation on Training Data (after SMOTE):\")\n",
    "print(classification_report(y_train_resampled, y_train_pred))\n",
    "print(f\"ROC AUC Score (Training): {roc_auc_score(y_train_resampled, y_train_pred_proba)}\")\n",
    "\n",
    "# Make predictions on the testing data\n",
    "y_test_pred = model.predict(X_test)\n",
    "y_test_pred_proba = model.predict_proba(X_test)[:, 1] \n",
    "\n",
    "# Evaluate on testing data\n",
    "print(\"\\nEvaluation on Testing Data (Original Distribution):\")\n",
    "print(classification_report(y_test, y_test_pred))\n",
    "print(f\"ROC AUC Score (Testing): {roc_auc_score(y_test, y_test_pred_proba)}\")"
   ]
  },
  {
   "cell_type": "markdown",
   "id": "3ade4d0f",
   "metadata": {},
   "source": [
    "**Evaluation on Training Data (after SMOTE)**\n",
    "\n",
    "- The model performs quite well on the balanced training data, with high precision, recall, F1-score, and ROC AUC (around 0.91 and 0.96 respectively). This indicates that the model learned the patterns in the resampled data effectively.\n",
    "\n",
    "**Evaluation on Testing Data (Original Distribution)**\n",
    "\n",
    "- The performance on the testing data is lower, which is expected as it's evaluated on unseen and imbalanced data.\n",
    "Accuracy is relatively high (0.85), but this can be misleading due to the imbalance.\n",
    "Precision for Churn (True) is 0.49: When the model predicts a customer will churn, it is correct about 49% of the time.\n",
    "Recall for Churn (True) is 0.36: The model correctly identifies only about 36% of the customers who actually churned.\n",
    "F1-Score for Churn (True) is 0.41: This is a balance of precision and recall for the churn class.\n",
    "ROC AUC Score (Testing) is 0.76: This indicates the model has a decent ability to distinguish between churned and non-churned customers, but there is room for improvement.\n",
    "The low recall for the churn class on the testing data is a key observation. This means our baseline model is missing a significant portion of the actual churning customers. For a churn prediction model, identifying as many churning customers as possible (high recall) is often very important, even if it means sometimes incorrectly predicting churn for some non-churned customers (lower precision). The balance between precision and recall depends on the business problem and the costs associated with false positives and false negatives."
   ]
  },
  {
   "cell_type": "markdown",
   "id": "174f005e",
   "metadata": {},
   "source": [
    "#### Logistic Regression: Hyperparameter Tuning With GridSearchCV"
   ]
  },
  {
   "cell_type": "code",
   "execution_count": null,
   "id": "25d13499",
   "metadata": {},
   "outputs": [
    {
     "name": "stdout",
     "output_type": "stream",
     "text": [
      "Starting GridSearchCV...\n"
     ]
    },
    {
     "name": "stderr",
     "output_type": "stream",
     "text": [
      "c:\\Users\\Admin\\anaconda3\\Lib\\site-packages\\sklearn\\svm\\_base.py:1244: ConvergenceWarning: Liblinear failed to converge, increase the number of iterations.\n",
      "  warnings.warn(\n"
     ]
    },
    {
     "name": "stdout",
     "output_type": "stream",
     "text": [
      "GridSearchCV finished.\n",
      "\n",
      "Best parameters found:  {'C': 100, 'penalty': 'l1', 'solver': 'liblinear'}\n",
      "Best ROC AUC score on training data:  0.8861842105263158\n"
     ]
    }
   ],
   "source": [
    "\n",
    "# Define the parameter grid to search\n",
    "param_grid = {\n",
    "    'C': [0.001, 0.01, 0.1, 1, 10, 100], \n",
    "    'penalty': ['l1', 'l2'], \n",
    "    'solver': ['liblinear'] \n",
    "}\n",
    "\n",
    "# Initialize the Logistic Regression model\n",
    "lr = LogisticRegression(random_state=42)\n",
    "\n",
    "# Define the scorer (using ROC AUC)\n",
    "roc_auc = make_scorer(roc_auc_score)\n",
    "\n",
    "# Initialize GridSearchCV\n",
    "grid_search = GridSearchCV(estimator=lr, param_grid=param_grid, scoring=roc_auc, cv=5)\n",
    "\n",
    "# Fit GridSearchCV to the resampled training data\n",
    "print(\"Starting GridSearchCV...\")\n",
    "grid_search.fit(X_train_resampled, y_train_resampled)\n",
    "print(\"GridSearchCV finished.\")\n",
    "\n",
    "# Get the best parameters and best score\n",
    "print(\"\\nBest parameters found: \", grid_search.best_params_)\n",
    "print(\"Best ROC AUC score on training data: \", grid_search.best_score_)\n",
    "\n",
    "# Get the best model\n",
    "best_lr_model = grid_search.best_estimator_"
   ]
  },
  {
   "cell_type": "markdown",
   "id": "51fea043",
   "metadata": {},
   "source": [
    "#### Evaluation Of Tuned Logistic Regression Model"
   ]
  },
  {
   "cell_type": "code",
   "execution_count": null,
   "id": "349a7670",
   "metadata": {},
   "outputs": [
    {
     "name": "stdout",
     "output_type": "stream",
     "text": [
      "Evaluation on Testing Data (Original Distribution) - Tuned Model:\n",
      "              precision    recall  f1-score   support\n",
      "\n",
      "       False       0.89      0.95      0.92       570\n",
      "        True       0.52      0.30      0.38        97\n",
      "\n",
      "    accuracy                           0.86       667\n",
      "   macro avg       0.70      0.63      0.65       667\n",
      "weighted avg       0.83      0.86      0.84       667\n",
      "\n",
      "ROC AUC Score (Testing) - Tuned Model: 0.7825827455236027\n"
     ]
    }
   ],
   "source": [
    "\n",
    "# Make predictions on the testing data using the best tuned model\n",
    "y_test_pred_tuned = best_lr_model.predict(X_test)\n",
    "y_test_pred_proba_tuned = best_lr_model.predict_proba(X_test)[:, 1] \n",
    "\n",
    "# Evaluate on testing data\n",
    "print(\"Evaluation on Testing Data (Original Distribution) - Tuned Model:\")\n",
    "print(classification_report(y_test, y_test_pred_tuned))\n",
    "print(f\"ROC AUC Score (Testing) - Tuned Model: {roc_auc_score(y_test, y_test_pred_proba_tuned)}\")"
   ]
  },
  {
   "cell_type": "markdown",
   "id": "ffb7b60c",
   "metadata": {},
   "source": [
    "**Observations:**\n",
    "\n",
    "- The tuned model shows a slight improvement in Precision (from 0.49 to 0.52) and ROC AUC (from 0.7625 to 0.7826) compared to the baseline model on the testing data. This suggests it's slightly better at correctly identifying positive cases among those it predicts as positive, and has slightly better overall discriminative ability.\n",
    "However, the tuned model shows a decrease in Recall (from 0.36 to 0.30). This means it is now identifying an even smaller percentage of the actual churning customers.\n",
    "- The trade-off between precision and recall is evident here. The tuning improved precision and ROC AUC but at the cost of recall. For a churn prediction model, the importance of precision vs. recall depends on the business context. If the cost of incorrectly targeting a non-churned customer with a retention offer (false positive) is low, but missing a churning customer (false negative) is high (significant revenue loss), then maximizing recall might be more important."
   ]
  },
  {
   "cell_type": "markdown",
   "id": "ff2e3ba9",
   "metadata": {},
   "source": [
    "### Decision Tree Classifier"
   ]
  },
  {
   "cell_type": "code",
   "execution_count": null,
   "id": "2d5e6f7d",
   "metadata": {},
   "outputs": [
    {
     "name": "stdout",
     "output_type": "stream",
     "text": [
      "Decision Tree Model trained successfully.\n"
     ]
    }
   ],
   "source": [
    "from sklearn.tree import DecisionTreeClassifier\n",
    "\n",
    "# Initialize the Decision Tree Classifier\n",
    "dt_model = DecisionTreeClassifier(random_state=42)\n",
    "\n",
    "# Train the model on the resampled training data\n",
    "dt_model.fit(X_train_resampled, y_train_resampled)\n",
    "\n",
    "print(\"Decision Tree Model trained successfully.\")"
   ]
  },
  {
   "cell_type": "code",
   "execution_count": null,
   "id": "7bbbad58",
   "metadata": {},
   "outputs": [
    {
     "name": "stdout",
     "output_type": "stream",
     "text": [
      "Evaluation on Testing Data (Original Distribution) - Decision Tree Model:\n",
      "              precision    recall  f1-score   support\n",
      "\n",
      "       False       0.95      0.85      0.90       570\n",
      "        True       0.45      0.73      0.56        97\n",
      "\n",
      "    accuracy                           0.83       667\n",
      "   macro avg       0.70      0.79      0.73       667\n",
      "weighted avg       0.88      0.83      0.85       667\n",
      "\n",
      "ROC AUC Score (Testing) - Decision Tree Model: 0.7896635919696148\n"
     ]
    }
   ],
   "source": [
    "from sklearn.metrics import classification_report, confusion_matrix, roc_auc_score\n",
    "\n",
    "# Make predictions on the testing data using the Decision Tree model\n",
    "y_test_pred_dt = dt_model.predict(X_test)\n",
    "y_test_pred_proba_dt = dt_model.predict_proba(X_test)[:, 1] \n",
    "\n",
    "# Evaluate on testing data\n",
    "print(\"Evaluation on Testing Data (Original Distribution) - Decision Tree Model:\")\n",
    "print(classification_report(y_test, y_test_pred_dt))\n",
    "print(f\"ROC AUC Score (Testing) - Decision Tree Model: {roc_auc_score(y_test, y_test_pred_proba_dt)}\")"
   ]
  },
  {
   "cell_type": "markdown",
   "id": "d5ac7b45",
   "metadata": {},
   "source": [
    "#### Model Comparison Summary\n",
    "\n",
    "#### Decision Tree vs. Logistic Regression Models\n",
    "\n",
    "- **Recall (Churn Class)**:\n",
    "  - Decision Tree: **0.73**\n",
    "  - Logistic Regression (Baseline & Tuned): **0.36** and **0.30**\n",
    "  - The Decision Tree model captures significantly more actual churners, which is critical for SyriaTel's retention efforts.\n",
    "\n",
    "- **Precision (Churn Class)**:\n",
    "  - Decision Tree: **0.45**\n",
    "  - Logistic Regression: **0.49** and **0.52**\n",
    "  -  The Decision Tree has lower precision, indicating more false positives compared to Logistic Regression.\n",
    "\n",
    "- **F1-Score (Churn Class)**:\n",
    "  - Decision Tree: **0.56**\n",
    "  - Logistic Regression: **0.41** and **0.38**\n",
    "  -  The Decision Tree achieves a better balance between precision and recall.\n",
    "\n",
    "- **ROC AUC Score**:\n",
    "  - Decision Tree: **0.79**\n",
    "  - Tuned Logistic Regression: **0.78**\n",
    "  - The Decision Tree has slightly better overall classification performance.\n",
    "\n",
    "####  Conclusion:\n",
    "The Decision Tree model offers superior performance in identifying customers likely to churn (high recall), which is valuable for churn mitigation strategies. Although it has slightly lower precision than Logistic Regression, its ability to flag more potential churners makes it a strong candidate for deployment in scenarios where **recall is a priority**.\n"
   ]
  },
  {
   "cell_type": "markdown",
   "id": "728d4cb9",
   "metadata": {},
   "source": [
    "#### Decision Tree: Hyperparameter Tuning With GridSearchCV"
   ]
  },
  {
   "cell_type": "code",
   "execution_count": 150,
   "id": "052bc2a4",
   "metadata": {},
   "outputs": [
    {
     "name": "stdout",
     "output_type": "stream",
     "text": [
      "Starting GridSearchCV for Decision Tree...\n",
      "GridSearchCV finished.\n",
      "\n",
      "Best parameters found:  {'criterion': 'gini', 'max_depth': None, 'min_samples_leaf': 1, 'min_samples_split': 2}\n",
      "Best ROC AUC score on training data:  0.8951754385964913\n"
     ]
    }
   ],
   "source": [
    "from sklearn.model_selection import GridSearchCV\n",
    "from sklearn.tree import DecisionTreeClassifier\n",
    "from sklearn.metrics import roc_auc_score, make_scorer\n",
    "\n",
    "# Define the parameter grid to search for Decision Tree\n",
    "param_grid_dt = {\n",
    "    'max_depth': [None, 5, 10, 15, 20], # Maximum depth of the tree\n",
    "    'min_samples_split': [2, 5, 10],   # Minimum number of samples required to split an internal node\n",
    "    'min_samples_leaf': [1, 2, 4],     # Minimum number of samples required to be at a leaf node\n",
    "    'criterion': ['gini', 'entropy']   # Function to measure the quality of a split\n",
    "}\n",
    "\n",
    "# Initialize the Decision Tree Classifier\n",
    "dt = DecisionTreeClassifier(random_state=42)\n",
    "\n",
    "# Define the scorer (using ROC AUC)\n",
    "roc_auc = make_scorer(roc_auc_score)\n",
    "\n",
    "# Initialize GridSearchCV\n",
    "grid_search_dt = GridSearchCV(estimator=dt, param_grid=param_grid_dt, scoring=roc_auc, cv=5)\n",
    "\n",
    "# Fit GridSearchCV to the resampled training data\n",
    "print(\"Starting GridSearchCV for Decision Tree...\")\n",
    "grid_search_dt.fit(X_train_resampled, y_train_resampled)\n",
    "print(\"GridSearchCV finished.\")\n",
    "\n",
    "# Get the best parameters and best score\n",
    "print(\"\\nBest parameters found: \", grid_search_dt.best_params_)\n",
    "print(\"Best ROC AUC score on training data: \", grid_search_dt.best_score_)\n",
    "\n",
    "# Get the best model\n",
    "best_dt_model = grid_search_dt.best_estimator_"
   ]
  },
  {
   "cell_type": "markdown",
   "id": "a4c4a188",
   "metadata": {},
   "source": [
    "#### Evaluation of Tuned Decision Tree "
   ]
  },
  {
   "cell_type": "code",
   "execution_count": null,
   "id": "f80951a3",
   "metadata": {},
   "outputs": [
    {
     "name": "stdout",
     "output_type": "stream",
     "text": [
      "Evaluation on Testing Data (Original Distribution) - Tuned Decision Tree Model:\n",
      "              precision    recall  f1-score   support\n",
      "\n",
      "       False       0.95      0.85      0.90       570\n",
      "        True       0.45      0.73      0.56        97\n",
      "\n",
      "    accuracy                           0.83       667\n",
      "   macro avg       0.70      0.79      0.73       667\n",
      "weighted avg       0.88      0.83      0.85       667\n",
      "\n",
      "ROC AUC Score (Testing) - Tuned Decision Tree Model: 0.7896635919696148\n"
     ]
    }
   ],
   "source": [
    "from sklearn.metrics import classification_report, confusion_matrix, roc_auc_score\n",
    "\n",
    "# Make predictions on the testing data using the best tuned model\n",
    "y_test_pred_tuned_dt = best_dt_model.predict(X_test)\n",
    "y_test_pred_proba_tuned_dt = best_dt_model.predict_proba(X_test)[:, 1] \n",
    "\n",
    "# Evaluate on testing data\n",
    "print(\"Evaluation on Testing Data (Original Distribution) - Tuned Decision Tree Model:\")\n",
    "print(classification_report(y_test, y_test_pred_tuned_dt))\n",
    "print(f\"ROC AUC Score (Testing) - Tuned Decision Tree Model: {roc_auc_score(y_test, y_test_pred_proba_tuned_dt)}\")"
   ]
  },
  {
   "cell_type": "markdown",
   "id": "3ceba9f8",
   "metadata": {},
   "source": [
    "**Observations – Tuned Decision Tree Model**\n",
    "\n",
    "- The **tuned Decision Tree model** yields the **same performance metrics** on the test set as the baseline (untuned) model. This suggests that, within the provided hyperparameter grid and scoring criteria, **hyperparameter tuning did not improve** performance on unseen data.\n",
    "\n",
    "- Both **Decision Tree models** (tuned and untuned) achieve the **highest Recall (0.73)** and **highest F1-Score (0.56)** for the **churn class**, indicating they are the most effective at identifying customers likely to churn.\n",
    "\n",
    "- The **ROC AUC score (0.7897)** for the Decision Tree models is **slightly higher** than that of the tuned Logistic Regression model, suggesting better overall discriminative power between churners and non-churners.\n",
    "\n",
    "- Although the **Precision (0.45)** for the churn class is **lower** than in the Logistic Regression models, this trade-off may be acceptable if SyriaTel's **primary objective is to minimize missed churners** (i.e., maximize recall).\n",
    "\n"
   ]
  },
  {
   "cell_type": "markdown",
   "id": "06ffaca9",
   "metadata": {},
   "source": [
    "### Random  Forest Classifier"
   ]
  },
  {
   "cell_type": "code",
   "execution_count": null,
   "id": "75abafd6",
   "metadata": {},
   "outputs": [
    {
     "name": "stdout",
     "output_type": "stream",
     "text": [
      "Random Forest Model trained successfully.\n"
     ]
    }
   ],
   "source": [
    "from sklearn.ensemble import RandomForestClassifier\n",
    "\n",
    "# Initialize the Random Forest Classifier\n",
    "rf_model = RandomForestClassifier(random_state=42)\n",
    "\n",
    "# Train the model on the resampled training data\n",
    "rf_model.fit(X_train_resampled, y_train_resampled)\n",
    "\n",
    "print(\"Random Forest Model trained successfully.\")"
   ]
  },
  {
   "cell_type": "code",
   "execution_count": null,
   "id": "57d31262",
   "metadata": {},
   "outputs": [
    {
     "name": "stdout",
     "output_type": "stream",
     "text": [
      "Evaluation on Testing Data (Original Distribution) - Random Forest Model:\n",
      "              precision    recall  f1-score   support\n",
      "\n",
      "       False       0.92      0.96      0.94       570\n",
      "        True       0.68      0.54      0.60        97\n",
      "\n",
      "    accuracy                           0.90       667\n",
      "   macro avg       0.80      0.75      0.77       667\n",
      "weighted avg       0.89      0.90      0.89       667\n",
      "\n",
      "ROC AUC Score (Testing) - Random Forest Model: 0.8580665581479471\n"
     ]
    }
   ],
   "source": [
    "from sklearn.metrics import classification_report, confusion_matrix, roc_auc_score\n",
    "\n",
    "# Make predictions on the testing data using the Random Forest model\n",
    "y_test_pred_rf = rf_model.predict(X_test)\n",
    "y_test_pred_proba_rf = rf_model.predict_proba(X_test)[:, 1] \n",
    "\n",
    "# Evaluate on testing data\n",
    "print(\"Evaluation on Testing Data (Original Distribution) - Random Forest Model:\")\n",
    "print(classification_report(y_test, y_test_pred_rf))\n",
    "print(f\"ROC AUC Score (Testing) - Random Forest Model: {roc_auc_score(y_test, y_test_pred_proba_rf)}\")"
   ]
  },
  {
   "cell_type": "markdown",
   "id": "08f9c703",
   "metadata": {},
   "source": [
    "**Observations - Random Forest Model**\n",
    "\n",
    "The **Random Forest model** shows promising results:\n",
    "\n",
    "- It has a significantly higher **Precision (0.68)** for the churn class compared to both the Logistic Regression models (0.49 and 0.52) and the Decision Tree models (0.45). This means when the model predicts a customer will churn, it is more often correct.\n",
    "- Its **Recall (0.54)** is lower than the Decision Tree models (0.73) but higher than the Logistic Regression models (0.36 and 0.30). It identifies more actual churners than Logistic Regression, though not as many as the Decision Tree.\n",
    "- The **F1-Score (0.60)** is the highest among all models tested so far, indicating the best balance between precision and recall.\n",
    "- The **ROC AUC Score (0.8581)** is also the highest, suggesting that the Random Forest has the best overall ability to distinguish between churners and non-churners.\n",
    "- Overall, the Random Forest model offers the **most balanced performance**, outperforming Logistic Regression in recall and Decision Tree in precision and F1-score, while also achieving the best discriminative power across all models.\n"
   ]
  },
  {
   "cell_type": "markdown",
   "id": "a39fdc2f",
   "metadata": {},
   "source": [
    "\n",
    "#### Random Forest: Hyperparameter Tuning With GridSearchCV"
   ]
  },
  {
   "cell_type": "code",
   "execution_count": null,
   "id": "d2eb04fd",
   "metadata": {},
   "outputs": [
    {
     "name": "stdout",
     "output_type": "stream",
     "text": [
      "Starting GridSearchCV for Random Forest...\n",
      "GridSearchCV finished.\n",
      "\n",
      "Best parameters found:  {'criterion': 'gini', 'max_depth': None, 'min_samples_leaf': 1, 'min_samples_split': 2, 'n_estimators': 300}\n",
      "Best ROC AUC score on training data:  0.9451754385964911\n"
     ]
    }
   ],
   "source": [
    "from sklearn.model_selection import GridSearchCV\n",
    "from sklearn.ensemble import RandomForestClassifier\n",
    "from sklearn.metrics import roc_auc_score, make_scorer\n",
    "\n",
    "# Define the parameter grid to search for Random Forest\n",
    "param_grid_rf = {\n",
    "    'n_estimators': [100, 200, 300], \n",
    "    'max_depth': [None, 10, 20],     \n",
    "    'min_samples_split': [2, 5],     \n",
    "    'min_samples_leaf': [1, 2],      \n",
    "    'criterion': ['gini', 'entropy'] \n",
    "}\n",
    "\n",
    "# Initialize the Random Forest Classifier\n",
    "rf = RandomForestClassifier(random_state=42)\n",
    "\n",
    "# Define the scorer (using ROC AUC)\n",
    "roc_auc = make_scorer(roc_auc_score)\n",
    "\n",
    "# Initialize GridSearchCV\n",
    "grid_search_rf = GridSearchCV(estimator=rf, param_grid=param_grid_rf, scoring=roc_auc, cv=3, n_jobs=-1) \n",
    "\n",
    "# Fit GridSearchCV to the resampled training data\n",
    "print(\"Starting GridSearchCV for Random Forest...\")\n",
    "grid_search_rf.fit(X_train_resampled, y_train_resampled)\n",
    "print(\"GridSearchCV finished.\")\n",
    "\n",
    "# Get the best parameters and best score\n",
    "print(\"\\nBest parameters found: \", grid_search_rf.best_params_)\n",
    "print(\"Best ROC AUC score on training data: \", grid_search_rf.best_score_)\n",
    "\n",
    "# Get the best model\n",
    "best_rf_model = grid_search_rf.best_estimator_"
   ]
  },
  {
   "cell_type": "markdown",
   "id": "aaf8bbbc",
   "metadata": {},
   "source": [
    "#### Evaluation of Tuned Random Forest Classifier "
   ]
  },
  {
   "cell_type": "code",
   "execution_count": null,
   "id": "d347022b",
   "metadata": {},
   "outputs": [
    {
     "name": "stdout",
     "output_type": "stream",
     "text": [
      "Evaluation on Testing Data (Original Distribution) - Tuned Random Forest Model:\n",
      "              precision    recall  f1-score   support\n",
      "\n",
      "       False       0.93      0.96      0.94       570\n",
      "        True       0.71      0.55      0.62        97\n",
      "\n",
      "    accuracy                           0.90       667\n",
      "   macro avg       0.82      0.75      0.78       667\n",
      "weighted avg       0.89      0.90      0.90       667\n",
      "\n",
      "ROC AUC Score (Testing) - Tuned Random Forest Model: 0.8625248688732141\n"
     ]
    }
   ],
   "source": [
    "from sklearn.metrics import classification_report, confusion_matrix, roc_auc_score\n",
    "\n",
    "# Make predictions on the testing data using the best tuned model\n",
    "y_test_pred_tuned_rf = best_rf_model.predict(X_test)\n",
    "y_test_pred_proba_tuned_rf = best_rf_model.predict_proba(X_test)[:, 1] \n",
    "\n",
    "# Evaluate on testing data\n",
    "print(\"Evaluation on Testing Data (Original Distribution) - Tuned Random Forest Model:\")\n",
    "print(classification_report(y_test, y_test_pred_tuned_rf))\n",
    "print(f\"ROC AUC Score (Testing) - Tuned Random Forest Model: {roc_auc_score(y_test, y_test_pred_proba_tuned_rf)}\")"
   ]
  },
  {
   "cell_type": "markdown",
   "id": "423a7e53",
   "metadata": {},
   "source": [
    " **Observations: Tuned Random Forest Model**\n",
    "\n",
    "The tuned Random Forest model shows a slight improvement in all key metrics (Precision, Recall, F1-Score, and ROC AUC) compared to the baseline Random Forest model on the testing data.\n",
    "\n",
    "**Comparison with Other Models:**\n",
    "\n",
    "-  **Highest Precision (0.71)** for the churn class — better than all previous models, meaning it's more reliable when predicting churn.\n",
    "-  **Recall (0.55)** is higher than both Logistic Regression models, though still lower than the Decision Tree models.\n",
    "-  **F1-Score (0.62)** is the highest among all models, reflecting the best balance between precision and recall.\n",
    "-  **ROC AUC Score (0.8625)** is also the highest, showing the best ability to distinguish between churning and non-churning customers.\n",
    "\n",
    ">  **Conclusion:** The tuned Random Forest model is the best-performing model for churn prediction in this analysis. It balances identifying actual churners and minimizing false positives, while achieving the highest overall discriminative performance.\n"
   ]
  },
  {
   "cell_type": "markdown",
   "id": "1299d907",
   "metadata": {},
   "source": [
    "#### Random Forest:Tuning Hyperparameters With RandomizedSearchCv"
   ]
  },
  {
   "cell_type": "code",
   "execution_count": null,
   "id": "6c6c5d64",
   "metadata": {},
   "outputs": [
    {
     "name": "stdout",
     "output_type": "stream",
     "text": [
      "Starting RandomizedSearchCV for Random Forest...\n",
      "RandomizedSearchCV finished.\n",
      "\n",
      "Best parameters found:  {'criterion': 'gini', 'max_depth': 20, 'max_features': 'log2', 'min_samples_leaf': 1, 'min_samples_split': 5, 'n_estimators': 149}\n",
      "Best ROC AUC score on training data:  0.9484649122807018\n"
     ]
    }
   ],
   "source": [
    "from sklearn.model_selection import RandomizedSearchCV\n",
    "from sklearn.ensemble import RandomForestClassifier\n",
    "from sklearn.metrics import roc_auc_score, make_scorer\n",
    "from scipy.stats import randint, uniform \n",
    "\n",
    "# Define the parameter distribution to sample from for Random Forest\n",
    "param_dist_rf = {\n",
    "    'n_estimators': randint(100, 500), \n",
    "    'max_depth': [None, 10, 20, 30],     \n",
    "    'min_samples_split': randint(2, 20), \n",
    "    'min_samples_leaf': randint(1, 10),  \n",
    "    'max_features': ['sqrt', 'log2', None], \n",
    "    'criterion': ['gini', 'entropy']   \n",
    "}\n",
    "\n",
    "# Initialize the Random Forest Classifier\n",
    "rf = RandomForestClassifier(random_state=42)\n",
    "\n",
    "# Define the scorer (using ROC AUC)\n",
    "roc_auc = make_scorer(roc_auc_score)\n",
    "\n",
    "random_search_rf = RandomizedSearchCV(estimator=rf, param_distributions=param_dist_rf,\n",
    "                                      n_iter=100, scoring=roc_auc, cv=5, random_state=42, n_jobs=-1) \n",
    "\n",
    "# Fit RandomizedSearchCV to the resampled training data\n",
    "print(\"Starting RandomizedSearchCV for Random Forest...\")\n",
    "random_search_rf.fit(X_train_resampled, y_train_resampled)\n",
    "print(\"RandomizedSearchCV finished.\")\n",
    "\n",
    "# Get the best parameters and best score\n",
    "print(\"\\nBest parameters found: \", random_search_rf.best_params_)\n",
    "print(\"Best ROC AUC score on training data: \", random_search_rf.best_score_)\n",
    "\n",
    "# Get the best model\n",
    "best_rf_model_random = random_search_rf.best_estimator_"
   ]
  },
  {
   "cell_type": "markdown",
   "id": "605657d0",
   "metadata": {},
   "source": [
    "#### Evaluation of Tuned Random Forest Model With RandomizedSearchCv"
   ]
  },
  {
   "cell_type": "code",
   "execution_count": null,
   "id": "e3005dca",
   "metadata": {},
   "outputs": [
    {
     "name": "stdout",
     "output_type": "stream",
     "text": [
      "Evaluation on Testing Data (Original Distribution) - Tuned Random Forest Model (RandomizedSearchCV):\n",
      "              precision    recall  f1-score   support\n",
      "\n",
      "       False       0.92      0.96      0.94       570\n",
      "        True       0.70      0.52      0.60        97\n",
      "\n",
      "    accuracy                           0.90       667\n",
      "   macro avg       0.81      0.74      0.77       667\n",
      "weighted avg       0.89      0.90      0.89       667\n",
      "\n",
      "ROC AUC Score (Testing) - Tuned Random Forest Model (RandomizedSearchCV): 0.8589980104901429\n"
     ]
    }
   ],
   "source": [
    "from sklearn.metrics import classification_report, confusion_matrix, roc_auc_score\n",
    "\n",
    "# Make predictions on the testing data using the best tuned model from RandomizedSearchCV\n",
    "y_test_pred_tuned_rf_random = best_rf_model_random.predict(X_test)\n",
    "y_test_pred_proba_tuned_rf_random = best_rf_model_random.predict_proba(X_test)[:, 1] \n",
    "\n",
    "# Evaluate on testing data\n",
    "print(\"Evaluation on Testing Data (Original Distribution) - Tuned Random Forest Model (RandomizedSearchCV):\")\n",
    "print(classification_report(y_test, y_test_pred_tuned_rf_random))\n",
    "print(f\"ROC AUC Score (Testing) - Tuned Random Forest Model (RandomizedSearchCV): {roc_auc_score(y_test, y_test_pred_proba_tuned_rf_random)}\")"
   ]
  },
  {
   "cell_type": "markdown",
   "id": "e806f940",
   "metadata": {},
   "source": [
    "**Observations: Random Forest Tuned with RandomizedSearchCV**\n",
    "\n",
    "The Random Forest model tuned using **RandomizedSearchCV** produced strong and competitive results on the testing data:\n",
    "\n",
    "- **Precision** for the churn class: **0.70**, slightly below the GridSearchCV-tuned model (0.71).\n",
    "- **Recall**: **0.52**, also slightly lower than the GridSearchCV-tuned model (0.55), but still higher than the Logistic Regression models.\n",
    "- **F1-Score**: **0.60**, marginally less than the best-performing model (GridSearchCV, F1 = 0.62).\n",
    "- **ROC AUC Score**: **0.8590**, nearly identical to GridSearchCV (0.8625), and still the second highest across all models tested.\n",
    "\n",
    " **Summary**:  \n",
    "While RandomizedSearchCV delivered a well-performing Random Forest model, the version tuned via **GridSearchCV** maintains a **slight performance edge** on all key metrics. This further validates that **Random Forest** remains the top-performing algorithm in this project, regardless of the tuning method used.\n"
   ]
  },
  {
   "cell_type": "markdown",
   "id": "fc7426a5",
   "metadata": {},
   "source": [
    "## **EVALUATION**"
   ]
  },
  {
   "cell_type": "markdown",
   "id": "cd18ae13",
   "metadata": {},
   "source": [
    "### Feature Importance (Random Forest)\n",
    "\n",
    "Let's analyze the feature importances from the best-performing model (Tuned Random Forest) to identify key churn drivers."
   ]
  },
  {
   "cell_type": "code",
   "execution_count": null,
   "id": "594d6d28",
   "metadata": {},
   "outputs": [
    {
     "name": "stdout",
     "output_type": "stream",
     "text": [
      "Top 15 Most Important Features:\n"
     ]
    },
    {
     "data": {
      "text/html": [
       "<div>\n",
       "<style scoped>\n",
       "    .dataframe tbody tr th:only-of-type {\n",
       "        vertical-align: middle;\n",
       "    }\n",
       "\n",
       "    .dataframe tbody tr th {\n",
       "        vertical-align: top;\n",
       "    }\n",
       "\n",
       "    .dataframe thead th {\n",
       "        text-align: right;\n",
       "    }\n",
       "</style>\n",
       "<table border=\"1\" class=\"dataframe\">\n",
       "  <thead>\n",
       "    <tr style=\"text-align: right;\">\n",
       "      <th></th>\n",
       "      <th>Feature</th>\n",
       "      <th>Importance</th>\n",
       "    </tr>\n",
       "  </thead>\n",
       "  <tbody>\n",
       "    <tr>\n",
       "      <th>4</th>\n",
       "      <td>total day minutes</td>\n",
       "      <td>0.116082</td>\n",
       "    </tr>\n",
       "    <tr>\n",
       "      <th>6</th>\n",
       "      <td>total day charge</td>\n",
       "      <td>0.114046</td>\n",
       "    </tr>\n",
       "    <tr>\n",
       "      <th>16</th>\n",
       "      <td>customer service calls</td>\n",
       "      <td>0.083036</td>\n",
       "    </tr>\n",
       "    <tr>\n",
       "      <th>9</th>\n",
       "      <td>total eve charge</td>\n",
       "      <td>0.049954</td>\n",
       "    </tr>\n",
       "    <tr>\n",
       "      <th>7</th>\n",
       "      <td>total eve minutes</td>\n",
       "      <td>0.048998</td>\n",
       "    </tr>\n",
       "    <tr>\n",
       "      <th>3</th>\n",
       "      <td>number vmail messages</td>\n",
       "      <td>0.040602</td>\n",
       "    </tr>\n",
       "    <tr>\n",
       "      <th>2</th>\n",
       "      <td>voice mail plan</td>\n",
       "      <td>0.038602</td>\n",
       "    </tr>\n",
       "    <tr>\n",
       "      <th>67</th>\n",
       "      <td>area code_415</td>\n",
       "      <td>0.034908</td>\n",
       "    </tr>\n",
       "    <tr>\n",
       "      <th>10</th>\n",
       "      <td>total night minutes</td>\n",
       "      <td>0.034818</td>\n",
       "    </tr>\n",
       "    <tr>\n",
       "      <th>12</th>\n",
       "      <td>total night charge</td>\n",
       "      <td>0.034702</td>\n",
       "    </tr>\n",
       "    <tr>\n",
       "      <th>14</th>\n",
       "      <td>total intl calls</td>\n",
       "      <td>0.034223</td>\n",
       "    </tr>\n",
       "    <tr>\n",
       "      <th>13</th>\n",
       "      <td>total intl minutes</td>\n",
       "      <td>0.032941</td>\n",
       "    </tr>\n",
       "    <tr>\n",
       "      <th>15</th>\n",
       "      <td>total intl charge</td>\n",
       "      <td>0.032417</td>\n",
       "    </tr>\n",
       "    <tr>\n",
       "      <th>0</th>\n",
       "      <td>account length</td>\n",
       "      <td>0.031618</td>\n",
       "    </tr>\n",
       "    <tr>\n",
       "      <th>68</th>\n",
       "      <td>area code_510</td>\n",
       "      <td>0.028532</td>\n",
       "    </tr>\n",
       "  </tbody>\n",
       "</table>\n",
       "</div>"
      ],
      "text/plain": [
       "                   Feature  Importance\n",
       "4        total day minutes    0.116082\n",
       "6         total day charge    0.114046\n",
       "16  customer service calls    0.083036\n",
       "9         total eve charge    0.049954\n",
       "7        total eve minutes    0.048998\n",
       "3    number vmail messages    0.040602\n",
       "2          voice mail plan    0.038602\n",
       "67           area code_415    0.034908\n",
       "10     total night minutes    0.034818\n",
       "12      total night charge    0.034702\n",
       "14        total intl calls    0.034223\n",
       "13      total intl minutes    0.032941\n",
       "15       total intl charge    0.032417\n",
       "0           account length    0.031618\n",
       "68           area code_510    0.028532"
      ]
     },
     "metadata": {},
     "output_type": "display_data"
    },
    {
     "data": {
      "image/png": "[encoded data removed]",
      "text/plain": [
       "<Figure size 1000x700 with 1 Axes>"
      ]
     },
     "metadata": {},
     "output_type": "display_data"
    }
   ],
   "source": [
    "\n",
    "# Get feature importances from the best Random Forest model\n",
    "feature_importances = best_rf_model.feature_importances_\n",
    "\n",
    "# Use the columns from the training data (X_train_resampled or X_train)\n",
    "features_df = pd.DataFrame({'Feature': X_train.columns, 'Importance': feature_importances})\n",
    "\n",
    "# Sort the features by importance in descending order\n",
    "features_df = features_df.sort_values(by='Importance', ascending=False)\n",
    "\n",
    "# Display the top N most important features (e.g., top 15)\n",
    "print(\"Top 15 Most Important Features:\")\n",
    "display(features_df.head(15))\n",
    "\n",
    "# Optionally, plot the top N most important features\n",
    "plt.figure(figsize=(10, 7))\n",
    "sns.barplot(x='Importance', y='Feature', data=features_df.head(15), palette='viridis')\n",
    "plt.title('Top 15 Most Important Features for Churn Prediction')\n",
    "plt.xlabel('Importance')\n",
    "plt.ylabel('Feature')\n",
    "plt.tight_layout()\n",
    "plt.show()"
   ]
  },
  {
   "cell_type": "markdown",
   "id": "a140dee3",
   "metadata": {},
   "source": [
    "#### Feature Importance Summary (Random Forest Model)\n",
    "\n",
    "The feature importance analysis from the tuned **Random Forest classifier** reveals key insights into the drivers of customer churn for **SyriaTel**:\n",
    "\n",
    "---\n",
    "\n",
    "##### 1.  Daytime Usage is the Strongest Indicator\n",
    "- **`total day minutes`** and **`total day charge`** are the most important features.\n",
    "- Suggests that customers with high daytime usage may be more sensitive to cost or experience service dissatisfaction during peak hours.\n",
    "\n",
    "---\n",
    "\n",
    "##### 2.  Customer Support Interaction Signals Risk\n",
    "- **`customer service calls`** ranks highly in importance.\n",
    "- High frequency of support calls may indicate unresolved issues, leading to increased churn risk.\n",
    "\n",
    "---\n",
    "\n",
    "##### 3.  Evening Usage Plays a Secondary Role\n",
    "- **`total eve minutes`** and **`total eve charge`** also contribute notably to predictions.\n",
    "- Indicates moderate influence of evening activity on customer churn.\n",
    "\n",
    "---\n",
    "\n",
    "##### 4.  Voicemail Services Linked to Retention\n",
    "- Features like **`voice mail plan`** and **`number vmail messages`** are associated with **lower churn**.\n",
    "- Suggests voicemail-related features may increase customer satisfaction or engagement.\n",
    "\n",
    "---\n",
    "\n",
    "##### 5. International Plan Correlates with Churn\n",
    "- Customers on the **`international plan`** are more likely to churn.\n",
    "- Could reflect dissatisfaction with international call quality or pricing.\n",
    "\n",
    "---\n",
    "\n",
    "##### 6.  Other Influential Features\n",
    "- Features such as **`account length`**, **`area code`**, **night usage**, and **international minutes/calls** show moderate importance.\n",
    "- These may interact with other behaviors but are less dominant in predicting churn.\n",
    "\n",
    "---\n",
    "\n",
    "##### Key Takeaway\n",
    "These insights can help **SyriaTel**:\n",
    "- Identify and engage high-risk customers based on usage patterns.\n",
    "- Improve customer support experiences to reduce churn.\n",
    "- Consider plan restructuring—especially for daytime and international services.\n",
    "- Promote voicemail services as potential retention tools.\n",
    "\n",
    "---\n"
   ]
  },
  {
   "cell_type": "markdown",
   "id": "705cd2d6",
   "metadata": {},
   "source": [
    "#### Model Metrics\n",
    "\n",
    "Extract the performance metrics (Precision, Recall, F1-score for both classes, ROC AUC, and Accuracy) for each model from the previous outputs. \n"
   ]
  },
  {
   "cell_type": "code",
   "execution_count": null,
   "id": "fd6e85b2",
   "metadata": {},
   "outputs": [
    {
     "name": "stdout",
     "output_type": "stream",
     "text": [
      "Extracted Performance Metrics (first 10 entries):\n"
     ]
    },
    {
     "data": {
      "text/plain": [
       "[{'Model': 'Tuned Logistic Regression',\n",
       "  'Metric': 'Precision',\n",
       "  'Class': 'False',\n",
       "  'Value': 0.89},\n",
       " {'Model': 'Tuned Logistic Regression',\n",
       "  'Metric': 'Recall',\n",
       "  'Class': 'False',\n",
       "  'Value': 0.95},\n",
       " {'Model': 'Tuned Logistic Regression',\n",
       "  'Metric': 'F1-score',\n",
       "  'Class': 'False',\n",
       "  'Value': 0.92},\n",
       " {'Model': 'Tuned Logistic Regression',\n",
       "  'Metric': 'Precision',\n",
       "  'Class': 'True',\n",
       "  'Value': 0.52},\n",
       " {'Model': 'Tuned Logistic Regression',\n",
       "  'Metric': 'Recall',\n",
       "  'Class': 'True',\n",
       "  'Value': 0.3},\n",
       " {'Model': 'Tuned Logistic Regression',\n",
       "  'Metric': 'F1-score',\n",
       "  'Class': 'True',\n",
       "  'Value': 0.38},\n",
       " {'Model': 'Tuned Logistic Regression',\n",
       "  'Metric': 'Accuracy',\n",
       "  'Class': 'Overall',\n",
       "  'Value': 0.86},\n",
       " {'Model': 'Tuned Logistic Regression',\n",
       "  'Metric': 'Precision',\n",
       "  'Class': 'macro avg',\n",
       "  'Value': 0.7},\n",
       " {'Model': 'Tuned Logistic Regression',\n",
       "  'Metric': 'Recall',\n",
       "  'Class': 'macro avg',\n",
       "  'Value': 0.63},\n",
       " {'Model': 'Tuned Logistic Regression',\n",
       "  'Metric': 'F1-score',\n",
       "  'Class': 'macro avg',\n",
       "  'Value': 0.65}]"
      ]
     },
     "metadata": {},
     "output_type": "display_data"
    }
   ],
   "source": [
    "performance_metrics = []\n",
    "\n",
    "# Function to extract metrics from classification report output\n",
    "def extract_metrics(report_output, model_name):\n",
    "    lines = report_output.strip().split('\\n')\n",
    "    start_index = -1\n",
    "    end_index = -1\n",
    "    for i, line in enumerate(lines):\n",
    "        if \"precision\" in line and \"recall\" in line and \"f1-score\" in line and \"support\" in line:\n",
    "            start_index = i + 1\n",
    "        if \"accuracy\" in line:\n",
    "            end_index = i\n",
    "\n",
    "\n",
    "    if start_index == -1 or end_index == -1:\n",
    "        print(f\"Could not parse metrics for model: {model_name}\")\n",
    "        return\n",
    "\n",
    "    metrics_lines = lines[start_index:end_index]\n",
    "\n",
    "    for line in metrics_lines:\n",
    "        parts = line.split()\n",
    "        if len(parts) >= 5: \n",
    "            class_label = parts[0]\n",
    "            \n",
    "            if class_label == 'True' or class_label == 'False':\n",
    "                 precision = float(parts[1])\n",
    "                 recall = float(parts[2])\n",
    "                 f1_score = float(parts[3])\n",
    "                 support = int(parts[4])\n",
    "\n",
    "                 performance_metrics.append({\n",
    "                     'Model': model_name,\n",
    "                     'Metric': 'Precision',\n",
    "                     'Class': class_label,\n",
    "                     'Value': precision\n",
    "                 })\n",
    "                 performance_metrics.append({\n",
    "                     'Model': model_name,\n",
    "                     'Metric': 'Recall',\n",
    "                     'Class': class_label,\n",
    "                     'Value': recall\n",
    "                 })\n",
    "                 performance_metrics.append({\n",
    "                     'Model': model_name,\n",
    "                     'Metric': 'F1-score',\n",
    "                     'Class': class_label,\n",
    "                     'Value': f1_score\n",
    "                 })\n",
    "\n",
    "\n",
    "    # Extract accuracy, macro avg, and weighted avg separately\n",
    "    for line in lines:\n",
    "        if \"accuracy\" in line:\n",
    "            parts = line.split()\n",
    "            if len(parts) >= 2:\n",
    "                 accuracy = float(parts[1])\n",
    "                 performance_metrics.append({\n",
    "                     'Model': model_name,\n",
    "                     'Metric': 'Accuracy',\n",
    "                     'Class': 'Overall',\n",
    "                     'Value': accuracy\n",
    "                 })\n",
    "        elif \"macro avg\" in line:\n",
    "            parts = line.split()\n",
    "            if len(parts) >= 5:\n",
    "                performance_metrics.append({\n",
    "                    'Model': model_name,\n",
    "                    'Metric': 'Precision',\n",
    "                    'Class': 'macro avg',\n",
    "                    'Value': float(parts[2])\n",
    "                })\n",
    "                performance_metrics.append({\n",
    "                    'Model': model_name,\n",
    "                    'Metric': 'Recall',\n",
    "                    'Class': 'macro avg',\n",
    "                    'Value': float(parts[3])\n",
    "                })\n",
    "                performance_metrics.append({\n",
    "                    'Model': model_name,\n",
    "                    'Metric': 'F1-score',\n",
    "                    'Class': 'macro avg',\n",
    "                    'Value': float(parts[4])\n",
    "                })\n",
    "        elif \"weighted avg\" in line:\n",
    "            parts = line.split()\n",
    "            if len(parts) >= 5:\n",
    "                 performance_metrics.append({\n",
    "                    'Model': model_name,\n",
    "                    'Metric': 'Precision',\n",
    "                    'Class': 'weighted avg',\n",
    "                    'Value': float(parts[2])\n",
    "                })\n",
    "                 performance_metrics.append({\n",
    "                    'Model': model_name,\n",
    "                    'Metric': 'Recall',\n",
    "                    'Class': 'weighted avg',\n",
    "                    'Value': float(parts[3])\n",
    "                })\n",
    "                 performance_metrics.append({\n",
    "                    'Model': model_name,\n",
    "                    'Metric': 'F1-score',\n",
    "                    'Class': 'weighted avg',\n",
    "                    'Value': float(parts[4])\n",
    "                })\n",
    "\n",
    "\n",
    "# Extract ROC AUC scores \n",
    "# Tuned Logistic Regression\n",
    "lr_tuned_report = \"\"\"\n",
    "Evaluation on Testing Data (Original Distribution) - Tuned Model:\n",
    "              precision    recall  f1-score   support\n",
    "\n",
    "       False       0.89      0.95      0.92       570\n",
    "        True       0.52      0.30      0.38        97\n",
    "\n",
    "    accuracy                           0.86       667\n",
    "   macro avg       0.70      0.63      0.65       667\n",
    "weighted avg       0.83      0.86      0.84       667\n",
    "\"\"\"\n",
    "lr_tuned_roc_auc = 0.7825827455236027\n",
    "extract_metrics(lr_tuned_report, 'Tuned Logistic Regression')\n",
    "performance_metrics.append({\n",
    "    'Model': 'Tuned Logistic Regression',\n",
    "    'Metric': 'ROC AUC',\n",
    "    'Class': 'Overall',\n",
    "    'Value': lr_tuned_roc_auc\n",
    "})\n",
    "\n",
    "\n",
    "# Tuned Decision Tree\n",
    "dt_tuned_report = \"\"\"\n",
    "Evaluation on Testing Data (Original Distribution) - Tuned Decision Tree Model:\n",
    "              precision    recall  f1-score   support\n",
    "\n",
    "       False       0.95      0.85      0.90       570\n",
    "        True       0.45      0.73      0.56        97\n",
    "\n",
    "    accuracy                           0.83       667\n",
    "   macro avg       0.70      0.79      0.73       667\n",
    "weighted avg       0.88      0.83      0.85       667\n",
    "\"\"\"\n",
    "dt_tuned_roc_auc = 0.7896635919696148\n",
    "extract_metrics(dt_tuned_report, 'Tuned Decision Tree')\n",
    "performance_metrics.append({\n",
    "    'Model': 'Tuned Decision Tree',\n",
    "    'Metric': 'ROC AUC',\n",
    "    'Class': 'Overall',\n",
    "    'Value': dt_tuned_roc_auc\n",
    "})\n",
    "\n",
    "\n",
    "# Tuned Random Forest (GridSearchCV)\n",
    "rf_tuned_grid_report = \"\"\"\n",
    "Evaluation on Testing Data (Original Distribution) - Tuned Random Forest Model:\n",
    "              precision    recall  f1-score   support\n",
    "\n",
    "       False       0.93      0.96      0.94       570\n",
    "        True       0.71      0.55      0.62        97\n",
    "\n",
    "    accuracy                           0.90       667\n",
    "   macro avg       0.82      0.75      0.78       667\n",
    "weighted avg       0.89      0.90      0.90       667\n",
    "\"\"\"\n",
    "rf_tuned_grid_roc_auc = 0.8625248688732141\n",
    "extract_metrics(rf_tuned_grid_report, 'Tuned Random Forest (GridSearchCV)')\n",
    "performance_metrics.append({\n",
    "    'Model': 'Tuned Random Forest (GridSearchCV)',\n",
    "    'Metric': 'ROC AUC',\n",
    "    'Class': 'Overall',\n",
    "    'Value': rf_tuned_grid_roc_auc\n",
    "})\n",
    "\n",
    "\n",
    "# Tuned Random Forest (RandomizedSearchCV)\n",
    "rf_tuned_random_report = \"\"\"\n",
    "Evaluation on Testing Data (Original Distribution) - Tuned Random Forest Model (RandomizedSearchCV):\n",
    "              precision    recall  f1-score   support\n",
    "\n",
    "       False       0.92      0.96      0.94       570\n",
    "        True       0.70      0.52      0.60        97\n",
    "\n",
    "    accuracy                           0.90       667\n",
    "   macro avg       0.81      0.74      0.77       667\n",
    "weighted avg       0.89      0.90      0.89       667\n",
    "\"\"\"\n",
    "rf_tuned_random_roc_auc = 0.8589980104901429\n",
    "extract_metrics(rf_tuned_random_report, 'Tuned Random Forest (RandomizedSearchCV)')\n",
    "performance_metrics.append({\n",
    "    'Model': 'Tuned Random Forest (RandomizedSearchCV)',\n",
    "    'Metric': 'ROC AUC',\n",
    "    'Class': 'Overall',\n",
    "    'Value': rf_tuned_random_roc_auc\n",
    "})\n",
    "\n",
    "\n",
    "print(\"Extracted Performance Metrics (first 10 entries):\")\n",
    "display(performance_metrics[:10])"
   ]
  },
  {
   "cell_type": "code",
   "execution_count": null,
   "id": "933db227",
   "metadata": {},
   "outputs": [
    {
     "data": {
      "text/html": [
       "<div>\n",
       "<style scoped>\n",
       "    .dataframe tbody tr th:only-of-type {\n",
       "        vertical-align: middle;\n",
       "    }\n",
       "\n",
       "    .dataframe tbody tr th {\n",
       "        vertical-align: top;\n",
       "    }\n",
       "\n",
       "    .dataframe thead th {\n",
       "        text-align: right;\n",
       "    }\n",
       "</style>\n",
       "<table border=\"1\" class=\"dataframe\">\n",
       "  <thead>\n",
       "    <tr style=\"text-align: right;\">\n",
       "      <th></th>\n",
       "      <th>Model</th>\n",
       "      <th>Metric</th>\n",
       "      <th>Class</th>\n",
       "      <th>Value</th>\n",
       "      <th>Metric Type</th>\n",
       "    </tr>\n",
       "  </thead>\n",
       "  <tbody>\n",
       "    <tr>\n",
       "      <th>0</th>\n",
       "      <td>Tuned Logistic Regression</td>\n",
       "      <td>Precision</td>\n",
       "      <td>False</td>\n",
       "      <td>0.89</td>\n",
       "      <td>Precision - False</td>\n",
       "    </tr>\n",
       "    <tr>\n",
       "      <th>1</th>\n",
       "      <td>Tuned Logistic Regression</td>\n",
       "      <td>Recall</td>\n",
       "      <td>False</td>\n",
       "      <td>0.95</td>\n",
       "      <td>Recall - False</td>\n",
       "    </tr>\n",
       "    <tr>\n",
       "      <th>2</th>\n",
       "      <td>Tuned Logistic Regression</td>\n",
       "      <td>F1-score</td>\n",
       "      <td>False</td>\n",
       "      <td>0.92</td>\n",
       "      <td>F1-score - False</td>\n",
       "    </tr>\n",
       "    <tr>\n",
       "      <th>3</th>\n",
       "      <td>Tuned Logistic Regression</td>\n",
       "      <td>Precision</td>\n",
       "      <td>True</td>\n",
       "      <td>0.52</td>\n",
       "      <td>Precision - True</td>\n",
       "    </tr>\n",
       "    <tr>\n",
       "      <th>4</th>\n",
       "      <td>Tuned Logistic Regression</td>\n",
       "      <td>Recall</td>\n",
       "      <td>True</td>\n",
       "      <td>0.30</td>\n",
       "      <td>Recall - True</td>\n",
       "    </tr>\n",
       "  </tbody>\n",
       "</table>\n",
       "</div>"
      ],
      "text/plain": [
       "                       Model     Metric  Class  Value        Metric Type\n",
       "0  Tuned Logistic Regression  Precision  False   0.89  Precision - False\n",
       "1  Tuned Logistic Regression     Recall  False   0.95     Recall - False\n",
       "2  Tuned Logistic Regression   F1-score  False   0.92   F1-score - False\n",
       "3  Tuned Logistic Regression  Precision   True   0.52   Precision - True\n",
       "4  Tuned Logistic Regression     Recall   True   0.30      Recall - True"
      ]
     },
     "metadata": {},
     "output_type": "display_data"
    },
    {
     "name": "stdout",
     "output_type": "stream",
     "text": [
      "<class 'pandas.core.frame.DataFrame'>\n",
      "RangeIndex: 56 entries, 0 to 55\n",
      "Data columns (total 5 columns):\n",
      " #   Column       Non-Null Count  Dtype  \n",
      "---  ------       --------------  -----  \n",
      " 0   Model        56 non-null     object \n",
      " 1   Metric       56 non-null     object \n",
      " 2   Class        56 non-null     object \n",
      " 3   Value        56 non-null     float64\n",
      " 4   Metric Type  56 non-null     object \n",
      "dtypes: float64(1), object(4)\n",
      "memory usage: 2.3+ KB\n"
     ]
    }
   ],
   "source": [
    "performance_df = pd.DataFrame(performance_metrics)\n",
    "\n",
    "# Create the 'Metric Type' column\n",
    "performance_df['Metric Type'] = performance_df.apply(\n",
    "    lambda row: f\"{row['Metric']} - {row['Class']}\" if row['Class'] not in ['Overall', 'macro avg', 'weighted avg'] else row['Metric'], axis=1\n",
    ")\n",
    "\n",
    "# Display the first few rows and info of the DataFrame\n",
    "display(performance_df.head())\n",
    "performance_df.info()"
   ]
  },
  {
   "cell_type": "code",
   "execution_count": null,
   "id": "c5fd2d5e",
   "metadata": {},
   "outputs": [
    {
     "name": "stderr",
     "output_type": "stream",
     "text": [
      "c:\\Users\\Admin\\anaconda3\\Lib\\site-packages\\seaborn\\categorical.py:641: FutureWarning: The default of observed=False is deprecated and will be changed to True in a future version of pandas. Pass observed=False to retain current behavior or observed=True to adopt the future default and silence this warning.\n",
      "  grouped_vals = vals.groupby(grouper)\n",
      "c:\\Users\\Admin\\anaconda3\\Lib\\site-packages\\seaborn\\categorical.py:641: FutureWarning: The default of observed=False is deprecated and will be changed to True in a future version of pandas. Pass observed=False to retain current behavior or observed=True to adopt the future default and silence this warning.\n",
      "  grouped_vals = vals.groupby(grouper)\n"
     ]
    },
    {
     "data": {
      "image/png": "[encoded data removed]",
      "text/plain": [
       "<Figure size 1400x700 with 1 Axes>"
      ]
     },
     "metadata": {},
     "output_type": "display_data"
    }
   ],
   "source": [
    "import matplotlib.pyplot as plt\n",
    "import seaborn as sns\n",
    "\n",
    "# Define the metrics to be included in the plot.\n",
    "selected_metrics = [\n",
    "    'Precision - True',\n",
    "    'Recall - True',\n",
    "    'F1-score - True',\n",
    "    'ROC AUC',\n",
    "    'Accuracy'\n",
    "]\n",
    "\n",
    "# Filter the performance_df DataFrame\n",
    "plot_df = performance_df[performance_df['Metric Type'].isin(selected_metrics)].copy()\n",
    "\n",
    "plot_df['Metric Type'] = pd.Categorical(plot_df['Metric Type'], categories=selected_metrics, ordered=True)\n",
    "\n",
    "# Create a bar plot\n",
    "plt.figure(figsize=(14, 7))\n",
    "sns.barplot(x='Metric Type', y='Value', hue='Model', data=plot_df, palette='viridis')\n",
    "\n",
    "# Set plot title and labels\n",
    "plt.title('Comparison of Model Performance Metrics', fontsize=16)\n",
    "plt.xlabel('Metric Type', fontsize=12)\n",
    "plt.ylabel('Score', fontsize=12)\n",
    "\n",
    "# Rotate x-axis labels for readability\n",
    "plt.xticks(rotation=45, ha='right')\n",
    "\n",
    "\n",
    "plt.tight_layout()\n",
    "plt.show()"
   ]
  },
  {
   "cell_type": "markdown",
   "id": "78310890",
   "metadata": {},
   "source": [
    "#### Model Performance Comparison Summary\n",
    "The bar chart presents a comparison of key performance metrics for four tuned models on unseen test data: Logistic Regression, Decision Tree, Random Forest (GridSearchCV), and Random Forest (RandomizedSearchCV).\n",
    "\n",
    "#### Key Insights:\n",
    "\n",
    "- Top Overall Performer: The Tuned Random Forest (GridSearchCV) consistently outperforms across most metrics, striking an effective balance between Precision and Recall for the churn class. It also achieves the highest ROC AUC and Accuracy.\n",
    "\n",
    "- Recall (Capturing Churners): The Tuned Decision Tree yields the highest Recall (~0.73) for the churn class, making it best at identifying customers likely to churn — useful if the business prioritizes minimizing missed churners (false negatives).\n",
    "\n",
    "- Precision (Avoiding Mistargeting): The Tuned Random Forest (GridSearchCV) demonstrates the highest Precision (~0.71), indicating it is better at avoiding false positives — useful when incorrectly targeting loyal customers is costly.\n",
    "\n",
    "- F1-Score (Precision + Recall Balance): Again, the Random Forest (GridSearchCV) leads with the highest F1-score (~0.62) for churn prediction, showing its balanced performance.\n",
    "\n",
    "- ROC AUC (Overall Discrimination): The model achieves the best ROC AUC (~0.8625), showing excellent ability to distinguish churners from non-churners across classification thresholds. The RandomizedSearchCV variant trails closely.\n",
    "\n",
    "- Accuracy: While less informative for imbalanced data, the Random Forest models still lead with ~90% Accuracy.\n",
    "\n",
    "#### Conclusion:\n",
    "\n",
    "The Tuned Random Forest (GridSearchCV) is the most effective model for SyriaTel’s churn prediction. It offers the best combination of identifying true churners while minimizing incorrect classifications, making it a robust and reliable choice. Although the Decision Tree excels at capturing more churners, its lower Precision and F1-score suggest a higher risk of false alarms. Logistic Regression, while interpretable, underperforms compared to the tree-based models."
   ]
  },
  {
   "cell_type": "markdown",
   "id": "ed2aa348",
   "metadata": {},
   "source": [
    "### Confusion Matrix for Tuned Random Forest Model\n"
   ]
  },
  {
   "cell_type": "code",
   "execution_count": 162,
   "id": "7e4a4e4a",
   "metadata": {},
   "outputs": [
    {
     "name": "stdout",
     "output_type": "stream",
     "text": [
      "Confusion Matrix for Tuned Random Forest Model (GridSearchCV):\n"
     ]
    },
    {
     "data": {
      "text/plain": [
       "array([[548,  22],\n",
       "       [ 44,  53]], dtype=int64)"
      ]
     },
     "metadata": {},
     "output_type": "display_data"
    }
   ],
   "source": [
    "from sklearn.metrics import confusion_matrix\n",
    "\n",
    "# Generate the confusion matrix for the tuned Random Forest model on the test data\n",
    "conf_matrix = confusion_matrix(y_test, y_test_pred_tuned_rf)\n",
    "\n",
    "# Display the confusion matrix\n",
    "print(\"Confusion Matrix for Tuned Random Forest Model (GridSearchCV):\")\n",
    "display(conf_matrix)"
   ]
  },
  {
   "cell_type": "code",
   "execution_count": null,
   "id": "049a4dda",
   "metadata": {},
   "outputs": [
    {
     "data": {
      "image/png": "[encoded data removed]",
      "text/plain": [
       "<Figure size 800x600 with 2 Axes>"
      ]
     },
     "metadata": {},
     "output_type": "display_data"
    }
   ],
   "source": [
    "import matplotlib.pyplot as plt\n",
    "import seaborn as sns\n",
    "from sklearn.metrics import confusion_matrix\n",
    "\n",
    "# Define labels for the classes\n",
    "labels = ['Not Churn', 'Churn']\n",
    "\n",
    "# Create the heatmap\n",
    "plt.figure(figsize=(8, 6))\n",
    "sns.heatmap(conf_matrix, annot=True, fmt='d', cmap='Blues', xticklabels=labels, yticklabels=labels)\n",
    "\n",
    "\n",
    "# Add titles and labels\n",
    "plt.title('Confusion Matrix for Tuned Random Forest Model (GridSearchCV)')\n",
    "plt.xlabel('Predicted Label')\n",
    "plt.ylabel('True Label')\n",
    "\n",
    "# Display the plot\n",
    "plt.show()"
   ]
  },
  {
   "cell_type": "markdown",
   "id": "47ab3f5e",
   "metadata": {},
   "source": [
    " #### Interpretation of the Confusion Matrix (Tuned Random Forest Model)\n",
    " \n",
    "The confusion matrix provides a breakdown of model predictions versus actual churn outcomes:\n",
    "\n",
    "- True Negatives (548)\n",
    "Customers who did not churn, and the model correctly predicted they wouldn't. This large number reflects the class imbalance — most customers do not churn.\n",
    "\n",
    "- False Positives (22)\n",
    "Customers who did not churn, but the model incorrectly predicted they would. These may lead to unnecessary retention efforts — an acceptable cost depending on budget.\n",
    "\n",
    "- False Negatives (44)\n",
    "Customers who did churn, but the model missed them. These represent lost opportunities to intervene — often more costly than false positives. Reducing this number is key.\n",
    "\n",
    "- True Positives (53)\n",
    "Customers who did churn, and the model correctly predicted them. These are high-value predictions that SyriaTel can act on for targeted retention.\n",
    "\n",
    " #### Summary with Key Metrics:\n",
    "Out of 97 actual churners, the model correctly predicted 53 → Recall ≈ 0.55\n",
    "\n",
    "Out of 75 predicted churners, 53 were correct → Precision ≈ 0.71\n",
    "\n",
    "The model performs well at identifying non-churners, but still misses a significant number of actual churners.\n",
    "\n",
    "#### Business Insight:\n",
    "SyriaTel should weigh the cost of false negatives (missed churners) against false positives (unnecessary retention). If customer loss is expensive, optimizing for higher recall — even at the cost of some precision — may be more beneficial."
   ]
  },
  {
   "cell_type": "markdown",
   "id": "75381d59",
   "metadata": {},
   "source": [
    "## **RECOMMENDATIONS FOR SYRIATEL**"
   ]
  },
  {
   "cell_type": "markdown",
   "id": "8a0eb8d9",
   "metadata": {},
   "source": [
    "\n",
    "\n",
    "Based on the findings from the churn prediction model and feature importance analysis, the following data-driven strategies are recommended to help SyriaTel reduce customer attrition:\n",
    "\n",
    "1. **Target High-Risk Customers**\n",
    "\n",
    "Use the tuned Random Forest model to proactively identify customers at high risk of churning.\n",
    "\n",
    "Implement retention campaigns for these individuals—offering personalized incentives, discounts, or enhanced service options tailored to their behavior and concerns.\n",
    "\n",
    "2. **Improve Customer Service Experience**\n",
    "\n",
    "Since 'customer service calls' is a top churn predictor, enhance service quality and resolution speed.\n",
    "\n",
    "Analyze frequent callers' issues and consider follow-ups to ensure satisfaction.\n",
    "\n",
    "Provide additional training and tools to support staff for handling complex customer concerns.\n",
    "\n",
    " 3. **Re-evaluate International Plans**\n",
    "\n",
    "The 'international plan' is highly associated with churn.\n",
    "\n",
    "Investigate pricing, plan structure, or common complaints tied to these services.\n",
    "\n",
    "Offer more flexible or value-driven international options to reduce dissatisfaction.\n",
    "\n",
    " 4. **Promote Voice Mail Plans**\n",
    "\n",
    "'voice mail plan' and 'number vmail messages' are linked with lower churn.\n",
    "\n",
    "Consider upselling or incentivizing voicemail features as part of retention efforts.\n",
    "\n",
    "5. **Retain High-Usage Customers**\n",
    "\n",
    "Customers with high 'total day minutes' or 'total day charge' are valuable but also churn-prone.\n",
    "\n",
    "Engage these users with loyalty programs, priority support, or exclusive perks to boost satisfaction.\n",
    "\n",
    "6. **Address Regional Churn Patterns**\n",
    "\n",
    "Tailor retention strategies to states with higher churn rates (e.g., CA, NJ, TX, MD).\n",
    "\n",
    "Investigate whether regional factors (competitors, service gaps) contribute to attrition.\n",
    "\n"
   ]
  },
  {
   "cell_type": "markdown",
   "id": "cd4598f5",
   "metadata": {},
   "source": [
    "## Operational Improvements\n",
    "\n",
    "1. **Allocate Resources Effeciently**\n",
    "- Use model predictions to guide resource allocation in customer service and support.\n",
    "- Optimize resource usage to address high-risk customers effectively and improve overall operational efficiency.\n",
    "\n",
    "2. **Adjusting Pricing Strategies**\n",
    "- Develop pricing strategies that better align with customer value and usage patterns, potentially reducing churn and increasing revenue.\n",
    "- Implement easier payment plans,send payment remainders via SMS/email and other auto-debit options to prevent service disruption.\n",
    "- If payment-related features are linked to churning,improve flexibility in payment options or offer better remainder channels."
   ]
  },
  {
   "cell_type": "markdown",
   "id": "ef00227d",
   "metadata": {},
   "source": [
    "## Marketing and Personalization\n",
    "\n",
    "1. **Leverage Customer Data**\n",
    "- Utilize customer data insights to create personalized experiences.\n",
    "- Increase customer satisfaction and loyalty by providing relevant interactions.\n",
    "\n",
    "2. **Design Marketing Campaigns**\n",
    "- Develop marketing campaigns based on  insights from the predictive models.\n",
    "- Tailor offers and promotions to specific customer segements ,improving the effectiveness of marketing efforts and enhancing customer engagement."
   ]
  },
  {
   "cell_type": "markdown",
   "id": "889a1c8a",
   "metadata": {},
   "source": [
    "## Monitoring and Evaluation\n",
    "\n",
    "1. **Regularly Review Model Performance**\n",
    "- Continously monitor and evaluate the performance of predictive models.\n",
    "- **Goal:** Ensure models remain accurate and relevant, making adjustments as needed to maintain effectiveness.\n",
    "\n",
    "2. **Update Strategies Based on New Insights**\n",
    "- Incorporate new data and insights into business strategies.\n",
    "- Stay responsive to changing customer behaviors and market conditions,ensuring strategies remain relevant.\n",
    "\n",
    "**Conclusion:**\n",
    "Implementing these general recommendations can help the business improve customer retention,enhance marketing efforts,optimize operations and make data-driven decisions. By leveraging predictive models and focusing on actionable insights, the business can achieve better outcomes and long-term success."
   ]
  },
  {
   "cell_type": "markdown",
   "id": "a5d5afa0",
   "metadata": {},
   "source": [
    "## **NEXT STEPS**\n",
    "\n",
    "1. **Model Performance Monitoring**\n",
    "- Ensure the models remain accurate amd relevant over time,making adjustments as necessary.\n",
    "- Regularly monitor the performance of both the Random Forest and Decision Tree Models.\n",
    "\n",
    "2. **Focus on Top Features** \n",
    "- Base the business recommendations on the top performing features; If a customer's tenure is highly predictive of churn, developing initiatives early could help improve  customer experience.\n",
    "\n",
    "3. **Continous Data Collection**\n",
    "- Invest in collecting more data and improving data quality.\n",
    "- Provider richer data for model training which leads to better predictive performance and more accurate insights.\n",
    "4. **Stakeholder Engagements**\n",
    "- Regularly engage with stakeholders to understand their eveolving needs and how model predictions can be applied.\n",
    "- Ensure the predictive models align with business goals and provide actionable insights for decision making.\n"
   ]
  },
  {
   "cell_type": "markdown",
   "id": "b4464271",
   "metadata": {},
   "source": [
    "## **PROJECT SUMMARY: CUSTOMER CHURN PREDICTION FOR SYRIATEL**"
   ]
  },
  {
   "cell_type": "markdown",
   "id": "991a9b28",
   "metadata": {},
   "source": [
    "\n",
    "This project aimed to address the critical business problem of customer churn for SyriaTel by leveraging data science techniques following the CRISP-DM methodology. We began with **Business Understanding**, defining the project objectives to build a predictive model, identify key churn drivers, and propose actionable retention strategies. The **Data Understanding** phase involved extensive exploratory data analysis (EDA) to understand the dataset's structure, feature distributions, and the relationship of various attributes with churn, highlighting significant class imbalance in the target variable and identifying potential churn indicators like high day usage and frequent customer service calls.\n",
    "\n",
    "In the **Data Preparation** phase, the data was cleaned, including dropping irrelevant identifiers like phone numbers and encoding categorical variables through binary mapping and one-hot encoding. Crucially, the dataset was split into training and testing sets, and the class imbalance in the training data was addressed using SMOTE to ensure robust model training. The **Modeling** phase involved an iterative approach, building and evaluating several classification models, including Logistic Regression and Random Forest, with both baseline and tuned versions. Model performance was rigorously assessed during the **Evaluation** phase using appropriate metrics for imbalanced data such as Precision, Recall, F1-Score, and ROC AUC on the unseen testing data.\n",
    "\n",
    "Based on the evaluation results, the Random Forest model tuned with GridSearchCV demonstrated the best performance, achieving the highest F1-Score and ROC AUC, indicating a strong balance in identifying churners while maintaining reasonable precision. The **Deployment** phase focused on interpreting this best model through feature importance analysis, confirming that day usage, customer service interactions, and international plan status were the most significant predictors of churn. These insights informed the development of actionable recommendations for SyriaTel, including targeted retention campaigns for high-risk segments, improving customer service, and re-evaluating international offerings, all aimed at proactively reducing customer attrition and mitigating revenue loss."
   ]
  }
 ],
 "metadata": {
  "kernelspec": {
   "display_name": "venv",
   "language": "python",
   "name": "python3"
  },
  "language_info": {
   "codemirror_mode": {
    "name": "ipython",
    "version": 3
   },
   "file_extension": ".py",
   "mimetype": "text/x-python",
   "name": "python",
   "nbconvert_exporter": "python",
   "pygments_lexer": "ipython3",
   "version": "3.12.7"
  }
 },
 "nbformat": 4,
 "nbformat_minor": 5
}
